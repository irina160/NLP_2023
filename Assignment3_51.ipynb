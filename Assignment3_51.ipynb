{
 "cells": [
  {
   "cell_type": "markdown",
   "metadata": {},
   "source": [
    "Please fill out the information of your group!\n",
    "\n",
    "| <p style=\"text-align: center;\">First Name</p>  | <p style=\"text-align: center;\">Family Name</p> | Matr.-No. |\n",
    "| ---------------------------------------------- | ---------------------------------------------- | -------- |\n",
    "| <p style=\"text-align: left\">Elena</p>| <p style=\"text-align: left\">Handorfer</p> | *k01556409* |\n",
    "| <p style=\"text-align: left\">Iryna</p>| <p style=\"text-align: left\">Pidsadochna</p> | *k01548323* |\n"
   ]
  },
  {
   "cell_type": "markdown",
   "metadata": {},
   "source": [
    "<h2 style=\"text-align: center\">344.075 KV: Natural Language Processing (WS2022/23)</h2>\n",
    "<h1 style=\"color:rgb(0,120,170)\">Assignment 3</h1>\n",
    "<h2 style=\"color:rgb(0,120,170)\">Document Classification with PyTorch and BERT</h2>"
   ]
  },
  {
   "cell_type": "markdown",
   "metadata": {},
   "source": [
    "<b>Terms of Use</b><br>\n",
    "This  material is prepared for educational purposes at the Johannes Kepler University (JKU) Linz, and is exclusively provided to the registered students of the mentioned course at JKU. It is strictly forbidden to distribute the current file, the contents of the assignment, and its solution. The use or reproduction of this manuscript is only allowed for educational purposes in non-profit organizations, while in this case, the explicit prior acceptance of the author(s) is required.\n",
    "\n",
    "**Authors:** Navid Rekab-saz, Oleg Lesota<br>\n"
   ]
  },
  {
   "cell_type": "markdown",
   "metadata": {},
   "source": [
    "<h2>Table of contents</h2>\n",
    "<ol>\n",
    "    <a href=\"#section-general-guidelines\"><li style=\"font-size:large;font-weight:bold\">General Guidelines</li></a>\n",
    "    <a href=\"#section-tensorboard\"><li style=\"font-size:large;font-weight:bold\">Bonus Task: Logging and Publishing Experiment Results (2 extra point)</li></a>\n",
    "    <a href=\"#section-taskA\"><li style=\"font-size:large;font-weight:bold\">Task A: Document Classification with PyTorch (25 points)</li></a>\n",
    "    <a href=\"#section-taskB\"><li style=\"font-size:large;font-weight:bold\">Task B: Document Classification with BERT (15 points)</li></a>\n",
    "    \n",
    "    \n",
    "</ol>"
   ]
  },
  {
   "cell_type": "markdown",
   "metadata": {},
   "source": [
    "<a name=\"section-general-guidelines\"></a><h2 style=\"color:rgb(0,120,170)\">General Guidelines</h2>"
   ]
  },
  {
   "cell_type": "markdown",
   "metadata": {},
   "source": [
    "### Assignment objective\n",
    "This assignment aims to provide the necessary practices for learning the principles of deep learning programing in NLP using PyTorch. To this end, Task A provides the space for becoming fully familiar with PyTorch programming by implementing a \"simple\" document (sentence) classification model with PyTorch, and Task B extends this classifier with a BERT model. As the assignment requires working with PyTorch and Huggingface Transformers, please familiarize yourself with these libraries using any possible available teaching resources in particular the libraries' documentations. The assignment has in total **40 points**, and also offers **2 extra points** which can cover any missing point.\n",
    "\n",
    "This Notebook encompasses all aspects of the assignment, namely the descriptions of tasks as well as your solutions and reports. Feel free to add any required cell for solutions. The cells can contain code, reports, charts, tables, or any other material, required for the assignment. Feel free to provide the solutions in an interactive and visual way! \n",
    "\n",
    "Please discuss any unclear point in the assignment in the provided forum in MOODLE. It is also encouraged to provide answers to your peer's questions. However when submitting a post, keep in mind to avoid providing solutions. Please let the tutor(s) know shall you find any error or unclarity in the assignment.\n"
   ]
  },
  {
   "cell_type": "markdown",
   "metadata": {},
   "source": [
    "### Libraries & Dataset\n",
    "\n",
    "The assignment should be implemented with recent versions of `Python`, `PyTorch` and, `transformers`. Any standard Python library can be used, so far that the library is free and can be simply installed using `pip` or `conda`. Examples of potentially useful libraries are `scikit-learn`, `numpy`, `scipy`, `gensim`, `nltk`, `spaCy`, and `AllenNLP`. Use the latest stable version of each library.\n",
    "\n",
    "To conduct the experiments, we use a subset of the `HumSet` dataset [1] (https://blog.thedeep.io/humset/). `HumSet` is created by the DEEP (https://www.thedeep.io) project – an open source platform which aims to facilitate processing of textual data for international humanitarian response organizations. The platform enables the classification of text excerpts, extracted from news and reports into a set of domain specific classes. The provided dataset contains the classes (labels) referring to the humanitarian sectors like agriculture, health, and protection. The dataset contains an overall number of 17,301 data points. \n",
    "\n",
    "Download the dataset from the Moodle page of the course.\n",
    "\n",
    "the provided zip file consists of the following files:\n",
    "- `thedeep.subset.train.txt`: Train set in csv format with three fields: sentence_id, text, and label.\n",
    "- `thedeep.subset.validation.txt`: Validation set in csv format with three fields: sentence_id, text, and label.\n",
    "- `thedeep.subset.test.txt`: Test set in csv format with three fields: sentence_id, text, and label.\n",
    "- `thedeep.subset.label.txt`: Captions of the labels.\n",
    "- `thedeep.ToU.txt`: Terms of use of the dataset.\n",
    "\n",
    "[1] HumSet: Dataset of Multilingual Information Extraction and Classification for Humanitarian Crises Response\n",
    "*Selim Fekih, Nicolo' Tamagnone, Benjamin Minixhofer, Ranjan Shrestha, Ximena Contla, Ewan Oglethorpe and Navid Rekabsaz.* \n",
    "In Findings of the 2022 Conference on Empirical Methods in Natural Language Processing (Findings of EMNLP), December 2022.\n"
   ]
  },
  {
   "cell_type": "markdown",
   "metadata": {},
   "source": [
    "### Submission\n",
    "\n",
    "Each group should submit the following two files:\n",
    "\n",
    "- One Jupyter Notebook file (`.ipynb`), containing all the code, results, visualizations, etc. **In the submitted Notebook, all the results and visualizations should already be present, and can be observed simply by loading the Notebook in a browser.** The Notebook must be self-contained, meaning that (if necessary) one can run all the cells from top to bottom without any error. Do not forget to put in your names and student numbers in the first cell of the Notebook. \n",
    "- The HTML file (`.html`) achieved from exporting the Jupyter Notebook to HTML (Download As HTML).\n",
    "\n",
    "You do not need to include the data files in the submission.\n",
    "\n"
   ]
  },
  {
   "cell_type": "markdown",
   "metadata": {},
   "source": [
    "<a name=\"section-tensorboard\"></a><h2 style=\"color:rgb(0,120,170)\">Bonus Task: Logging and Publishing Experiment Results (2 extra point)</h2>"
   ]
  },
  {
   "cell_type": "markdown",
   "metadata": {},
   "source": [
    "In all experiments of this assignment, use any experiment monitoring tool like [`TensorBoard`](https://www.tensorflow.org/tensorboard), [`wandb`](https://wandb.ai) to log and store all useful information about the training and evaluation of the models. Feel free to log any important aspect in particular the changes in evaluation results on validation, in training loss, and in learning rate.\n",
    "\n",
    "After finalizing all experiments and cleaning any unnecessary experiment, **provide the URL to the results monitoring page below**.\n",
    "\n",
    "For instance if using [`TensorBoard.dev`](https://tensorboard.dev), you can run the following command in the folder of log files: `tensorboard dev upload --name my_exp --logdir path/to/output_dir`, and take the provided URL to the TensorBoard's console.\n"
   ]
  },
  {
   "cell_type": "markdown",
   "metadata": {},
   "source": [
    "**URL :** For classification average model: https://wandb.ai/wtvr/model-A-new/table\n",
    "For BERT: https://wandb.ai/wtvr/bert-2/sweeps/41kp8b0j/table"
   ]
  },
  {
   "cell_type": "markdown",
   "metadata": {},
   "source": [
    "<a name=\"section-taskA\"></a><h2 style=\"color:rgb(0,120,170)\">Task A: Document Classification with PyTorch (25 points)</h2>"
   ]
  },
  {
   "cell_type": "markdown",
   "metadata": {},
   "source": [
    "The aim of this task is identical to the one of Assignment 2 - Task B, namely to design a document classification model that exploits pre-trained word embeddings. It is of course allowed to use the preprocessed text, the dictionary, or any other relevant code or processings, done in the previous assignments.\n",
    "\n",
    "In this task, you implement a document classification model using PyTorch, which given a document/sentence (consisting of a set of words) predicts the corresponding class. Before getting started with coding, have a look at the <a href=\"#section-tensorboard\">optional task</a>, as you may want to already include `Tensorboard` in the code. The implementation of the classifier should cover the points below.\n",
    "\n",
    "**Preprocessing and dictionary (1 point):** Following previous assignments, load the train, validation, and test datasets, apply necessary preprocessing steps, and create a dictionary of words. \n",
    "\n",
    "**Data batching (4 points):** Using the dictionary, create batches for any given dataset (train/validation/test). Each batch is a two-dimensional matrix of *batch-size* to *max-document-length*, containing the IDs of the words in the corresponding documents. *Batch-size* and *max-document-length* are two hyper-parameters and can be set to any appropriate values (*Batch-size* must be higher than 1 and *max-document-length* at least 50 words). If a document has more than *max-document-length* words, only the first *max-document-length* words should be kept.\n",
    "\n",
    "**Word embedding lookup (2 point):** Using `torch.nn.Embedding`, create a lookup for the embeddings of all the words in the dictionary. The lookup is in fact a matrix, which maps the ID of each word to the corresponding word vector. Similar to Assignment 2, use the pre-trained vectors of a word embedding model (like word2vec or GloVe) to initialize the word embeddings of the lookup. Keep in mind that the embeddings of the words in the lookup should be matched with the correct vector in the pretrained word embedding. If the vector of a word in the lookup does not exist in the pretrained word embeddings, the corresponding vector should be initialized randomly. \n",
    "\n",
    "**Model definition (3 points):** Define the class `ClassificationAverageModel` as a PyTorch model. In the initialization procedure, the model receives the word embedding lookup, and includes it in the model as model's parameters. These embeddings parameters should be trainable, meaning that the word vectors get updated during model training. Feel free to add any other parameters to the model, which might be necessary for accomplishing the functionalities explained in the following.\n",
    "\n",
    "**Forward function (5 points):** The forward function of the model receives a batch of data, and first fetches the corresponding embeddings of the word IDs in the batch using the lookup. Similar to Assignment 2, the embedding of a document is created by calculating the *element-wise mean* of the embeddings of the document's words. Formally, given the document $d$, consisting of words $\\left[ v_1, v_2, ..., v_{|d|} \\right]$, the document representation $\\mathbf{e}_d$ is defined as:\n",
    "\n",
    "<center><div>$\\mathbf{e}_d = \\frac{1}{|d|}\\sum_{i=1}^{|d|}{\\mathbf{e}_{v_i}}$</div></center>\n",
    "\n",
    "where $\\mathbf{e}_{v}$ is the vector of the word $v$, and $|d|$ is the length of the document. An important point in the implementation of this formula is that the documents in the batch might have different lengths and therefore each document should be divided by its corresponding $|d|$. Finally, this document embedding is utilized to predict the probability of the output classes, done by applying a linear transformation from the embeddings size to the number of classes, followed by Softmax. The linear transformation also belongs to the model's parameters and will be learned in training.\n",
    "\n",
    "**Loss Function and optimization (2 point):** The loss between the predicted and the actual classes is calculated using Negative Log Likelihood or Cross Entropy. Update the model's parameters using any appropriate optimization mechanism such as Adam.\n",
    "\n",
    "**Early Stopping (2 points):** After each epoch, evaluate the model on the *validation set* using accuracy. If the evaluation result (accuracy) improves, save the model as the best performing one so far. If the results are not improving after a certain number of evaluation rounds (set as another hyper-parameter) or if training reaches a certain number of epochs, terminate the training procedure. \n",
    "\n",
    "**Test Set Evaluation (1 point):** After finishing the training, load the (already stored) best performing model, and use it for class prediction on the test set.\n",
    "\n",
    "**Reporting (1 point):** During loading and processing the collection, provide sufficient information and examples about the data and the applied processing steps. Report the results of the best performing model on the validation and test set in a table.\n",
    "\n",
    "**Overall functionality of the training procedure (4 point).**\n"
   ]
  },
  {
   "cell_type": "code",
   "execution_count": 2,
   "metadata": {},
   "outputs": [],
   "source": [
    "# Preprocessing and dictionary (1 point): \n",
    "# Following previous assignments, load the train, validation, and test datasets, \n",
    "# apply necessary preprocessing steps, and create a dictionary of words. "
   ]
  },
  {
   "cell_type": "code",
   "execution_count": 43,
   "metadata": {},
   "outputs": [],
   "source": [
    "import os\n",
    "import glob\n",
    "import re\n",
    "import itertools\n",
    "import pandas as pd\n",
    "import numpy as np\n",
    "import nltk\n",
    "from nltk.tokenize import MWETokenizer\n",
    "from nltk.stem import WordNetLemmatizer, PorterStemmer\n",
    "from nltk.corpus import stopwords\n",
    "from collections import Counter\n",
    "import itertools\n",
    "import random\n",
    "import torch\n",
    "from torch import nn"
   ]
  },
  {
   "cell_type": "code",
   "execution_count": 44,
   "metadata": {},
   "outputs": [],
   "source": [
    "# helper functions\n",
    "\n",
    "# function to split the data into text and labels\n",
    "def split_into_texts_and_labels(data):\n",
    "    labels = []\n",
    "    texts = data.split('\\n')\n",
    "    texts = [text for text in texts if len(text)>0]\n",
    "    for i, text in enumerate(texts):\n",
    "        try:\n",
    "            nr = int(text[-1])\n",
    "            labels.append(text[-1])\n",
    "            texts[i] = ''.join(list(text)[:-2])\n",
    "        except:\n",
    "            break\n",
    "    return texts, labels\n",
    "\n",
    "\n",
    "# apply some basic preprocessing methods\n",
    "# such as replacing all the dates and numbers with a special token \n",
    "# and removing special characters\n",
    "def perform_basic_preprocessing(text):\n",
    "    text = text.lower()\n",
    "\n",
    "    # replace the dates with <date>\n",
    "    for d in re.finditer('\\d{1,2}[/-]\\d{1,2}[/-]\\d{2,4}', text):\n",
    "        text = text.replace(str(d.group()), '<date>')\n",
    "\n",
    "    for d in re.finditer(r'(\\d{1,2}[\\s]?|\\d{1,2}[\\s]?th[\\s]?)?(?:january|february|march|april|may|june|july|august|september|october|november|december|jan|feb|mar|apr|may|jun|jul|aug|sep|oct|nov|dec)[\\s-]?(\\d{1,2})?[,\\s-]?[\\s]?\\d{4}', text, re.I|re.M):\n",
    "        text = text.replace(str(d.group()), '<date>')\n",
    "\n",
    "    for d in re.finditer(r'(\\d{1,2}|\\d{1,2}[\\s]?th)[\\s]?(?:january|february|march|april|may|june|july|august|september|october|november|december|jan|feb|mar|apr|may|jun|jul|aug|sep|oct|nov|dec)', text, re.I|re.M):  \n",
    "        text = text.replace(str(d.group()), '<date>')\n",
    "\n",
    "    for d in re.finditer(r'\\d{1,2}[/-]\\d{4}', text, re.M|re.I):\n",
    "        text = text.replace(str(d.group()), '<date>')\n",
    "        \n",
    "    # replace the remaining numbers with <num>\n",
    "    text = re.sub('[0-9]*[[,.]?[0-9]+]*', '<num>', text)\n",
    "    \n",
    "    # remove all special characters besides <>\n",
    "    text = re.sub('([^a-z<>])+', ' ', text)\n",
    "\n",
    "    return text\n",
    "\n",
    "# split the text into single tokens\n",
    "def perform_tokenization(text):\n",
    "    stop_words = set(stopwords.words('english'))\n",
    "    lemmatizer = WordNetLemmatizer()\n",
    "\n",
    "    # define tokenizer for special tokens\n",
    "    tokenizer = MWETokenizer([('<', 'num', '>'), ('<', 'date', '>')])\n",
    "    tokens = tokenizer.tokenize(nltk.word_tokenize(text))\n",
    "    \n",
    "    # remove stop words\n",
    "    tokens = [token for token in tokens if not token in stop_words]\n",
    "    # perform lemmatization\n",
    "    tokens = [lemmatizer.lemmatize(token) for token in tokens]\n",
    "    return tokens"
   ]
  },
  {
   "cell_type": "code",
   "execution_count": 3,
   "metadata": {},
   "outputs": [],
   "source": [
    "# Load the train, validation, and test sets. \n",
    "files = glob.glob(os.path.join('nlp2023_24_data', '**', '*'))\n",
    "\n",
    "for file in files:\n",
    "    if os.path.basename(file).__contains__('train'):\n",
    "        with open(file, 'r') as fh:\n",
    "            train_data = fh.read()\n",
    "    elif os.path.basename(file).__contains__('test'):\n",
    "        with open(file, 'r') as fh:\n",
    "            test_data = fh.read()\n",
    "    elif os.path.basename(file).__contains__('validation'):\n",
    "        with open(file, 'r') as fh:\n",
    "            val_data = fh.read()\n",
    "    elif os.path.basename(file).__contains__('labels'):\n",
    "        with open(file, 'r') as fh:\n",
    "            labels = fh.read()"
   ]
  },
  {
   "cell_type": "code",
   "execution_count": 45,
   "metadata": {},
   "outputs": [
    {
     "name": "stdout",
     "output_type": "stream",
     "text": [
      "no data in C:/Users/irina/Documents/AI/NLP/nlp2023_24_data\\thedeep.subset.tr1_ignore.txt\n",
      "no data in C:/Users/irina/Documents/AI/NLP/nlp2023_24_data\\thedeep.ToU.txt\n"
     ]
    }
   ],
   "source": [
    "# IGNORE, this was added bcs. the next cell did not work on one of the laptops\n",
    "#Load the train, validation, and test sets\n",
    "files = glob.glob(os.path.join('C:/Users/irina/Documents/AI/NLP/nlp2023_24_data', '**', '*'), recursive = True)\n",
    "\n",
    "for file in files:\n",
    "    #if os.path.basename(file).__contains__('train'):\n",
    "    if \"train\" in file:\n",
    "        with open(file, 'r', encoding = 'utf-8') as fh:\n",
    "            train_data = fh.read()\n",
    "    #elif os.path.basename(file).__contains__('test'):\n",
    "    elif \"test\" in file:\n",
    "        with open(file, 'r', encoding = 'utf-8') as fh:\n",
    "            test_data = fh.read()\n",
    "    #elif os.path.basename(file).__contains__('validation'):\n",
    "    elif \"validation\" in file:\n",
    "        with open(file, 'r', encoding = 'utf-8') as fh:\n",
    "            val_data = fh.read()\n",
    "    #elif os.path.basename(file).__contains__('labels'):\n",
    "    elif \"labels\" in file:\n",
    "        with open(file, 'r', encoding = 'utf-8') as fh:\n",
    "            labels = fh.read()\n",
    "    else:\n",
    "        print(f\"no data in {file}\")\n",
    "\n",
    "\n",
    "train_texts, train_labels = split_into_texts_and_labels(train_data)\n",
    "val_texts, val_labels = split_into_texts_and_labels(val_data)\n",
    "test_texts, test_labels = split_into_texts_and_labels(test_data)"
   ]
  },
  {
   "cell_type": "code",
   "execution_count": 46,
   "metadata": {},
   "outputs": [
    {
     "name": "stderr",
     "output_type": "stream",
     "text": [
      "C:\\Users\\irina\\AppData\\Local\\Temp\\ipykernel_8840\\4152795208.py:38: FutureWarning: Possible nested set at position 7\n",
      "  text = re.sub('[0-9]*[[,.]?[0-9]+]*', '<num>', text)\n"
     ]
    }
   ],
   "source": [
    "# split each data file into a list of texts and a list of their corresponding labels\n",
    "train_texts, train_labels = split_into_texts_and_labels(train_data)\n",
    "val_texts, val_labels = split_into_texts_and_labels(val_data)\n",
    "test_texts, test_labels = split_into_texts_and_labels(test_data)\n",
    "# print(len(train_texts))\n",
    "\n",
    "# get a list of tokens (tokens_per_text) for each preprocessed text in the training data \n",
    "tokens_per_text_train = []\n",
    "for text in train_texts:\n",
    "    # print(text)\n",
    "    tokens_per_text_train.append(perform_tokenization(perform_basic_preprocessing(text)))"
   ]
  },
  {
   "cell_type": "code",
   "execution_count": 47,
   "metadata": {},
   "outputs": [],
   "source": [
    "# generate one dictionary containing all tokens that appear accross all texts \n",
    "# and count the number of their overall occurences\n",
    "word_dict = dict(Counter(list(itertools.chain(*tokens_per_text_train))))\n",
    "# sort the dictionary by the number of word occurences\n",
    "word_dict = dict(sorted(word_dict.items(), key=lambda x:x[1], reverse=True))\n",
    "\n",
    "threshold = 100\n",
    "smaller_word_dict = {k:v for (k,v) in word_dict.items() if v > threshold}"
   ]
  },
  {
   "cell_type": "code",
   "execution_count": 48,
   "metadata": {},
   "outputs": [
    {
     "data": {
      "text/plain": [
       "951"
      ]
     },
     "execution_count": 48,
     "metadata": {},
     "output_type": "execute_result"
    }
   ],
   "source": [
    "len(smaller_word_dict)"
   ]
  },
  {
   "cell_type": "code",
   "execution_count": 49,
   "metadata": {},
   "outputs": [
    {
     "name": "stdout",
     "output_type": "stream",
     "text": [
      "12110\n"
     ]
    }
   ],
   "source": [
    "print(len(train_texts))"
   ]
  },
  {
   "cell_type": "code",
   "execution_count": 50,
   "metadata": {},
   "outputs": [],
   "source": [
    "'''\n",
    "Data batching (4 points): \n",
    "Using the dictionary, create batches for any given dataset (train/validation/test). \n",
    "Each batch is a two-dimensional matrix of batch-size to max-document-length, \n",
    "containing the IDs of the words in the corresponding documents. \n",
    "Batch-size and max-document-length are two hyper-parameters and can be set to any appropriate values \n",
    "(Batch-size must be higher than 1 and max-document-length at least 50 words). \n",
    "If a document has more than max-document-length words, only the first max-document-length words should be kept.\n",
    "'''\n",
    "\n",
    "# two hyperparams\n",
    "bs = 16 # 32, 64...\n",
    "max_doc_len = 80 \n",
    "\n",
    "# smaller_word_dict => key is word, value is occurence\n",
    "# can add OOV to smaller_word_dict\n",
    "smaller_word_dict['oov'] = 0\n",
    "\n",
    "def get_batch(bs, max_doc_len, dataset, word_dict):\n",
    "    \n",
    "    batch = np.zeros((bs, max_doc_len))\n",
    "    current_pos = 0\n",
    "    mult_factor = 0\n",
    "    \n",
    "    for i, data_point in enumerate(dataset):\n",
    "        if i+bs >= len(dataset):\n",
    "            break\n",
    "        if i % bs == 0 and i > 0:\n",
    "            current_pos += bs\n",
    "            yield torch.IntTensor(batch), current_pos\n",
    "            mult_factor += 1\n",
    "        \n",
    "        counter = itertools.count(0)\n",
    "        # discard words that are not in the word_dict\n",
    "        doc_word_ids = [list(word_dict).index(word) for word in (perform_tokenization(perform_basic_preprocessing(data_point))) if word in word_dict.keys() and next(counter) < max_doc_len]\n",
    "        \n",
    "        if len(doc_word_ids) < max_doc_len:\n",
    "            # print(np.array(doc_word_ids).shape)\n",
    "            # print(np.full((max_doc_len-len(doc_word_ids)), list(word_dict).index('oov')).shape)\n",
    "            batch[i-(bs*mult_factor)] = np.concatenate((np.array(doc_word_ids), np.full((max_doc_len-len(doc_word_ids)), list(word_dict).index('oov'))), axis=0)\n",
    "        else:\n",
    "            batch[i-(bs*mult_factor)] = np.array(doc_word_ids)"
   ]
  },
  {
   "cell_type": "code",
   "execution_count": 51,
   "metadata": {},
   "outputs": [],
   "source": [
    "'''\n",
    "Word embedding lookup (2 point): Using torch.nn.Embedding, create a lookup for the embeddings of all the words \n",
    "in the dictionary. The lookup is in fact a matrix, which maps the ID of each word to the corresponding word vector. \n",
    "Similar to Assignment 2, use the pre-trained vectors of a word embedding model (like word2vec or GloVe)\n",
    "to initialize the word embeddings of the lookup. Keep in mind that the embeddings of the words in the lookup \n",
    "should be matched with the correct vector in the pretrained word embedding. If the vector of a word in the lookup \n",
    "does not exist in the pretrained word embeddings, the corresponding vector should be initialized randomly.\n",
    "'''\n",
    "\n",
    "glove_file_path = 'glove.6B.300d.txt'# or 'glove.42B.300d.txt' \n",
    "\n",
    "embeddings_dict = {}\n",
    "with open(glove_file_path, 'r', encoding = 'utf-8') as f:\n",
    "    for line in f:\n",
    "        values = line.split()\n",
    "        word = values[0]\n",
    "        vector = np.asarray(values[1:], 'float32')\n",
    "        embeddings_dict[word] = vector\n",
    "# print(embeddings_dict['dog']) \n",
    "\n",
    "# can also create a new dictionary where we map each word to an index\n",
    "# word2idx = {w:i for i,w in enumerate(smaller_word_dict.keys())}\n",
    "        \n",
    "embed_lookup = nn.Embedding(len(smaller_word_dict), 300)\n",
    "pretrained_weights = []\n",
    "for word in smaller_word_dict.keys():\n",
    "    try:\n",
    "        pretrained_weights.append(embeddings_dict[word])\n",
    "    except:\n",
    "        pretrained_weights.append(np.random.normal(0, 0.5, 300))\n",
    "\n",
    "embed_lookup.weight.data.copy_(torch.from_numpy(np.array(pretrained_weights)))\n",
    "\n",
    "ids = [list(smaller_word_dict).index(word) for word in smaller_word_dict.keys()]\n",
    "word_vecs = embed_lookup(torch.LongTensor(ids)) "
   ]
  },
  {
   "cell_type": "code",
   "execution_count": 52,
   "metadata": {
    "scrolled": true
   },
   "outputs": [
    {
     "name": "stdout",
     "output_type": "stream",
     "text": [
      "tensor([ 0.4474,  0.5997, -0.8845,  0.1718, -0.4881,  0.1382, -0.3791,  0.4749,\n",
      "        -0.8460,  0.1347,  0.7484,  0.9639,  0.1822,  0.5683, -0.0944,  0.1287,\n",
      "         0.1187,  0.3558,  0.0914, -0.9682,  0.0420,  0.0130,  0.1646,  0.2780,\n",
      "        -0.2423, -0.6372,  0.0233, -0.3599,  1.4464, -0.7549, -0.4823,  0.1962,\n",
      "         0.1316, -0.3924,  0.4257, -0.0911,  0.0301, -0.3863, -0.2527,  0.1570,\n",
      "        -0.2738,  0.0095,  0.3928, -0.2061,  0.3126, -0.4598,  0.3080, -1.3045,\n",
      "        -0.3946,  1.2425, -0.0611,  0.3161,  0.4536, -0.1094, -0.2204, -0.2818,\n",
      "        -0.2017,  0.2625,  0.0248, -0.0565,  0.1757,  0.7569, -0.5968,  0.0465,\n",
      "        -0.2183,  0.9389,  0.3078, -0.1154, -0.7391, -0.3800, -0.4645,  0.2780,\n",
      "        -0.2647, -0.9516, -0.0704,  0.5899, -0.4392,  0.1348,  0.4470,  0.2721,\n",
      "         0.0690,  0.2861,  1.1779,  0.1798,  0.5050, -0.5800, -0.8891, -0.1692,\n",
      "         0.4732, -0.8665,  0.4853, -0.6024, -0.4087, -0.1881,  0.2262, -0.5289,\n",
      "        -1.3981, -0.7947, -0.4729,  0.9616,  0.2971, -0.2838,  1.4330,  0.8637,\n",
      "        -0.2178,  0.3209, -0.0902,  0.1614,  0.2111,  0.4926, -1.1977,  0.2917,\n",
      "        -0.1955, -0.0788, -0.1363, -0.0097,  0.3391, -0.0981, -0.0959, -0.2241,\n",
      "         0.4208,  0.3020, -0.2364,  0.4621, -0.0359, -0.4496, -0.2557, -0.4767,\n",
      "        -0.3993,  0.5688, -0.2848, -0.6377, -0.1899,  0.0300,  0.1043,  0.4750,\n",
      "        -0.3007, -0.0974, -1.2325, -0.2356, -0.7565, -0.1860,  0.5740,  0.5288,\n",
      "         0.3926,  0.1836, -0.4891, -0.1807, -0.3095, -0.2665,  0.5107,  0.2168,\n",
      "        -0.3202,  0.1348, -0.2564,  0.0981, -0.1181, -1.0781, -0.3885,  0.1562,\n",
      "         0.5054, -0.5824,  0.5243, -0.2155, -0.1842, -0.0969,  0.6150,  0.5953,\n",
      "        -0.2818, -0.2091,  0.3325,  0.8047,  0.2655, -0.3689,  0.3760,  1.0263,\n",
      "         0.2924, -0.1572, -0.6662,  0.3822,  0.7943, -0.1189,  0.0132,  0.0140,\n",
      "        -0.1152, -0.4137, -0.7904,  0.2221, -0.1140, -0.3271, -0.3891, -0.1133,\n",
      "         0.2994, -0.6230, -0.8086, -0.2975, -0.1608, -0.3292, -0.5483, -0.1872,\n",
      "        -0.1956, -0.2257,  0.3331,  0.6183,  0.2527,  0.3704,  0.3579,  0.0912,\n",
      "        -0.4117, -0.0832,  0.0694,  0.4995, -0.1821,  1.1132, -1.1502,  0.2617,\n",
      "         0.2898, -0.1046, -0.5207,  0.4916, -0.0929, -0.7695,  0.6812,  0.1081,\n",
      "        -0.0343, -0.7408,  0.0172, -0.7692, -0.0478, -0.3330, -0.6830,  1.0236,\n",
      "         0.1095, -0.8375,  0.1435,  0.5062,  0.5583,  0.0444, -0.5030, -0.5309,\n",
      "         0.9229,  0.0435, -0.2442,  0.4183,  0.9223,  0.1958,  0.2792,  0.8921,\n",
      "         0.3841,  1.1667, -0.3586, -0.3573,  0.7871, -0.1285, -0.0893, -0.3281,\n",
      "         0.6115, -0.2953, -0.2388,  0.8066,  0.2321,  0.1132,  0.2915,  0.6682,\n",
      "        -1.0967, -0.0177, -0.4782, -0.2910,  0.4284,  0.3689,  0.2662, -0.5813,\n",
      "        -0.5275,  0.3659,  0.3736, -0.3374,  0.4608, -0.2425,  0.3911, -0.9742,\n",
      "        -0.3460,  0.8954, -1.3366,  0.0532, -0.5399,  0.0630, -0.4415,  0.2521,\n",
      "        -0.3071,  0.8812,  0.0805,  0.0217,  1.2272, -0.6401, -0.2472,  1.1052,\n",
      "         0.7090,  1.0350,  0.5476, -0.1739], grad_fn=<SelectBackward0>)\n"
     ]
    }
   ],
   "source": [
    "print(word_vecs[0])"
   ]
  },
  {
   "cell_type": "code",
   "execution_count": 54,
   "metadata": {
    "scrolled": true
   },
   "outputs": [
    {
     "name": "stdout",
     "output_type": "stream",
     "text": [
      "tensor([[-0.0966,  0.1000,  0.0065, -0.0038, -0.1323,  0.0762, -0.1063, -0.0570,\n",
      "         -0.0066,  0.0486, -0.0602,  0.1530],\n",
      "        [ 0.0076, -0.0334,  0.0036,  0.0051, -0.0372, -0.0046, -0.0469,  0.0012,\n",
      "          0.0536, -0.0341, -0.0315,  0.0283],\n",
      "        [-0.0062, -0.0151,  0.0006,  0.0055, -0.0555,  0.0075, -0.0563, -0.0048,\n",
      "          0.0431, -0.0196, -0.0423,  0.0372],\n",
      "        [-0.0155, -0.0054,  0.0065,  0.0090, -0.0531,  0.0099, -0.0576, -0.0063,\n",
      "          0.0411, -0.0182, -0.0443,  0.0441],\n",
      "        [ 0.0196, -0.0425,  0.0060,  0.0052, -0.0305, -0.0148, -0.0425,  0.0032,\n",
      "          0.0548, -0.0372, -0.0299,  0.0175],\n",
      "        [-0.0262,  0.0110,  0.0043,  0.0076, -0.0686,  0.0086, -0.0622, -0.0157,\n",
      "          0.0379, -0.0114, -0.0426,  0.0545],\n",
      "        [ 0.0124, -0.0375, -0.0003,  0.0071, -0.0456, -0.0041, -0.0466,  0.0024,\n",
      "          0.0481, -0.0305, -0.0503,  0.0354],\n",
      "        [-0.0077, -0.0160,  0.0035,  0.0041, -0.0528,  0.0071, -0.0557, -0.0024,\n",
      "          0.0426, -0.0224, -0.0453,  0.0368],\n",
      "        [ 0.0077, -0.0313,  0.0048,  0.0067, -0.0477, -0.0058, -0.0513,  0.0060,\n",
      "          0.0526, -0.0309, -0.0443,  0.0239],\n",
      "        [-0.1366,  0.1538,  0.0143,  0.0023, -0.1617,  0.1130, -0.1256, -0.0720,\n",
      "         -0.0283,  0.0637, -0.0689,  0.1947],\n",
      "        [-0.0204,  0.0050,  0.0034,  0.0066, -0.0624,  0.0170, -0.0612, -0.0116,\n",
      "          0.0362, -0.0120, -0.0471,  0.0570],\n",
      "        [-0.0186,  0.0029,  0.0015,  0.0097, -0.0656,  0.0145, -0.0664, -0.0050,\n",
      "          0.0388, -0.0132, -0.0407,  0.0580],\n",
      "        [ 0.0176, -0.0414,  0.0012,  0.0043, -0.0247, -0.0125, -0.0446,  0.0068,\n",
      "          0.0579, -0.0389, -0.0364,  0.0161],\n",
      "        [ 0.0004, -0.0251,  0.0032,  0.0062, -0.0440, -0.0049, -0.0468, -0.0045,\n",
      "          0.0556, -0.0303, -0.0442,  0.0308],\n",
      "        [-0.1377,  0.1614,  0.0089, -0.0003, -0.1749,  0.1186, -0.1286, -0.0742,\n",
      "         -0.0335,  0.0708, -0.0795,  0.2001],\n",
      "        [-0.1097,  0.1061,  0.0145,  0.0053, -0.1411,  0.0797, -0.0981, -0.0546,\n",
      "         -0.0043,  0.0453, -0.0636,  0.1399]], grad_fn=<AddmmBackward0>)\n"
     ]
    }
   ],
   "source": [
    "'''\n",
    "Model definition (3 points): Define the class ClassificationAverageModel as a PyTorch model. \n",
    "In the initialization procedure, the model receives the word embedding lookup, \n",
    "and includes it in the model as model's parameters. These embeddings parameters should be trainable, \n",
    "meaning that the word vectors get updated during model training. Feel free to add any other parameters to the model, \n",
    "which might be necessary for accomplishing the functionalities explained in the following.\n",
    "'''\n",
    "\n",
    "'''\n",
    "Forward function (5 points): The forward function of the model receives a batch of data, \n",
    "and first fetches the corresponding embeddings of the word IDs in the batch using the lookup. \n",
    "Similar to Assignment 2, the embedding of a document is created by calculating the element-wise mean of \n",
    "the embeddings of the document's words. '''\n",
    "\n",
    "\n",
    "class ClassificationAverageModel(nn.Module):\n",
    "    \n",
    "    def __init__(self, lookup, docs, bs):\n",
    "        super(ClassificationAverageModel, self).__init__()\n",
    "        self.lookup = nn.Parameter(lookup)\n",
    "        self.lookup.requires_grad = True\n",
    "        \n",
    "        self.bs = bs\n",
    "        self.docs = docs\n",
    "        self.linear = nn.Linear(300, 12)\n",
    "        \n",
    "        \n",
    "    def forward(self, batch, current_pos):\n",
    "        e_ds = []\n",
    "        for i, doc_ids in enumerate(batch):\n",
    "            doc_embeds = self.lookup[doc_ids.tolist()] \n",
    "            e_ds.append(np.sum(doc_embeds.tolist(), axis=0)/len(self.docs[current_pos-self.bs+i]))\n",
    "        \n",
    "        return self.linear(torch.from_numpy(np.array(e_ds)).float())\n",
    "    \n",
    "c = ClassificationAverageModel(word_vecs, train_texts, bs)\n",
    "for b, counter in get_batch(bs, max_doc_len, train_texts, smaller_word_dict):\n",
    "    print(c.forward(b, counter))\n",
    "    break"
   ]
  },
  {
   "cell_type": "code",
   "execution_count": 55,
   "metadata": {
    "scrolled": true
   },
   "outputs": [
    {
     "data": {
      "text/plain": [
       "True"
      ]
     },
     "execution_count": 55,
     "metadata": {},
     "output_type": "execute_result"
    }
   ],
   "source": [
    "import wandb\n",
    "\n",
    "wandb.login()"
   ]
  },
  {
   "cell_type": "code",
   "execution_count": 56,
   "metadata": {},
   "outputs": [],
   "source": [
    "model_config = {\n",
    "    \"method\": \"bayes\",\n",
    "    #\"name\": \"sweep\",\n",
    "    \"metric\": {\"goal\": \"maximize\", \"name\": \"val_acc\"},\n",
    "    \"parameters\": {\n",
    "        \"batch_size\": {\"values\": [16, 32]},\n",
    "        #\"dropout\": {\"values\": [0.2, 0.25]},\n",
    "        \"lr\": {\"max\": 0.01, \"min\": 0.001},\n",
    "    },\n",
    "}\n",
    "\n",
    "#sweep_id = wandb.sweep(sweep_config, entity=\"iryna160\", project=\"bert-1\")\n",
    "# Initialize a new wandb run\n",
    "#wandb.init(config=sweep_config)\n",
    "\n",
    "# Config is a variable that holds and saves hyperparameters and inputs\n",
    "#config = wandb.config"
   ]
  },
  {
   "cell_type": "code",
   "execution_count": 57,
   "metadata": {
    "scrolled": true
   },
   "outputs": [],
   "source": [
    "'''\n",
    "Loss Function and optimization (2 point): \n",
    "The loss between the predicted and the actual classes is calculated using Negative Log Likelihood or Cross Entropy.\n",
    "Update the model's parameters using any appropriate optimization mechanism such as Adam.\n",
    "'''\n",
    "\n",
    "'''\n",
    "Early Stopping (2 points): After each epoch, evaluate the model on the validation set \n",
    "using accuracy. If the evaluation result (accuracy) improves, save the model as \n",
    "the best performing one so far. If the results are not improving after a certain \n",
    "number of evaluation rounds (set as another hyper-parameter) or if training reaches a \n",
    "certain number of epochs, terminate the training procedure.\n",
    "''' \n",
    "\n",
    "\n",
    "#loss_fct = nn.CrossEntropyLoss() # already has softmax\n",
    "nr_epochs = 100\n",
    "\n",
    "def train_and_val(config = None):\n",
    "    with wandb.init(config=config):\n",
    "        config = wandb.config\n",
    "        count = 0\n",
    "        old_acc = 0\n",
    "        model = ClassificationAverageModel(word_vecs, train_texts, config.batch_size)\n",
    "        optim = torch.optim.Adam(model.parameters(), config.lr)\n",
    "        loss_fct = nn.CrossEntropyLoss()\n",
    "        \n",
    "        for epoch in range(nr_epochs):\n",
    "            for batch, current_pos in get_batch(config.batch_size, max_doc_len, train_texts, smaller_word_dict):\n",
    "                optim.zero_grad()\n",
    "                out = model(batch, current_pos)\n",
    "                labels = train_labels[current_pos-config.batch_size:current_pos]\n",
    "                labels_tensor =  torch.tensor(np.array(labels).astype('int'))\n",
    "                labels_tensor = labels_tensor.long()\n",
    "                \n",
    "                loss = loss_fct(out,labels_tensor)\n",
    "                \n",
    "                loss.backward()\n",
    "                optim.step()\n",
    "            \n",
    "            # early stopping at the end of every epoch\n",
    "            acc = 0\n",
    "            nr_batches = 0\n",
    "\n",
    "            if epoch % 20 == 0:\n",
    "                print(loss)\n",
    "    \n",
    "            with torch.no_grad():\n",
    "                for val_batch, val_current_pos in get_batch(config.batch_size, max_doc_len, val_texts, smaller_word_dict):\n",
    "                    out = model(val_batch, val_current_pos)\n",
    "                    # get max of out\n",
    "                    pred = torch.argmax(out, dim=1)\n",
    "                    acc += (torch.sum(pred == torch.tensor(np.array(val_labels[val_current_pos-config.batch_size:val_current_pos]).astype('int'))).item() / config.batch_size)\n",
    "                    nr_batches += 1\n",
    "                acc /= nr_batches\n",
    "                wandb.log({\"epoch\": epoch, \"loss\": loss, \"val_acc\":acc}, step=epoch)\n",
    "    \n",
    "    \n",
    "                count +=1\n",
    "                if acc > old_acc:\n",
    "                    old_acc = acc\n",
    "                    print(f\"{acc=}\")\n",
    "                    # save_model\n",
    "                    # torch.save(model.state_dict(), PATH)\n",
    "                    torch.save(model.state_dict(), f'best_model_{config.batch_size}_{config.lr}.pth')\n",
    "                    count = 0\n",
    "                if count > 10:\n",
    "                    # end training\n",
    "                    break  \n",
    "                    print('Problem')"
   ]
  },
  {
   "cell_type": "code",
   "execution_count": 34,
   "metadata": {
    "scrolled": true
   },
   "outputs": [
    {
     "name": "stdout",
     "output_type": "stream",
     "text": [
      "Create sweep with ID: pfuiarmq\n",
      "Sweep URL: https://wandb.ai/wtvr/model-A-new/sweeps/pfuiarmq\n"
     ]
    },
    {
     "name": "stderr",
     "output_type": "stream",
     "text": [
      "\u001b[34m\u001b[1mwandb\u001b[0m: Agent Starting Run: cw3kw4oj with config:\n",
      "\u001b[34m\u001b[1mwandb\u001b[0m: \tbatch_size: 16\n",
      "\u001b[34m\u001b[1mwandb\u001b[0m: \tlr: 0.0033177076992775105\n"
     ]
    },
    {
     "data": {
      "text/html": [
       "wandb version 0.16.2 is available!  To upgrade, please run:\n",
       " $ pip install wandb --upgrade"
      ],
      "text/plain": [
       "<IPython.core.display.HTML object>"
      ]
     },
     "metadata": {},
     "output_type": "display_data"
    },
    {
     "data": {
      "text/html": [
       "Tracking run with wandb version 0.12.21"
      ],
      "text/plain": [
       "<IPython.core.display.HTML object>"
      ]
     },
     "metadata": {},
     "output_type": "display_data"
    },
    {
     "data": {
      "text/html": [
       "Run data is saved locally in <code>C:\\Users\\irina\\PycharmProjects\\mlpcig\\wandb\\run-20240110_190857-cw3kw4oj</code>"
      ],
      "text/plain": [
       "<IPython.core.display.HTML object>"
      ]
     },
     "metadata": {},
     "output_type": "display_data"
    },
    {
     "data": {
      "text/html": [
       "Syncing run <strong><a href=\"https://wandb.ai/wtvr/model-A-new/runs/cw3kw4oj\" target=\"_blank\">stellar-sweep-1</a></strong> to <a href=\"https://wandb.ai/wtvr/model-A-new\" target=\"_blank\">Weights & Biases</a> (<a href=\"https://wandb.me/run\" target=\"_blank\">docs</a>)<br/>Sweep page:  <a href=\"https://wandb.ai/wtvr/model-A-new/sweeps/pfuiarmq\" target=\"_blank\">https://wandb.ai/wtvr/model-A-new/sweeps/pfuiarmq</a>"
      ],
      "text/plain": [
       "<IPython.core.display.HTML object>"
      ]
     },
     "metadata": {},
     "output_type": "display_data"
    },
    {
     "name": "stdout",
     "output_type": "stream",
     "text": [
      "tensor(1.8754, grad_fn=<NllLossBackward0>)\n",
      "acc=0.390139751552795\n",
      "acc=0.41110248447204967\n",
      "acc=0.4281832298136646\n",
      "acc=0.44138198757763975\n",
      "acc=0.4580745341614907\n",
      "acc=0.46933229813664595\n",
      "acc=0.4856366459627329\n",
      "acc=0.49961180124223603\n",
      "acc=0.5178571428571429\n",
      "acc=0.5248447204968945\n",
      "acc=0.53222049689441\n",
      "acc=0.5399844720496895\n",
      "acc=0.5493012422360248\n",
      "acc=0.5524068322981367\n",
      "acc=0.5547360248447205\n",
      "acc=0.5582298136645962\n",
      "acc=0.5625\n",
      "acc=0.5648291925465838\n",
      "acc=0.5667701863354038\n",
      "acc=0.5687111801242236\n",
      "tensor(0.9199, grad_fn=<NllLossBackward0>)\n",
      "acc=0.5698757763975155\n",
      "acc=0.5737577639751553\n",
      "acc=0.5764751552795031\n",
      "acc=0.578416149068323\n",
      "acc=0.5819099378881988\n",
      "acc=0.5842391304347826\n",
      "acc=0.5873447204968945\n",
      "acc=0.5900621118012422\n",
      "acc=0.5916149068322981\n",
      "acc=0.59277950310559\n",
      "acc=0.594332298136646\n",
      "acc=0.5970496894409938\n",
      "acc=0.5978260869565217\n",
      "acc=0.5993788819875776\n",
      "acc=0.6009316770186336\n",
      "acc=0.6020962732919255\n",
      "acc=0.6063664596273292\n",
      "acc=0.609083850931677\n",
      "tensor(0.6755, grad_fn=<NllLossBackward0>)\n",
      "acc=0.610248447204969\n",
      "acc=0.6110248447204969\n",
      "acc=0.6125776397515528\n",
      "acc=0.6133540372670807\n",
      "acc=0.6152950310559007\n",
      "acc=0.6160714285714286\n",
      "acc=0.6172360248447205\n",
      "acc=0.6180124223602484\n",
      "acc=0.6195652173913043\n",
      "acc=0.6215062111801242\n",
      "acc=0.6218944099378882\n",
      "acc=0.6230590062111802\n",
      "acc=0.625388198757764\n",
      "acc=0.6273291925465838\n",
      "acc=0.6288819875776398\n",
      "acc=0.6300465838509317\n",
      "acc=0.6304347826086957\n",
      "acc=0.6308229813664596\n",
      "tensor(0.5580, grad_fn=<NllLossBackward0>)\n",
      "acc=0.6323757763975155\n",
      "acc=0.6327639751552795\n",
      "acc=0.6339285714285714\n",
      "acc=0.6347049689440993\n",
      "acc=0.6370341614906833\n",
      "acc=0.6374223602484472\n",
      "acc=0.6381987577639752\n",
      "acc=0.6393633540372671\n",
      "acc=0.639751552795031\n",
      "acc=0.640916149068323\n",
      "acc=0.6424689440993789\n",
      "acc=0.6428571428571429\n",
      "acc=0.6444099378881988\n",
      "acc=0.6471273291925466\n",
      "acc=0.6482919254658385\n",
      "acc=0.6510093167701864\n",
      "acc=0.6513975155279503\n",
      "acc=0.6525621118012422\n",
      "tensor(0.4888, grad_fn=<NllLossBackward0>)\n",
      "acc=0.6533385093167702\n",
      "acc=0.6537267080745341\n",
      "acc=0.6541149068322981\n",
      "acc=0.655667701863354\n",
      "acc=0.656055900621118\n",
      "acc=0.656832298136646\n",
      "acc=0.657608695652174\n",
      "acc=0.6583850931677019\n",
      "acc=0.6591614906832298\n",
      "acc=0.6599378881987578\n",
      "acc=0.6607142857142857\n",
      "acc=0.6611024844720497\n",
      "acc=0.6614906832298136\n",
      "acc=0.6630434782608695\n",
      "acc=0.6634316770186336\n",
      "acc=0.6649844720496895\n",
      "acc=0.6653726708074534\n",
      "acc=0.6669254658385093\n"
     ]
    },
    {
     "data": {
      "text/html": [
       "Waiting for W&B process to finish... <strong style=\"color:green\">(success).</strong>"
      ],
      "text/plain": [
       "<IPython.core.display.HTML object>"
      ]
     },
     "metadata": {},
     "output_type": "display_data"
    },
    {
     "data": {
      "application/vnd.jupyter.widget-view+json": {
       "model_id": "",
       "version_major": 2,
       "version_minor": 0
      },
      "text/plain": [
       "VBox(children=(Label(value='0.001 MB of 0.001 MB uploaded (0.000 MB deduped)\\r'), FloatProgress(value=1.0, max…"
      ]
     },
     "metadata": {},
     "output_type": "display_data"
    },
    {
     "data": {
      "text/html": [
       "<style>\n",
       "    table.wandb td:nth-child(1) { padding: 0 10px; text-align: left ; width: auto;} td:nth-child(2) {text-align: left ; width: 100%}\n",
       "    .wandb-row { display: flex; flex-direction: row; flex-wrap: wrap; justify-content: flex-start; width: 100% }\n",
       "    .wandb-col { display: flex; flex-direction: column; flex-basis: 100%; flex: 1; padding: 10px; }\n",
       "    </style>\n",
       "<div class=\"wandb-row\"><div class=\"wandb-col\"><h3>Run history:</h3><br/><table class=\"wandb\"><tr><td>epoch</td><td>▁▁▁▁▂▂▂▂▂▃▃▃▃▃▃▄▄▄▄▄▅▅▅▅▅▅▆▆▆▆▆▇▇▇▇▇▇███</td></tr><tr><td>loss</td><td>█▇▆▅▅▄▄▄▃▃▃▃▃▂▂▂▂▂▂▂▂▂▂▂▂▁▁▁▁▁▁▁▁▁▁▁▁▁▁▁</td></tr><tr><td>val_acc</td><td>▁▂▃▄▅▅▅▅▆▆▆▆▆▆▆▆▇▇▇▇▇▇▇▇▇▇▇▇▇▇██████████</td></tr></table><br/></div><div class=\"wandb-col\"><h3>Run summary:</h3><br/><table class=\"wandb\"><tr><td>epoch</td><td>99</td></tr><tr><td>loss</td><td>0.44572</td></tr><tr><td>val_acc</td><td>0.66693</td></tr></table><br/></div></div>"
      ],
      "text/plain": [
       "<IPython.core.display.HTML object>"
      ]
     },
     "metadata": {},
     "output_type": "display_data"
    },
    {
     "data": {
      "text/html": [
       "Synced <strong style=\"color:#cdcd00\">stellar-sweep-1</strong>: <a href=\"https://wandb.ai/wtvr/model-A-new/runs/cw3kw4oj\" target=\"_blank\">https://wandb.ai/wtvr/model-A-new/runs/cw3kw4oj</a><br/>Synced 5 W&B file(s), 0 media file(s), 0 artifact file(s) and 0 other file(s)"
      ],
      "text/plain": [
       "<IPython.core.display.HTML object>"
      ]
     },
     "metadata": {},
     "output_type": "display_data"
    },
    {
     "data": {
      "text/html": [
       "Find logs at: <code>.\\wandb\\run-20240110_190857-cw3kw4oj\\logs</code>"
      ],
      "text/plain": [
       "<IPython.core.display.HTML object>"
      ]
     },
     "metadata": {},
     "output_type": "display_data"
    },
    {
     "name": "stderr",
     "output_type": "stream",
     "text": [
      "\u001b[34m\u001b[1mwandb\u001b[0m: Sweep Agent: Waiting for job.\n",
      "\u001b[34m\u001b[1mwandb\u001b[0m: Job received.\n",
      "\u001b[34m\u001b[1mwandb\u001b[0m: Agent Starting Run: awbto0pe with config:\n",
      "\u001b[34m\u001b[1mwandb\u001b[0m: \tbatch_size: 32\n",
      "\u001b[34m\u001b[1mwandb\u001b[0m: \tlr: 0.007898241953198566\n"
     ]
    },
    {
     "data": {
      "text/html": [
       "wandb version 0.16.2 is available!  To upgrade, please run:\n",
       " $ pip install wandb --upgrade"
      ],
      "text/plain": [
       "<IPython.core.display.HTML object>"
      ]
     },
     "metadata": {},
     "output_type": "display_data"
    },
    {
     "data": {
      "text/html": [
       "Tracking run with wandb version 0.12.21"
      ],
      "text/plain": [
       "<IPython.core.display.HTML object>"
      ]
     },
     "metadata": {},
     "output_type": "display_data"
    },
    {
     "data": {
      "text/html": [
       "Run data is saved locally in <code>C:\\Users\\irina\\PycharmProjects\\mlpcig\\wandb\\run-20240110_203544-awbto0pe</code>"
      ],
      "text/plain": [
       "<IPython.core.display.HTML object>"
      ]
     },
     "metadata": {},
     "output_type": "display_data"
    },
    {
     "data": {
      "text/html": [
       "Syncing run <strong><a href=\"https://wandb.ai/wtvr/model-A-new/runs/awbto0pe\" target=\"_blank\">unique-sweep-2</a></strong> to <a href=\"https://wandb.ai/wtvr/model-A-new\" target=\"_blank\">Weights & Biases</a> (<a href=\"https://wandb.me/run\" target=\"_blank\">docs</a>)<br/>Sweep page:  <a href=\"https://wandb.ai/wtvr/model-A-new/sweeps/pfuiarmq\" target=\"_blank\">https://wandb.ai/wtvr/model-A-new/sweeps/pfuiarmq</a>"
      ],
      "text/plain": [
       "<IPython.core.display.HTML object>"
      ]
     },
     "metadata": {},
     "output_type": "display_data"
    },
    {
     "name": "stdout",
     "output_type": "stream",
     "text": [
      "tensor(2.0508, grad_fn=<NllLossBackward0>)\n",
      "acc=0.406640625\n",
      "acc=0.427734375\n",
      "acc=0.451953125\n",
      "acc=0.46953125\n",
      "acc=0.49453125\n",
      "acc=0.518359375\n",
      "acc=0.5296875\n",
      "acc=0.53984375\n",
      "acc=0.54921875\n",
      "acc=0.5546875\n",
      "acc=0.56171875\n",
      "acc=0.566015625\n",
      "acc=0.5703125\n",
      "acc=0.57578125\n",
      "acc=0.577734375\n",
      "acc=0.5828125\n",
      "acc=0.585546875\n",
      "acc=0.591796875\n",
      "acc=0.594140625\n",
      "acc=0.596875\n",
      "tensor(1.3331, grad_fn=<NllLossBackward0>)\n",
      "acc=0.5984375\n",
      "acc=0.60078125\n",
      "acc=0.601171875\n",
      "acc=0.602734375\n",
      "acc=0.605078125\n",
      "acc=0.60859375\n",
      "acc=0.612109375\n",
      "acc=0.6125\n",
      "acc=0.612890625\n",
      "acc=0.614453125\n",
      "acc=0.617578125\n",
      "acc=0.621484375\n",
      "acc=0.62421875\n",
      "acc=0.625390625\n",
      "acc=0.628515625\n",
      "acc=0.630078125\n",
      "acc=0.63125\n",
      "acc=0.632421875\n",
      "acc=0.633984375\n",
      "acc=0.635546875\n",
      "tensor(1.2237, grad_fn=<NllLossBackward0>)\n",
      "acc=0.636328125\n",
      "acc=0.6375\n",
      "acc=0.639453125\n",
      "acc=0.641015625\n",
      "acc=0.6421875\n",
      "acc=0.644140625\n",
      "acc=0.645703125\n",
      "acc=0.646484375\n",
      "acc=0.648046875\n",
      "acc=0.65\n",
      "acc=0.6515625\n",
      "acc=0.65234375\n",
      "acc=0.653125\n",
      "acc=0.655859375\n",
      "acc=0.65625\n",
      "acc=0.657421875\n",
      "acc=0.658984375\n",
      "acc=0.6609375\n",
      "acc=0.661328125\n",
      "tensor(1.1549, grad_fn=<NllLossBackward0>)\n",
      "acc=0.662890625\n",
      "acc=0.666015625\n",
      "acc=0.66640625\n",
      "acc=0.666796875\n",
      "acc=0.6671875\n",
      "acc=0.668359375\n",
      "acc=0.669140625\n",
      "acc=0.6703125\n",
      "acc=0.67109375\n",
      "acc=0.671875\n",
      "acc=0.672265625\n",
      "acc=0.673046875\n",
      "acc=0.6734375\n",
      "acc=0.673828125\n",
      "acc=0.674609375\n",
      "tensor(1.1048, grad_fn=<NllLossBackward0>)\n",
      "acc=0.67578125\n",
      "acc=0.676171875\n",
      "acc=0.6765625\n",
      "acc=0.67734375\n",
      "acc=0.677734375\n",
      "acc=0.678125\n",
      "acc=0.678515625\n",
      "acc=0.680078125\n",
      "acc=0.68046875\n",
      "acc=0.681640625\n",
      "acc=0.682421875\n",
      "acc=0.683203125\n",
      "acc=0.683984375\n",
      "acc=0.684375\n"
     ]
    },
    {
     "data": {
      "text/html": [
       "Waiting for W&B process to finish... <strong style=\"color:green\">(success).</strong>"
      ],
      "text/plain": [
       "<IPython.core.display.HTML object>"
      ]
     },
     "metadata": {},
     "output_type": "display_data"
    },
    {
     "data": {
      "application/vnd.jupyter.widget-view+json": {
       "model_id": "",
       "version_major": 2,
       "version_minor": 0
      },
      "text/plain": [
       "VBox(children=(Label(value='0.001 MB of 0.001 MB uploaded (0.000 MB deduped)\\r'), FloatProgress(value=1.0, max…"
      ]
     },
     "metadata": {},
     "output_type": "display_data"
    },
    {
     "data": {
      "text/html": [
       "<style>\n",
       "    table.wandb td:nth-child(1) { padding: 0 10px; text-align: left ; width: auto;} td:nth-child(2) {text-align: left ; width: 100%}\n",
       "    .wandb-row { display: flex; flex-direction: row; flex-wrap: wrap; justify-content: flex-start; width: 100% }\n",
       "    .wandb-col { display: flex; flex-direction: column; flex-basis: 100%; flex: 1; padding: 10px; }\n",
       "    </style>\n",
       "<div class=\"wandb-row\"><div class=\"wandb-col\"><h3>Run history:</h3><br/><table class=\"wandb\"><tr><td>epoch</td><td>▁▁▁▁▂▂▂▂▂▃▃▃▃▃▃▄▄▄▄▄▅▅▅▅▅▅▆▆▆▆▆▇▇▇▇▇▇███</td></tr><tr><td>loss</td><td>█▆▅▄▄▄▃▃▃▃▃▃▂▂▂▂▂▂▂▂▂▂▂▂▂▂▁▁▁▁▁▁▁▁▁▁▁▁▁▁</td></tr><tr><td>val_acc</td><td>▁▂▄▄▅▅▅▆▆▆▆▆▆▇▇▇▇▇▇▇▇▇▇▇▇███████████████</td></tr></table><br/></div><div class=\"wandb-col\"><h3>Run summary:</h3><br/><table class=\"wandb\"><tr><td>epoch</td><td>99</td></tr><tr><td>loss</td><td>1.06862</td></tr><tr><td>val_acc</td><td>0.68437</td></tr></table><br/></div></div>"
      ],
      "text/plain": [
       "<IPython.core.display.HTML object>"
      ]
     },
     "metadata": {},
     "output_type": "display_data"
    },
    {
     "data": {
      "text/html": [
       "Synced <strong style=\"color:#cdcd00\">unique-sweep-2</strong>: <a href=\"https://wandb.ai/wtvr/model-A-new/runs/awbto0pe\" target=\"_blank\">https://wandb.ai/wtvr/model-A-new/runs/awbto0pe</a><br/>Synced 5 W&B file(s), 0 media file(s), 0 artifact file(s) and 0 other file(s)"
      ],
      "text/plain": [
       "<IPython.core.display.HTML object>"
      ]
     },
     "metadata": {},
     "output_type": "display_data"
    },
    {
     "data": {
      "text/html": [
       "Find logs at: <code>.\\wandb\\run-20240110_203544-awbto0pe\\logs</code>"
      ],
      "text/plain": [
       "<IPython.core.display.HTML object>"
      ]
     },
     "metadata": {},
     "output_type": "display_data"
    },
    {
     "name": "stderr",
     "output_type": "stream",
     "text": [
      "\u001b[34m\u001b[1mwandb\u001b[0m: Agent Starting Run: 0hw0lg51 with config:\n",
      "\u001b[34m\u001b[1mwandb\u001b[0m: \tbatch_size: 32\n",
      "\u001b[34m\u001b[1mwandb\u001b[0m: \tlr: 0.004341902061278792\n"
     ]
    },
    {
     "data": {
      "text/html": [
       "wandb version 0.16.2 is available!  To upgrade, please run:\n",
       " $ pip install wandb --upgrade"
      ],
      "text/plain": [
       "<IPython.core.display.HTML object>"
      ]
     },
     "metadata": {},
     "output_type": "display_data"
    },
    {
     "data": {
      "text/html": [
       "Tracking run with wandb version 0.12.21"
      ],
      "text/plain": [
       "<IPython.core.display.HTML object>"
      ]
     },
     "metadata": {},
     "output_type": "display_data"
    },
    {
     "data": {
      "text/html": [
       "Run data is saved locally in <code>C:\\Users\\irina\\PycharmProjects\\mlpcig\\wandb\\run-20240110_220032-0hw0lg51</code>"
      ],
      "text/plain": [
       "<IPython.core.display.HTML object>"
      ]
     },
     "metadata": {},
     "output_type": "display_data"
    },
    {
     "data": {
      "text/html": [
       "Syncing run <strong><a href=\"https://wandb.ai/wtvr/model-A-new/runs/0hw0lg51\" target=\"_blank\">wild-sweep-3</a></strong> to <a href=\"https://wandb.ai/wtvr/model-A-new\" target=\"_blank\">Weights & Biases</a> (<a href=\"https://wandb.me/run\" target=\"_blank\">docs</a>)<br/>Sweep page:  <a href=\"https://wandb.ai/wtvr/model-A-new/sweeps/pfuiarmq\" target=\"_blank\">https://wandb.ai/wtvr/model-A-new/sweeps/pfuiarmq</a>"
      ],
      "text/plain": [
       "<IPython.core.display.HTML object>"
      ]
     },
     "metadata": {},
     "output_type": "display_data"
    },
    {
     "name": "stdout",
     "output_type": "stream",
     "text": [
      "tensor(2.1268, grad_fn=<NllLossBackward0>)\n",
      "acc=0.43359375\n",
      "acc=0.43515625\n",
      "acc=0.44375\n",
      "acc=0.455859375\n",
      "acc=0.467578125\n",
      "acc=0.479296875\n",
      "acc=0.491796875\n",
      "acc=0.503125\n",
      "acc=0.516015625\n",
      "acc=0.5265625\n",
      "acc=0.533203125\n",
      "acc=0.540234375\n",
      "acc=0.543359375\n",
      "acc=0.54765625\n",
      "acc=0.553515625\n",
      "acc=0.5578125\n",
      "acc=0.5609375\n",
      "acc=0.566015625\n",
      "acc=0.56953125\n",
      "tensor(1.4143, grad_fn=<NllLossBackward0>)\n",
      "acc=0.571875\n",
      "acc=0.573828125\n",
      "acc=0.575\n",
      "acc=0.577734375\n",
      "acc=0.5796875\n",
      "acc=0.58203125\n",
      "acc=0.584375\n",
      "acc=0.585546875\n",
      "acc=0.587890625\n",
      "acc=0.58984375\n",
      "acc=0.592578125\n",
      "acc=0.594140625\n",
      "acc=0.59609375\n",
      "acc=0.598046875\n",
      "acc=0.599609375\n",
      "acc=0.6\n",
      "acc=0.600390625\n",
      "acc=0.6015625\n",
      "acc=0.60234375\n",
      "acc=0.603515625\n",
      "tensor(1.2951, grad_fn=<NllLossBackward0>)\n",
      "acc=0.60546875\n",
      "acc=0.60625\n",
      "acc=0.60703125\n",
      "acc=0.608984375\n",
      "acc=0.61171875\n",
      "acc=0.612890625\n",
      "acc=0.61328125\n",
      "acc=0.615234375\n",
      "acc=0.615625\n",
      "acc=0.6171875\n",
      "acc=0.619140625\n",
      "acc=0.6203125\n",
      "acc=0.621875\n",
      "acc=0.623046875\n",
      "acc=0.623828125\n",
      "acc=0.624609375\n",
      "acc=0.625390625\n",
      "acc=0.626953125\n",
      "acc=0.627734375\n",
      "tensor(1.2351, grad_fn=<NllLossBackward0>)\n",
      "acc=0.629296875\n",
      "acc=0.63046875\n",
      "acc=0.630859375\n",
      "acc=0.631640625\n",
      "acc=0.6328125\n",
      "acc=0.63359375\n",
      "acc=0.635546875\n",
      "acc=0.6375\n",
      "acc=0.6390625\n",
      "acc=0.63984375\n",
      "acc=0.640625\n",
      "acc=0.64140625\n",
      "acc=0.6421875\n",
      "acc=0.642578125\n",
      "acc=0.64296875\n",
      "acc=0.643359375\n",
      "tensor(1.1917, grad_fn=<NllLossBackward0>)\n",
      "acc=0.64453125\n",
      "acc=0.644921875\n",
      "acc=0.646484375\n",
      "acc=0.64765625\n",
      "acc=0.649609375\n",
      "acc=0.65078125\n",
      "acc=0.651171875\n",
      "acc=0.651953125\n",
      "acc=0.65234375\n",
      "acc=0.652734375\n",
      "acc=0.653515625\n",
      "acc=0.6546875\n",
      "acc=0.65546875\n",
      "acc=0.65625\n",
      "acc=0.656640625\n",
      "acc=0.6578125\n"
     ]
    },
    {
     "data": {
      "text/html": [
       "Waiting for W&B process to finish... <strong style=\"color:green\">(success).</strong>"
      ],
      "text/plain": [
       "<IPython.core.display.HTML object>"
      ]
     },
     "metadata": {},
     "output_type": "display_data"
    },
    {
     "data": {
      "application/vnd.jupyter.widget-view+json": {
       "model_id": "",
       "version_major": 2,
       "version_minor": 0
      },
      "text/plain": [
       "VBox(children=(Label(value='0.001 MB of 0.001 MB uploaded (0.000 MB deduped)\\r'), FloatProgress(value=1.0, max…"
      ]
     },
     "metadata": {},
     "output_type": "display_data"
    },
    {
     "data": {
      "text/html": [
       "<style>\n",
       "    table.wandb td:nth-child(1) { padding: 0 10px; text-align: left ; width: auto;} td:nth-child(2) {text-align: left ; width: 100%}\n",
       "    .wandb-row { display: flex; flex-direction: row; flex-wrap: wrap; justify-content: flex-start; width: 100% }\n",
       "    .wandb-col { display: flex; flex-direction: column; flex-basis: 100%; flex: 1; padding: 10px; }\n",
       "    </style>\n",
       "<div class=\"wandb-row\"><div class=\"wandb-col\"><h3>Run history:</h3><br/><table class=\"wandb\"><tr><td>epoch</td><td>▁▁▁▁▂▂▂▂▂▃▃▃▃▃▃▄▄▄▄▄▅▅▅▅▅▅▆▆▆▆▆▇▇▇▇▇▇███</td></tr><tr><td>loss</td><td>█▇▅▅▄▄▃▃▃▃▃▂▂▂▂▂▂▂▂▂▂▂▂▂▂▁▁▁▁▁▁▁▁▁▁▁▁▁▁▁</td></tr><tr><td>val_acc</td><td>▁▁▂▃▄▄▅▅▅▅▆▆▆▆▆▆▆▆▇▇▇▇▇▇▇▇▇▇▇▇██████████</td></tr></table><br/></div><div class=\"wandb-col\"><h3>Run summary:</h3><br/><table class=\"wandb\"><tr><td>epoch</td><td>99</td></tr><tr><td>loss</td><td>1.15889</td></tr><tr><td>val_acc</td><td>0.65781</td></tr></table><br/></div></div>"
      ],
      "text/plain": [
       "<IPython.core.display.HTML object>"
      ]
     },
     "metadata": {},
     "output_type": "display_data"
    },
    {
     "data": {
      "text/html": [
       "Synced <strong style=\"color:#cdcd00\">wild-sweep-3</strong>: <a href=\"https://wandb.ai/wtvr/model-A-new/runs/0hw0lg51\" target=\"_blank\">https://wandb.ai/wtvr/model-A-new/runs/0hw0lg51</a><br/>Synced 5 W&B file(s), 0 media file(s), 0 artifact file(s) and 0 other file(s)"
      ],
      "text/plain": [
       "<IPython.core.display.HTML object>"
      ]
     },
     "metadata": {},
     "output_type": "display_data"
    },
    {
     "data": {
      "text/html": [
       "Find logs at: <code>.\\wandb\\run-20240110_220032-0hw0lg51\\logs</code>"
      ],
      "text/plain": [
       "<IPython.core.display.HTML object>"
      ]
     },
     "metadata": {},
     "output_type": "display_data"
    },
    {
     "name": "stderr",
     "output_type": "stream",
     "text": [
      "\u001b[34m\u001b[1mwandb\u001b[0m: Agent Starting Run: enfn0qcp with config:\n",
      "\u001b[34m\u001b[1mwandb\u001b[0m: \tbatch_size: 32\n",
      "\u001b[34m\u001b[1mwandb\u001b[0m: \tlr: 0.007453789376414213\n"
     ]
    },
    {
     "data": {
      "text/html": [
       "wandb version 0.16.2 is available!  To upgrade, please run:\n",
       " $ pip install wandb --upgrade"
      ],
      "text/plain": [
       "<IPython.core.display.HTML object>"
      ]
     },
     "metadata": {},
     "output_type": "display_data"
    },
    {
     "data": {
      "text/html": [
       "Tracking run with wandb version 0.12.21"
      ],
      "text/plain": [
       "<IPython.core.display.HTML object>"
      ]
     },
     "metadata": {},
     "output_type": "display_data"
    },
    {
     "data": {
      "text/html": [
       "Run data is saved locally in <code>C:\\Users\\irina\\PycharmProjects\\mlpcig\\wandb\\run-20240110_232342-enfn0qcp</code>"
      ],
      "text/plain": [
       "<IPython.core.display.HTML object>"
      ]
     },
     "metadata": {},
     "output_type": "display_data"
    },
    {
     "data": {
      "text/html": [
       "Syncing run <strong><a href=\"https://wandb.ai/wtvr/model-A-new/runs/enfn0qcp\" target=\"_blank\">exalted-sweep-4</a></strong> to <a href=\"https://wandb.ai/wtvr/model-A-new\" target=\"_blank\">Weights & Biases</a> (<a href=\"https://wandb.me/run\" target=\"_blank\">docs</a>)<br/>Sweep page:  <a href=\"https://wandb.ai/wtvr/model-A-new/sweeps/pfuiarmq\" target=\"_blank\">https://wandb.ai/wtvr/model-A-new/sweeps/pfuiarmq</a>"
      ],
      "text/plain": [
       "<IPython.core.display.HTML object>"
      ]
     },
     "metadata": {},
     "output_type": "display_data"
    },
    {
     "name": "stdout",
     "output_type": "stream",
     "text": [
      "tensor(2.0623, grad_fn=<NllLossBackward0>)\n",
      "acc=0.40546875\n",
      "acc=0.4265625\n",
      "acc=0.44921875\n",
      "acc=0.4671875\n",
      "acc=0.489453125\n",
      "acc=0.5125\n",
      "acc=0.5265625\n",
      "acc=0.537109375\n",
      "acc=0.5453125\n",
      "acc=0.548046875\n",
      "acc=0.55546875\n",
      "acc=0.5640625\n",
      "acc=0.5671875\n",
      "acc=0.57265625\n",
      "acc=0.576953125\n",
      "acc=0.5796875\n",
      "acc=0.584375\n",
      "acc=0.589453125\n",
      "acc=0.592578125\n",
      "acc=0.59609375\n",
      "tensor(1.3404, grad_fn=<NllLossBackward0>)\n",
      "acc=0.59765625\n",
      "acc=0.5984375\n",
      "acc=0.60078125\n",
      "acc=0.6015625\n",
      "acc=0.603515625\n",
      "acc=0.605078125\n",
      "acc=0.607421875\n",
      "acc=0.610546875\n",
      "acc=0.611328125\n",
      "acc=0.612109375\n",
      "acc=0.614453125\n",
      "acc=0.616796875\n",
      "acc=0.61953125\n",
      "acc=0.62421875\n",
      "acc=0.626171875\n",
      "acc=0.62734375\n",
      "acc=0.628515625\n",
      "acc=0.63125\n",
      "acc=0.63203125\n",
      "acc=0.63359375\n",
      "tensor(1.2295, grad_fn=<NllLossBackward0>)\n",
      "acc=0.634375\n",
      "acc=0.6359375\n",
      "acc=0.63671875\n",
      "acc=0.637890625\n",
      "acc=0.63984375\n",
      "acc=0.640625\n",
      "acc=0.642578125\n",
      "acc=0.64453125\n",
      "acc=0.644921875\n",
      "acc=0.64609375\n",
      "acc=0.648046875\n",
      "acc=0.649609375\n",
      "acc=0.650390625\n",
      "acc=0.651953125\n",
      "acc=0.653125\n",
      "acc=0.655078125\n",
      "acc=0.65625\n",
      "acc=0.657421875\n",
      "acc=0.659375\n",
      "tensor(1.1605, grad_fn=<NllLossBackward0>)\n",
      "acc=0.660546875\n",
      "acc=0.661328125\n",
      "acc=0.6625\n",
      "acc=0.663671875\n",
      "acc=0.666015625\n",
      "acc=0.66640625\n",
      "acc=0.6671875\n",
      "acc=0.667578125\n",
      "acc=0.66875\n",
      "acc=0.66953125\n",
      "acc=0.670703125\n",
      "acc=0.67109375\n",
      "acc=0.671875\n",
      "acc=0.67265625\n",
      "tensor(1.1102, grad_fn=<NllLossBackward0>)\n",
      "acc=0.673046875\n",
      "acc=0.673828125\n",
      "acc=0.675\n",
      "acc=0.675390625\n",
      "acc=0.67578125\n",
      "acc=0.676953125\n",
      "acc=0.678125\n",
      "acc=0.678515625\n",
      "acc=0.67890625\n",
      "acc=0.680078125\n",
      "acc=0.680859375\n",
      "acc=0.681640625\n"
     ]
    },
    {
     "data": {
      "text/html": [
       "Waiting for W&B process to finish... <strong style=\"color:green\">(success).</strong>"
      ],
      "text/plain": [
       "<IPython.core.display.HTML object>"
      ]
     },
     "metadata": {},
     "output_type": "display_data"
    },
    {
     "data": {
      "application/vnd.jupyter.widget-view+json": {
       "model_id": "",
       "version_major": 2,
       "version_minor": 0
      },
      "text/plain": [
       "VBox(children=(Label(value='0.001 MB of 0.001 MB uploaded (0.000 MB deduped)\\r'), FloatProgress(value=1.0, max…"
      ]
     },
     "metadata": {},
     "output_type": "display_data"
    },
    {
     "data": {
      "text/html": [
       "<style>\n",
       "    table.wandb td:nth-child(1) { padding: 0 10px; text-align: left ; width: auto;} td:nth-child(2) {text-align: left ; width: 100%}\n",
       "    .wandb-row { display: flex; flex-direction: row; flex-wrap: wrap; justify-content: flex-start; width: 100% }\n",
       "    .wandb-col { display: flex; flex-direction: column; flex-basis: 100%; flex: 1; padding: 10px; }\n",
       "    </style>\n",
       "<div class=\"wandb-row\"><div class=\"wandb-col\"><h3>Run history:</h3><br/><table class=\"wandb\"><tr><td>epoch</td><td>▁▁▁▁▂▂▂▂▂▃▃▃▃▃▃▄▄▄▄▄▅▅▅▅▅▅▆▆▆▆▆▇▇▇▇▇▇███</td></tr><tr><td>loss</td><td>█▆▅▄▄▄▃▃▃▃▃▃▂▂▂▂▂▂▂▂▂▂▂▂▂▂▁▁▁▁▁▁▁▁▁▁▁▁▁▁</td></tr><tr><td>val_acc</td><td>▁▂▄▄▅▅▅▆▆▆▆▆▆▇▇▇▇▇▇▇▇▇▇▇▇███████████████</td></tr></table><br/></div><div class=\"wandb-col\"><h3>Run summary:</h3><br/><table class=\"wandb\"><tr><td>epoch</td><td>99</td></tr><tr><td>loss</td><td>1.07381</td></tr><tr><td>val_acc</td><td>0.68164</td></tr></table><br/></div></div>"
      ],
      "text/plain": [
       "<IPython.core.display.HTML object>"
      ]
     },
     "metadata": {},
     "output_type": "display_data"
    },
    {
     "data": {
      "text/html": [
       "Synced <strong style=\"color:#cdcd00\">exalted-sweep-4</strong>: <a href=\"https://wandb.ai/wtvr/model-A-new/runs/enfn0qcp\" target=\"_blank\">https://wandb.ai/wtvr/model-A-new/runs/enfn0qcp</a><br/>Synced 5 W&B file(s), 0 media file(s), 0 artifact file(s) and 0 other file(s)"
      ],
      "text/plain": [
       "<IPython.core.display.HTML object>"
      ]
     },
     "metadata": {},
     "output_type": "display_data"
    },
    {
     "data": {
      "text/html": [
       "Find logs at: <code>.\\wandb\\run-20240110_232342-enfn0qcp\\logs</code>"
      ],
      "text/plain": [
       "<IPython.core.display.HTML object>"
      ]
     },
     "metadata": {},
     "output_type": "display_data"
    },
    {
     "name": "stderr",
     "output_type": "stream",
     "text": [
      "\u001b[34m\u001b[1mwandb\u001b[0m: Agent Starting Run: a0eva4vb with config:\n",
      "\u001b[34m\u001b[1mwandb\u001b[0m: \tbatch_size: 32\n",
      "\u001b[34m\u001b[1mwandb\u001b[0m: \tlr: 0.00929805355564742\n"
     ]
    },
    {
     "data": {
      "text/html": [
       "wandb version 0.16.2 is available!  To upgrade, please run:\n",
       " $ pip install wandb --upgrade"
      ],
      "text/plain": [
       "<IPython.core.display.HTML object>"
      ]
     },
     "metadata": {},
     "output_type": "display_data"
    },
    {
     "data": {
      "text/html": [
       "Tracking run with wandb version 0.12.21"
      ],
      "text/plain": [
       "<IPython.core.display.HTML object>"
      ]
     },
     "metadata": {},
     "output_type": "display_data"
    },
    {
     "data": {
      "text/html": [
       "Run data is saved locally in <code>C:\\Users\\irina\\PycharmProjects\\mlpcig\\wandb\\run-20240111_004954-a0eva4vb</code>"
      ],
      "text/plain": [
       "<IPython.core.display.HTML object>"
      ]
     },
     "metadata": {},
     "output_type": "display_data"
    },
    {
     "data": {
      "text/html": [
       "Syncing run <strong><a href=\"https://wandb.ai/wtvr/model-A-new/runs/a0eva4vb\" target=\"_blank\">lemon-sweep-5</a></strong> to <a href=\"https://wandb.ai/wtvr/model-A-new\" target=\"_blank\">Weights & Biases</a> (<a href=\"https://wandb.me/run\" target=\"_blank\">docs</a>)<br/>Sweep page:  <a href=\"https://wandb.ai/wtvr/model-A-new/sweeps/pfuiarmq\" target=\"_blank\">https://wandb.ai/wtvr/model-A-new/sweeps/pfuiarmq</a>"
      ],
      "text/plain": [
       "<IPython.core.display.HTML object>"
      ]
     },
     "metadata": {},
     "output_type": "display_data"
    },
    {
     "name": "stdout",
     "output_type": "stream",
     "text": [
      "tensor(2.0168, grad_fn=<NllLossBackward0>)\n",
      "acc=0.39921875\n",
      "acc=0.428125\n",
      "acc=0.45703125\n",
      "acc=0.483203125\n",
      "acc=0.50703125\n",
      "acc=0.52578125\n",
      "acc=0.538671875\n",
      "acc=0.547265625\n",
      "acc=0.556640625\n",
      "acc=0.56328125\n",
      "acc=0.568359375\n",
      "acc=0.5734375\n",
      "acc=0.576953125\n",
      "acc=0.580078125\n",
      "acc=0.584375\n",
      "acc=0.58984375\n",
      "acc=0.59296875\n",
      "acc=0.5953125\n",
      "acc=0.596875\n",
      "acc=0.600390625\n",
      "tensor(1.3109, grad_fn=<NllLossBackward0>)\n",
      "acc=0.6015625\n",
      "acc=0.60390625\n",
      "acc=0.60546875\n",
      "acc=0.60859375\n",
      "acc=0.6109375\n",
      "acc=0.61328125\n",
      "acc=0.61640625\n",
      "acc=0.620703125\n",
      "acc=0.623828125\n",
      "acc=0.626171875\n",
      "acc=0.629296875\n",
      "acc=0.630078125\n",
      "acc=0.63125\n",
      "acc=0.63203125\n",
      "acc=0.6328125\n",
      "acc=0.63515625\n",
      "acc=0.6359375\n",
      "acc=0.6375\n",
      "acc=0.640625\n",
      "acc=0.642578125\n",
      "tensor(1.2074, grad_fn=<NllLossBackward0>)\n",
      "acc=0.644140625\n",
      "acc=0.6453125\n",
      "acc=0.646484375\n",
      "acc=0.6484375\n",
      "acc=0.650390625\n",
      "acc=0.65234375\n",
      "acc=0.653515625\n",
      "acc=0.654296875\n",
      "acc=0.65546875\n",
      "acc=0.656640625\n",
      "acc=0.658203125\n",
      "acc=0.659765625\n",
      "acc=0.6609375\n",
      "acc=0.6625\n",
      "acc=0.66328125\n",
      "acc=0.66484375\n",
      "acc=0.666015625\n",
      "acc=0.66640625\n",
      "acc=0.667578125\n",
      "acc=0.668359375\n",
      "tensor(1.1418, grad_fn=<NllLossBackward0>)\n",
      "acc=0.669140625\n",
      "acc=0.6703125\n",
      "acc=0.671484375\n",
      "acc=0.671875\n",
      "acc=0.672265625\n",
      "acc=0.6734375\n",
      "acc=0.67421875\n",
      "acc=0.675390625\n",
      "acc=0.67578125\n",
      "acc=0.6765625\n",
      "acc=0.676953125\n",
      "acc=0.67734375\n",
      "acc=0.677734375\n",
      "acc=0.67890625\n",
      "acc=0.679296875\n",
      "tensor(1.0941, grad_fn=<NllLossBackward0>)\n",
      "acc=0.6796875\n",
      "acc=0.680078125\n",
      "acc=0.68046875\n",
      "acc=0.68203125\n",
      "acc=0.6828125\n",
      "acc=0.683984375\n",
      "acc=0.684375\n",
      "acc=0.684765625\n",
      "acc=0.685546875\n",
      "acc=0.6859375\n",
      "acc=0.686328125\n",
      "acc=0.6875\n",
      "acc=0.68828125\n"
     ]
    },
    {
     "data": {
      "text/html": [
       "Waiting for W&B process to finish... <strong style=\"color:green\">(success).</strong>"
      ],
      "text/plain": [
       "<IPython.core.display.HTML object>"
      ]
     },
     "metadata": {},
     "output_type": "display_data"
    },
    {
     "data": {
      "application/vnd.jupyter.widget-view+json": {
       "model_id": "3523cb1bfeca49f9822004a0717fedc3",
       "version_major": 2,
       "version_minor": 0
      },
      "text/plain": [
       "VBox(children=(Label(value='0.001 MB of 0.001 MB uploaded (0.000 MB deduped)\\r'), FloatProgress(value=1.0, max…"
      ]
     },
     "metadata": {},
     "output_type": "display_data"
    },
    {
     "data": {
      "text/html": [
       "<style>\n",
       "    table.wandb td:nth-child(1) { padding: 0 10px; text-align: left ; width: auto;} td:nth-child(2) {text-align: left ; width: 100%}\n",
       "    .wandb-row { display: flex; flex-direction: row; flex-wrap: wrap; justify-content: flex-start; width: 100% }\n",
       "    .wandb-col { display: flex; flex-direction: column; flex-basis: 100%; flex: 1; padding: 10px; }\n",
       "    </style>\n",
       "<div class=\"wandb-row\"><div class=\"wandb-col\"><h3>Run history:</h3><br/><table class=\"wandb\"><tr><td>epoch</td><td>▁▁▁▁▂▂▂▂▂▃▃▃▃▃▃▄▄▄▄▄▅▅▅▅▅▅▆▆▆▆▆▇▇▇▇▇▇███</td></tr><tr><td>loss</td><td>█▆▅▄▄▃▃▃▃▃▃▃▂▂▂▂▂▂▂▂▂▂▂▂▂▂▁▁▁▁▁▁▁▁▁▁▁▁▁▁</td></tr><tr><td>val_acc</td><td>▁▂▄▅▅▅▆▆▆▆▆▆▇▇▇▇▇▇▇▇▇▇▇█████████████████</td></tr></table><br/></div><div class=\"wandb-col\"><h3>Run summary:</h3><br/><table class=\"wandb\"><tr><td>epoch</td><td>99</td></tr><tr><td>loss</td><td>1.05984</td></tr><tr><td>val_acc</td><td>0.68789</td></tr></table><br/></div></div>"
      ],
      "text/plain": [
       "<IPython.core.display.HTML object>"
      ]
     },
     "metadata": {},
     "output_type": "display_data"
    },
    {
     "data": {
      "text/html": [
       "Synced <strong style=\"color:#cdcd00\">lemon-sweep-5</strong>: <a href=\"https://wandb.ai/wtvr/model-A-new/runs/a0eva4vb\" target=\"_blank\">https://wandb.ai/wtvr/model-A-new/runs/a0eva4vb</a><br/>Synced 5 W&B file(s), 0 media file(s), 0 artifact file(s) and 0 other file(s)"
      ],
      "text/plain": [
       "<IPython.core.display.HTML object>"
      ]
     },
     "metadata": {},
     "output_type": "display_data"
    },
    {
     "data": {
      "text/html": [
       "Find logs at: <code>.\\wandb\\run-20240111_004954-a0eva4vb\\logs</code>"
      ],
      "text/plain": [
       "<IPython.core.display.HTML object>"
      ]
     },
     "metadata": {},
     "output_type": "display_data"
    },
    {
     "name": "stderr",
     "output_type": "stream",
     "text": [
      "\u001b[34m\u001b[1mwandb\u001b[0m: Sweep Agent: Waiting for job.\n",
      "\u001b[34m\u001b[1mwandb\u001b[0m: Job received.\n",
      "\u001b[34m\u001b[1mwandb\u001b[0m: Agent Starting Run: jin04v6m with config:\n",
      "\u001b[34m\u001b[1mwandb\u001b[0m: \tbatch_size: 32\n",
      "\u001b[34m\u001b[1mwandb\u001b[0m: \tlr: 0.009928422068520106\n"
     ]
    },
    {
     "data": {
      "text/html": [
       "wandb version 0.16.2 is available!  To upgrade, please run:\n",
       " $ pip install wandb --upgrade"
      ],
      "text/plain": [
       "<IPython.core.display.HTML object>"
      ]
     },
     "metadata": {},
     "output_type": "display_data"
    },
    {
     "data": {
      "text/html": [
       "Tracking run with wandb version 0.12.21"
      ],
      "text/plain": [
       "<IPython.core.display.HTML object>"
      ]
     },
     "metadata": {},
     "output_type": "display_data"
    },
    {
     "data": {
      "text/html": [
       "Run data is saved locally in <code>C:\\Users\\irina\\PycharmProjects\\mlpcig\\wandb\\run-20240111_022405-jin04v6m</code>"
      ],
      "text/plain": [
       "<IPython.core.display.HTML object>"
      ]
     },
     "metadata": {},
     "output_type": "display_data"
    },
    {
     "data": {
      "text/html": [
       "Syncing run <strong><a href=\"https://wandb.ai/wtvr/model-A-new/runs/jin04v6m\" target=\"_blank\">frosty-sweep-6</a></strong> to <a href=\"https://wandb.ai/wtvr/model-A-new\" target=\"_blank\">Weights & Biases</a> (<a href=\"https://wandb.me/run\" target=\"_blank\">docs</a>)<br/>Sweep page:  <a href=\"https://wandb.ai/wtvr/model-A-new/sweeps/pfuiarmq\" target=\"_blank\">https://wandb.ai/wtvr/model-A-new/sweeps/pfuiarmq</a>"
      ],
      "text/plain": [
       "<IPython.core.display.HTML object>"
      ]
     },
     "metadata": {},
     "output_type": "display_data"
    },
    {
     "name": "stdout",
     "output_type": "stream",
     "text": [
      "tensor(2.0056, grad_fn=<NllLossBackward0>)\n",
      "acc=0.39921875\n",
      "acc=0.43203125\n",
      "acc=0.466015625\n",
      "acc=0.489453125\n",
      "acc=0.513671875\n",
      "acc=0.53203125\n",
      "acc=0.54140625\n",
      "acc=0.548828125\n",
      "acc=0.5609375\n",
      "acc=0.565234375\n",
      "acc=0.57265625\n",
      "acc=0.574609375\n",
      "acc=0.578515625\n",
      "acc=0.582421875\n",
      "acc=0.587890625\n",
      "acc=0.592578125\n",
      "acc=0.596484375\n",
      "acc=0.598828125\n",
      "acc=0.60078125\n",
      "tensor(1.3024, grad_fn=<NllLossBackward0>)\n",
      "acc=0.604296875\n",
      "acc=0.605859375\n",
      "acc=0.6078125\n",
      "acc=0.60859375\n",
      "acc=0.6125\n",
      "acc=0.615625\n",
      "acc=0.61953125\n",
      "acc=0.62421875\n",
      "acc=0.6265625\n",
      "acc=0.628515625\n",
      "acc=0.630078125\n",
      "acc=0.630859375\n",
      "acc=0.6328125\n",
      "acc=0.63359375\n",
      "acc=0.6359375\n",
      "acc=0.637890625\n",
      "acc=0.6390625\n",
      "acc=0.641796875\n",
      "acc=0.64453125\n",
      "acc=0.64609375\n",
      "tensor(1.2011, grad_fn=<NllLossBackward0>)\n",
      "acc=0.647265625\n",
      "acc=0.64921875\n",
      "acc=0.650390625\n",
      "acc=0.652734375\n",
      "acc=0.65390625\n",
      "acc=0.654296875\n",
      "acc=0.65625\n",
      "acc=0.657421875\n",
      "acc=0.658203125\n",
      "acc=0.66015625\n",
      "acc=0.66171875\n",
      "acc=0.66328125\n",
      "acc=0.6640625\n",
      "acc=0.665625\n",
      "acc=0.66640625\n",
      "acc=0.6671875\n",
      "acc=0.668359375\n",
      "acc=0.66953125\n",
      "acc=0.669921875\n",
      "acc=0.671875\n",
      "tensor(1.1373, grad_fn=<NllLossBackward0>)\n",
      "acc=0.67265625\n",
      "acc=0.673046875\n",
      "acc=0.6734375\n",
      "acc=0.674609375\n",
      "acc=0.67578125\n",
      "acc=0.676171875\n",
      "acc=0.676953125\n",
      "acc=0.67734375\n",
      "acc=0.677734375\n",
      "acc=0.678125\n",
      "acc=0.67890625\n",
      "acc=0.679296875\n",
      "acc=0.680078125\n",
      "acc=0.68046875\n",
      "acc=0.68125\n",
      "tensor(1.0912, grad_fn=<NllLossBackward0>)\n",
      "acc=0.681640625\n",
      "acc=0.68359375\n",
      "acc=0.684375\n",
      "acc=0.684765625\n",
      "acc=0.68515625\n",
      "acc=0.685546875\n"
     ]
    },
    {
     "name": "stderr",
     "output_type": "stream",
     "text": [
      "\u001b[34m\u001b[1mwandb\u001b[0m: Network error (ConnectionError), entering retry loop.\n"
     ]
    },
    {
     "name": "stdout",
     "output_type": "stream",
     "text": [
      "acc=0.6859375\n",
      "acc=0.68671875\n",
      "acc=0.6875\n",
      "acc=0.687890625\n",
      "acc=0.688671875\n",
      "acc=0.689453125\n",
      "acc=0.68984375\n",
      "acc=0.690234375\n",
      "acc=0.690625\n",
      "acc=0.691015625\n",
      "acc=0.692578125\n"
     ]
    },
    {
     "data": {
      "text/html": [
       "Waiting for W&B process to finish... <strong style=\"color:green\">(success).</strong>"
      ],
      "text/plain": [
       "<IPython.core.display.HTML object>"
      ]
     },
     "metadata": {},
     "output_type": "display_data"
    },
    {
     "data": {
      "application/vnd.jupyter.widget-view+json": {
       "model_id": "4065248a40ad404aa7a650c4a81a90b4",
       "version_major": 2,
       "version_minor": 0
      },
      "text/plain": [
       "VBox(children=(Label(value='0.001 MB of 0.001 MB uploaded (0.000 MB deduped)\\r'), FloatProgress(value=1.0, max…"
      ]
     },
     "metadata": {},
     "output_type": "display_data"
    },
    {
     "data": {
      "text/html": [
       "<style>\n",
       "    table.wandb td:nth-child(1) { padding: 0 10px; text-align: left ; width: auto;} td:nth-child(2) {text-align: left ; width: 100%}\n",
       "    .wandb-row { display: flex; flex-direction: row; flex-wrap: wrap; justify-content: flex-start; width: 100% }\n",
       "    .wandb-col { display: flex; flex-direction: column; flex-basis: 100%; flex: 1; padding: 10px; }\n",
       "    </style>\n",
       "<div class=\"wandb-row\"><div class=\"wandb-col\"><h3>Run history:</h3><br/><table class=\"wandb\"><tr><td>epoch</td><td>▁▁▁▁▂▂▂▂▂▃▃▃▃▃▃▄▄▄▄▄▅▅▅▅▅▅▆▆▆▆▆▇▇▇▇▇▇███</td></tr><tr><td>loss</td><td>█▆▅▄▄▃▃▃▃▃▃▂▂▂▂▂▂▂▂▂▂▂▂▂▂▂▁▁▁▁▁▁▁▁▁▁▁▁▁▁</td></tr><tr><td>val_acc</td><td>▁▃▄▅▅▅▆▆▆▆▆▆▇▇▇▇▇▇▇▇▇▇▇▇████████████████</td></tr></table><br/></div><div class=\"wandb-col\"><h3>Run summary:</h3><br/><table class=\"wandb\"><tr><td>epoch</td><td>99</td></tr><tr><td>loss</td><td>1.05823</td></tr><tr><td>val_acc</td><td>0.69258</td></tr></table><br/></div></div>"
      ],
      "text/plain": [
       "<IPython.core.display.HTML object>"
      ]
     },
     "metadata": {},
     "output_type": "display_data"
    },
    {
     "data": {
      "text/html": [
       "Synced <strong style=\"color:#cdcd00\">frosty-sweep-6</strong>: <a href=\"https://wandb.ai/wtvr/model-A-new/runs/jin04v6m\" target=\"_blank\">https://wandb.ai/wtvr/model-A-new/runs/jin04v6m</a><br/>Synced 5 W&B file(s), 0 media file(s), 0 artifact file(s) and 0 other file(s)"
      ],
      "text/plain": [
       "<IPython.core.display.HTML object>"
      ]
     },
     "metadata": {},
     "output_type": "display_data"
    },
    {
     "data": {
      "text/html": [
       "Find logs at: <code>.\\wandb\\run-20240111_022405-jin04v6m\\logs</code>"
      ],
      "text/plain": [
       "<IPython.core.display.HTML object>"
      ]
     },
     "metadata": {},
     "output_type": "display_data"
    },
    {
     "name": "stderr",
     "output_type": "stream",
     "text": [
      "\u001b[34m\u001b[1mwandb\u001b[0m: Agent Starting Run: 4efghnp8 with config:\n",
      "\u001b[34m\u001b[1mwandb\u001b[0m: \tbatch_size: 32\n",
      "\u001b[34m\u001b[1mwandb\u001b[0m: \tlr: 0.009883369370418338\n"
     ]
    },
    {
     "data": {
      "text/html": [
       "wandb version 0.16.2 is available!  To upgrade, please run:\n",
       " $ pip install wandb --upgrade"
      ],
      "text/plain": [
       "<IPython.core.display.HTML object>"
      ]
     },
     "metadata": {},
     "output_type": "display_data"
    },
    {
     "data": {
      "text/html": [
       "Tracking run with wandb version 0.12.21"
      ],
      "text/plain": [
       "<IPython.core.display.HTML object>"
      ]
     },
     "metadata": {},
     "output_type": "display_data"
    },
    {
     "data": {
      "text/html": [
       "Run data is saved locally in <code>C:\\Users\\irina\\PycharmProjects\\mlpcig\\wandb\\run-20240111_073952-4efghnp8</code>"
      ],
      "text/plain": [
       "<IPython.core.display.HTML object>"
      ]
     },
     "metadata": {},
     "output_type": "display_data"
    },
    {
     "data": {
      "text/html": [
       "Syncing run <strong><a href=\"https://wandb.ai/wtvr/model-A-new/runs/4efghnp8\" target=\"_blank\">driven-sweep-7</a></strong> to <a href=\"https://wandb.ai/wtvr/model-A-new\" target=\"_blank\">Weights & Biases</a> (<a href=\"https://wandb.me/run\" target=\"_blank\">docs</a>)<br/>Sweep page:  <a href=\"https://wandb.ai/wtvr/model-A-new/sweeps/pfuiarmq\" target=\"_blank\">https://wandb.ai/wtvr/model-A-new/sweeps/pfuiarmq</a>"
      ],
      "text/plain": [
       "<IPython.core.display.HTML object>"
      ]
     },
     "metadata": {},
     "output_type": "display_data"
    },
    {
     "name": "stdout",
     "output_type": "stream",
     "text": [
      "tensor(2.0050, grad_fn=<NllLossBackward0>)\n",
      "acc=0.3984375\n",
      "acc=0.43046875\n",
      "acc=0.462890625\n",
      "acc=0.48828125\n",
      "acc=0.51171875\n",
      "acc=0.531640625\n",
      "acc=0.541796875\n",
      "acc=0.548046875\n",
      "acc=0.559375\n",
      "acc=0.563671875\n",
      "acc=0.571875\n",
      "acc=0.575\n",
      "acc=0.578515625\n",
      "acc=0.58203125\n",
      "acc=0.588671875\n",
      "acc=0.59296875\n",
      "acc=0.595703125\n",
      "acc=0.59765625\n",
      "acc=0.598828125\n",
      "acc=0.60078125\n",
      "tensor(1.3031, grad_fn=<NllLossBackward0>)\n",
      "acc=0.60390625\n",
      "acc=0.60546875\n",
      "acc=0.607421875\n",
      "acc=0.60859375\n",
      "acc=0.6125\n",
      "acc=0.61640625\n",
      "acc=0.61953125\n",
      "acc=0.6234375\n"
     ]
    },
    {
     "data": {
      "text/html": [
       "Waiting for W&B process to finish... <strong style=\"color:red\">(failed 1).</strong> Press Ctrl-C to abort syncing."
      ],
      "text/plain": [
       "<IPython.core.display.HTML object>"
      ]
     },
     "metadata": {},
     "output_type": "display_data"
    },
    {
     "data": {
      "application/vnd.jupyter.widget-view+json": {
       "model_id": "152337aa439f46d893bbd2da60a793a5",
       "version_major": 2,
       "version_minor": 0
      },
      "text/plain": [
       "VBox(children=(Label(value='0.001 MB of 0.001 MB uploaded (0.000 MB deduped)\\r'), FloatProgress(value=1.0, max…"
      ]
     },
     "metadata": {},
     "output_type": "display_data"
    },
    {
     "data": {
      "text/html": [
       "<style>\n",
       "    table.wandb td:nth-child(1) { padding: 0 10px; text-align: left ; width: auto;} td:nth-child(2) {text-align: left ; width: 100%}\n",
       "    .wandb-row { display: flex; flex-direction: row; flex-wrap: wrap; justify-content: flex-start; width: 100% }\n",
       "    .wandb-col { display: flex; flex-direction: column; flex-basis: 100%; flex: 1; padding: 10px; }\n",
       "    </style>\n",
       "<div class=\"wandb-row\"><div class=\"wandb-col\"><h3>Run history:</h3><br/><table class=\"wandb\"><tr><td>epoch</td><td>▁▁▂▂▂▂▃▃▃▃▄▄▄▄▅▅▅▅▆▆▆▆▇▇▇▇██</td></tr><tr><td>loss</td><td>█▇▆▅▄▄▃▃▃▃▂▂▂▂▂▂▂▂▂▁▁▁▁▁▁▁▁▁</td></tr><tr><td>val_acc</td><td>▁▂▃▄▅▅▅▆▆▆▆▆▇▇▇▇▇▇▇▇▇▇██████</td></tr></table><br/></div><div class=\"wandb-col\"><h3>Run summary:</h3><br/><table class=\"wandb\"><tr><td>epoch</td><td>27</td></tr><tr><td>loss</td><td>1.26022</td></tr><tr><td>val_acc</td><td>0.62344</td></tr></table><br/></div></div>"
      ],
      "text/plain": [
       "<IPython.core.display.HTML object>"
      ]
     },
     "metadata": {},
     "output_type": "display_data"
    },
    {
     "data": {
      "text/html": [
       "Synced <strong style=\"color:#cdcd00\">driven-sweep-7</strong>: <a href=\"https://wandb.ai/wtvr/model-A-new/runs/4efghnp8\" target=\"_blank\">https://wandb.ai/wtvr/model-A-new/runs/4efghnp8</a><br/>Synced 5 W&B file(s), 0 media file(s), 0 artifact file(s) and 0 other file(s)"
      ],
      "text/plain": [
       "<IPython.core.display.HTML object>"
      ]
     },
     "metadata": {},
     "output_type": "display_data"
    },
    {
     "data": {
      "text/html": [
       "Find logs at: <code>.\\wandb\\run-20240111_073952-4efghnp8\\logs</code>"
      ],
      "text/plain": [
       "<IPython.core.display.HTML object>"
      ]
     },
     "metadata": {},
     "output_type": "display_data"
    },
    {
     "name": "stderr",
     "output_type": "stream",
     "text": [
      "\u001b[34m\u001b[1mwandb\u001b[0m: Agent Starting Run: zq6wck7s with config:\n",
      "\u001b[34m\u001b[1mwandb\u001b[0m: \tbatch_size: 16\n",
      "\u001b[34m\u001b[1mwandb\u001b[0m: \tlr: 0.0034820830433215655\n"
     ]
    },
    {
     "data": {
      "text/html": [
       "wandb version 0.16.2 is available!  To upgrade, please run:\n",
       " $ pip install wandb --upgrade"
      ],
      "text/plain": [
       "<IPython.core.display.HTML object>"
      ]
     },
     "metadata": {},
     "output_type": "display_data"
    },
    {
     "data": {
      "text/html": [
       "Tracking run with wandb version 0.12.21"
      ],
      "text/plain": [
       "<IPython.core.display.HTML object>"
      ]
     },
     "metadata": {},
     "output_type": "display_data"
    },
    {
     "data": {
      "text/html": [
       "Run data is saved locally in <code>C:\\Users\\irina\\PycharmProjects\\mlpcig\\wandb\\run-20240111_080346-zq6wck7s</code>"
      ],
      "text/plain": [
       "<IPython.core.display.HTML object>"
      ]
     },
     "metadata": {},
     "output_type": "display_data"
    },
    {
     "data": {
      "text/html": [
       "Syncing run <strong><a href=\"https://wandb.ai/wtvr/model-A-new/runs/zq6wck7s\" target=\"_blank\">visionary-sweep-8</a></strong> to <a href=\"https://wandb.ai/wtvr/model-A-new\" target=\"_blank\">Weights & Biases</a> (<a href=\"https://wandb.me/run\" target=\"_blank\">docs</a>)<br/>Sweep page:  <a href=\"https://wandb.ai/wtvr/model-A-new/sweeps/pfuiarmq\" target=\"_blank\">https://wandb.ai/wtvr/model-A-new/sweeps/pfuiarmq</a>"
      ],
      "text/plain": [
       "<IPython.core.display.HTML object>"
      ]
     },
     "metadata": {},
     "output_type": "display_data"
    },
    {
     "name": "stdout",
     "output_type": "stream",
     "text": [
      "tensor(1.8686, grad_fn=<NllLossBackward0>)\n",
      "acc=0.38819875776397517\n"
     ]
    },
    {
     "data": {
      "text/html": [
       "Waiting for W&B process to finish... <strong style=\"color:red\">(failed 1).</strong> Press Ctrl-C to abort syncing."
      ],
      "text/plain": [
       "<IPython.core.display.HTML object>"
      ]
     },
     "metadata": {},
     "output_type": "display_data"
    },
    {
     "data": {
      "application/vnd.jupyter.widget-view+json": {
       "model_id": "be0287a9675247f2955ce9f9dc5ac082",
       "version_major": 2,
       "version_minor": 0
      },
      "text/plain": [
       "VBox(children=(Label(value='0.001 MB of 0.001 MB uploaded (0.000 MB deduped)\\r'), FloatProgress(value=1.0, max…"
      ]
     },
     "metadata": {},
     "output_type": "display_data"
    },
    {
     "data": {
      "text/html": [
       "<style>\n",
       "    table.wandb td:nth-child(1) { padding: 0 10px; text-align: left ; width: auto;} td:nth-child(2) {text-align: left ; width: 100%}\n",
       "    .wandb-row { display: flex; flex-direction: row; flex-wrap: wrap; justify-content: flex-start; width: 100% }\n",
       "    .wandb-col { display: flex; flex-direction: column; flex-basis: 100%; flex: 1; padding: 10px; }\n",
       "    </style>\n",
       "<div class=\"wandb-row\"><div class=\"wandb-col\"><h3>Run history:</h3><br/><table class=\"wandb\"><tr><td>epoch</td><td>▁</td></tr><tr><td>loss</td><td>▁</td></tr><tr><td>val_acc</td><td>▁</td></tr></table><br/></div><div class=\"wandb-col\"><h3>Run summary:</h3><br/><table class=\"wandb\"><tr><td>epoch</td><td>0</td></tr><tr><td>loss</td><td>1.86861</td></tr><tr><td>val_acc</td><td>0.3882</td></tr></table><br/></div></div>"
      ],
      "text/plain": [
       "<IPython.core.display.HTML object>"
      ]
     },
     "metadata": {},
     "output_type": "display_data"
    },
    {
     "data": {
      "text/html": [
       "Synced <strong style=\"color:#cdcd00\">visionary-sweep-8</strong>: <a href=\"https://wandb.ai/wtvr/model-A-new/runs/zq6wck7s\" target=\"_blank\">https://wandb.ai/wtvr/model-A-new/runs/zq6wck7s</a><br/>Synced 5 W&B file(s), 0 media file(s), 0 artifact file(s) and 0 other file(s)"
      ],
      "text/plain": [
       "<IPython.core.display.HTML object>"
      ]
     },
     "metadata": {},
     "output_type": "display_data"
    },
    {
     "data": {
      "text/html": [
       "Find logs at: <code>.\\wandb\\run-20240111_080346-zq6wck7s\\logs</code>"
      ],
      "text/plain": [
       "<IPython.core.display.HTML object>"
      ]
     },
     "metadata": {},
     "output_type": "display_data"
    },
    {
     "name": "stderr",
     "output_type": "stream",
     "text": [
      "\u001b[34m\u001b[1mwandb\u001b[0m: Ctrl + C detected. Stopping sweep.\n"
     ]
    }
   ],
   "source": [
    "#Initialize the sweep: \n",
    "sweep_id = wandb.sweep(model_config, project = \"model-A-new\")\n",
    "\n",
    "wandb.agent(sweep_id, train_and_val)"
   ]
  },
  {
   "cell_type": "code",
   "execution_count": 37,
   "metadata": {
    "scrolled": true
   },
   "outputs": [
    {
     "name": "stdout",
     "output_type": "stream",
     "text": [
      "test_acc=0.75625\n"
     ]
    }
   ],
   "source": [
    "# NEWEST Test Set Evaluation (1 point): After finishing the training, load the (already stored) best performing model, and use it for class prediction on the test set.\n",
    "# model = TheModelClass(*args, **kwargs)\n",
    "# model.load_state_dict(torch.load(PATH))\n",
    "# model.eval()\n",
    "\n",
    "best_bs = 32 #add which bs best--> looks like it's 32\n",
    "test_acc = 0\n",
    "nr_batches = 0\n",
    "model = ClassificationAverageModel(word_vecs, test_texts, best_bs)\n",
    "model.load_state_dict(torch.load('best_model_32_0.0099.pth')) #add which model\n",
    "model.eval()\n",
    "for test_batch, test_current_pos in get_batch(best_bs, max_doc_len, test_texts, smaller_word_dict):\n",
    "            out = model(test_batch, test_current_pos)\n",
    "            # get max of out\n",
    "            pred = torch.argmax(out, dim=1)\n",
    "            test_acc += (torch.sum(pred == torch.tensor(np.array(test_labels[test_current_pos-best_bs:test_current_pos]).astype('int'))).item() / best_bs)\n",
    "            nr_batches += 1\n",
    "test_acc /=nr_batches\n",
    "print(f\"{test_acc=}\")"
   ]
  },
  {
   "cell_type": "code",
   "execution_count": 105,
   "metadata": {},
   "outputs": [
    {
     "data": {
      "text/html": [
       "<div>\n",
       "<style scoped>\n",
       "    .dataframe tbody tr th:only-of-type {\n",
       "        vertical-align: middle;\n",
       "    }\n",
       "\n",
       "    .dataframe tbody tr th {\n",
       "        vertical-align: top;\n",
       "    }\n",
       "\n",
       "    .dataframe thead th {\n",
       "        text-align: right;\n",
       "    }\n",
       "</style>\n",
       "<table border=\"1\" class=\"dataframe\">\n",
       "  <thead>\n",
       "    <tr style=\"text-align: right;\">\n",
       "      <th></th>\n",
       "      <th>model</th>\n",
       "      <th>batch size</th>\n",
       "      <th>learning rate</th>\n",
       "      <th>dropout</th>\n",
       "      <th>weight_decay</th>\n",
       "      <th>validation acc.</th>\n",
       "      <th>test acc.</th>\n",
       "    </tr>\n",
       "  </thead>\n",
       "  <tbody>\n",
       "    <tr>\n",
       "      <th>0</th>\n",
       "      <td>ClassificationAverageModel</td>\n",
       "      <td>32</td>\n",
       "      <td>0.001</td>\n",
       "      <td>0</td>\n",
       "      <td>0</td>\n",
       "      <td>0.6926</td>\n",
       "      <td>0.75625</td>\n",
       "    </tr>\n",
       "  </tbody>\n",
       "</table>\n",
       "</div>"
      ],
      "text/plain": [
       "                        model  batch size  learning rate  dropout  \\\n",
       "0  ClassificationAverageModel          32          0.001        0   \n",
       "\n",
       "   weight_decay  validation acc.  test acc.  \n",
       "0             0           0.6926    0.75625  "
      ]
     },
     "execution_count": 105,
     "metadata": {},
     "output_type": "execute_result"
    }
   ],
   "source": [
    "# Reporting (1 point): Report the results of the best performing model on \n",
    "# the validation and test set in a table.\n",
    "\n",
    "results = pd.DataFrame(columns=[\"model\", \"batch size\", \"learning rate\", \"dropout\", \"weight_decay\", \"validation acc.\", \"test acc.\"])\n",
    "\n",
    "new_row = [\"ClassificationAverageModel\", 32, 0.001, 0,0, 0.6926, 0.75625]\n",
    "results.loc[0]= new_row\n",
    "results\n"
   ]
  },
  {
   "cell_type": "markdown",
   "metadata": {},
   "source": [
    "<a name=\"section-taskB\"></a><h2 style=\"color:rgb(0,120,170)\">Task B: Document Classification with BERT (15 points)</h2>"
   ]
  },
  {
   "cell_type": "markdown",
   "metadata": {},
   "source": [
    "This task aims to conduct the same document classification as Task A, but now by utilizing a pre-trained BERT model. Feel free to reuse any code from the previous task. The implementation of the classifier should cover the points below.\n",
    "\n",
    "**Loading BERT model (2 points):** Use the `transformers` library from `huggingface` to load a (small) pre-trained BERT model. Select a BERT model according to your available resources. The available models can be found [here](https://huggingface.co/models) and [here](https://github.com/google-research/bert).\n",
    "\n",
    "**BERT tokenization (3 points):** For training BERT models, we do not need to create a dictionary anymore, as a BERT model already contains an internal subword dictionary. Following the instruction in `transformers`'s documentation, tokenize the data using the BERT model.  \n",
    "\n",
    "**Model definition and forward function (5 points):** Define the class **`ClassificationBERTModel`** as a PyTorch model. In the initialization procedure, the model receives the loaded BERT model and stores it as the model's parameter. The parameters of the BERT model should be trainable. The forward function of the model receives a batch of data, passes this batch to BERT, and achieves the corresponding document embeddings from the output of BERT. Similar to the previous task, the document embeddings are used for classification by linearly transforming document embeddings to the vectors with the number of classes, followed by applying Softmax.\n",
    "\n",
    "**Training and overall functionality (3 points):** Train the model in a similar fashion to the previous task, namely with the proper loss function, optimization, and early stoping.\n",
    "\n",
    "**Test Set Evaluation (1 point):** After finishing the training, load the (already stored) best performing model, and use it for class prediction on the test set.\n",
    "\n",
    "**Reporting (1 point):** Report the results of the best performing model on the validation and test set in a table.\n"
   ]
  },
  {
   "cell_type": "code",
   "execution_count": 59,
   "metadata": {},
   "outputs": [
    {
     "name": "stderr",
     "output_type": "stream",
     "text": [
      "Some weights of the model checkpoint at bert-base-uncased were not used when initializing BertModel: ['cls.seq_relationship.weight', 'cls.predictions.transform.dense.weight', 'cls.predictions.transform.dense.bias', 'cls.predictions.transform.LayerNorm.weight', 'cls.seq_relationship.bias', 'cls.predictions.bias', 'cls.predictions.transform.LayerNorm.bias', 'cls.predictions.decoder.weight']\n",
      "- This IS expected if you are initializing BertModel from the checkpoint of a model trained on another task or with another architecture (e.g. initializing a BertForSequenceClassification model from a BertForPreTraining model).\n",
      "- This IS NOT expected if you are initializing BertModel from the checkpoint of a model that you expect to be exactly identical (initializing a BertForSequenceClassification model from a BertForSequenceClassification model).\n",
      "Some weights of the model checkpoint at prajjwal1/bert-tiny were not used when initializing BertModel: ['cls.seq_relationship.weight', 'cls.predictions.transform.dense.weight', 'cls.predictions.decoder.bias', 'cls.predictions.transform.dense.bias', 'cls.predictions.transform.LayerNorm.weight', 'cls.seq_relationship.bias', 'cls.predictions.bias', 'cls.predictions.transform.LayerNorm.bias', 'cls.predictions.decoder.weight']\n",
      "- This IS expected if you are initializing BertModel from the checkpoint of a model trained on another task or with another architecture (e.g. initializing a BertForSequenceClassification model from a BertForPreTraining model).\n",
      "- This IS NOT expected if you are initializing BertModel from the checkpoint of a model that you expect to be exactly identical (initializing a BertForSequenceClassification model from a BertForSequenceClassification model).\n"
     ]
    }
   ],
   "source": [
    "# Loading BERT model (2 points): \n",
    "# Use the transformers library from huggingface to load a (small) pre-trained BERT model. \n",
    "# Select a BERT model according to your available resources. The available models can be found here and here.\n",
    "\n",
    "from transformers import BertModel, BertTokenizer\n",
    "model = BertModel.from_pretrained(\"bert-base-uncased\")\n",
    "model = BertModel.from_pretrained(\"prajjwal1/bert-tiny\")"
   ]
  },
  {
   "cell_type": "code",
   "execution_count": 60,
   "metadata": {},
   "outputs": [],
   "source": [
    "# BERT tokenization (3 points): \n",
    "# For training BERT models, we do not need to create a dictionary anymore, \n",
    "# as a BERT model already contains an internal subword dictionary. \n",
    "# Following the instruction in transformers's documentation, \n",
    "# tokenize the data using the BERT model.\n",
    "import torch\n",
    "from torch import nn\n",
    "tokenizer = BertTokenizer.from_pretrained(\"bert-base-uncased\")\n",
    "tokenizer = BertTokenizer.from_pretrained(\"prajjwal1/bert-tiny\")\n",
    "# print(tokenizer(train_texts[0], padding='max_length', truncation=True, max_length=80))      \n",
    "\n",
    "def get_batch(bs, max_doc_len, dataset):\n",
    "    \n",
    "    batch = np.zeros((bs, max_doc_len))\n",
    "    attention_mask = np.zeros((bs, max_doc_len))\n",
    "    current_pos = 0\n",
    "    mult_factor = 0\n",
    "    \n",
    "    for i, data_point in enumerate(dataset):\n",
    "        if i+bs >= len(dataset):\n",
    "            break\n",
    "        if i % bs == 0 and i > 0:\n",
    "            current_pos += bs\n",
    "            yield torch.IntTensor(batch), torch.IntTensor(attention_mask), current_pos\n",
    "            mult_factor += 1\n",
    "     \n",
    "        batch[i-(bs*mult_factor)] = tokenizer(data_point, padding='max_length', truncation=True, max_length=80)['input_ids']\n",
    "        attention_mask[i-(bs*mult_factor)]= tokenizer(data_point, padding='max_length', truncation=True, max_length=80)['attention_mask']"
   ]
  },
  {
   "cell_type": "code",
   "execution_count": 61,
   "metadata": {},
   "outputs": [],
   "source": [
    "# EXPERIMENTS (attention: the actual best model can be found further down! please grade the best model :)"
   ]
  },
  {
   "cell_type": "code",
   "execution_count": 18,
   "metadata": {},
   "outputs": [
    {
     "data": {
      "text/plain": [
       "True"
      ]
     },
     "execution_count": 18,
     "metadata": {},
     "output_type": "execute_result"
    }
   ],
   "source": [
    "import wandb\n",
    "\n",
    "wandb.login()"
   ]
  },
  {
   "cell_type": "code",
   "execution_count": 69,
   "metadata": {},
   "outputs": [],
   "source": [
    "sweep_config = {\n",
    "    \"method\": \"bayes\",\n",
    "    #\"name\": \"sweep\",\n",
    "    \"metric\": {\"goal\": \"maximize\", \"name\": \"val_acc\"},\n",
    "    \"parameters\": {\n",
    "        \"batch_size\": {\"values\": [16, 32]},\n",
    "        \"dropout\": {\"values\": [0, 0.15, 0.2]},\n",
    "        \"lr\": {\"max\": 0.01, \"min\": 0.001},\n",
    "        \"weight_decay\": {\"values\":[1e-5, 1e-4]}\n",
    "    },\n",
    "}\n"
   ]
  },
  {
   "cell_type": "code",
   "execution_count": 70,
   "metadata": {},
   "outputs": [
    {
     "data": {
      "text/plain": [
       "{'method': 'bayes',\n",
       " 'metric': {'goal': 'maximize', 'name': 'val_acc'},\n",
       " 'parameters': {'batch_size': {'values': [16, 32]},\n",
       "  'dropout': {'values': [0, 0.15, 0.2]},\n",
       "  'lr': {'max': 0.01, 'min': 0.001},\n",
       "  'weight_decay': {'values': [1e-05, 0.0001]}}}"
      ]
     },
     "execution_count": 70,
     "metadata": {},
     "output_type": "execute_result"
    }
   ],
   "source": [
    "sweep_config"
   ]
  },
  {
   "cell_type": "code",
   "execution_count": 71,
   "metadata": {},
   "outputs": [],
   "source": [
    "# Model definition and forward function (5 points): \n",
    "# Define the class ClassificationBERTModel as a PyTorch model. \n",
    "# In the initialization procedure, the model receives the loaded BERT model \n",
    "# and stores it as the model's parameter. \n",
    "# The parameters of the BERT model should be trainable. \n",
    "# The forward function of the model receives a batch of data, passes this batch to BERT, \n",
    "# and achieves the corresponding document embeddings from the output of BERT. \n",
    "# Similar to the previous task, the document embeddings are used for classification\n",
    "# by linearly transforming document embeddings to the vectors with the number of classes, \n",
    "# followed by applying Softmax.\n",
    "\n",
    "class ClassificationBERTModel(nn.Module):\n",
    "    \n",
    "    def __init__(self, model, dropout_rate, train=True):\n",
    "        super(ClassificationBERTModel, self).__init__()\n",
    "        self.model = model # nn.Parameter(model)\n",
    "        if train:\n",
    "            self.model.train()\n",
    "            for param in self.model.parameters():\n",
    "                param.requires_grad = True\n",
    "        else:\n",
    "            self.model.eval()\n",
    "            for param in self.model.parameters():\n",
    "                param.requires_grad = False\n",
    "        # self.model.requires_grad = True\n",
    "        self.linear = nn.Linear(128,12)# smaller cuz of tiny bert, else it is around 700\n",
    "        self.softmax = nn.Softmax(dim=1)\n",
    "        self.dropout = nn.Dropout(p=dropout_rate)\n",
    "        \n",
    "    def forward(self, batch, attention_mask):\n",
    "        # batch are the input_ids of the texts...\n",
    "        # out = self.softmax(self.linear(self.model(batch)['pooler_output']))\n",
    "        # TODO pooler_output???\n",
    "        # print(self.model(batch)['pooler_output'].shape)\n",
    "        out = self.linear(self.model(batch, attention_mask)['pooler_output'])\n",
    "        out = self.dropout(out)\n",
    "        return out\n",
    "        "
   ]
  },
  {
   "cell_type": "code",
   "execution_count": 72,
   "metadata": {},
   "outputs": [
    {
     "name": "stderr",
     "output_type": "stream",
     "text": [
      "Some weights of the model checkpoint at bert-base-uncased were not used when initializing BertModel: ['cls.seq_relationship.weight', 'cls.predictions.transform.dense.weight', 'cls.predictions.transform.dense.bias', 'cls.predictions.transform.LayerNorm.weight', 'cls.seq_relationship.bias', 'cls.predictions.bias', 'cls.predictions.transform.LayerNorm.bias', 'cls.predictions.decoder.weight']\n",
      "- This IS expected if you are initializing BertModel from the checkpoint of a model trained on another task or with another architecture (e.g. initializing a BertForSequenceClassification model from a BertForPreTraining model).\n",
      "- This IS NOT expected if you are initializing BertModel from the checkpoint of a model that you expect to be exactly identical (initializing a BertForSequenceClassification model from a BertForSequenceClassification model).\n",
      "Some weights of the model checkpoint at prajjwal1/bert-tiny were not used when initializing BertModel: ['cls.seq_relationship.weight', 'cls.predictions.transform.dense.weight', 'cls.predictions.decoder.bias', 'cls.predictions.transform.dense.bias', 'cls.predictions.transform.LayerNorm.weight', 'cls.seq_relationship.bias', 'cls.predictions.bias', 'cls.predictions.transform.LayerNorm.bias', 'cls.predictions.decoder.weight']\n",
      "- This IS expected if you are initializing BertModel from the checkpoint of a model trained on another task or with another architecture (e.g. initializing a BertForSequenceClassification model from a BertForPreTraining model).\n",
      "- This IS NOT expected if you are initializing BertModel from the checkpoint of a model that you expect to be exactly identical (initializing a BertForSequenceClassification model from a BertForSequenceClassification model).\n"
     ]
    }
   ],
   "source": [
    "        \n",
    "# Training and overall functionality (3 points): \n",
    "# Train the model in a similar fashion to the previous task, \n",
    "# namely with the proper loss function, optimization, and early stoping.\n",
    "    \n",
    "model = BertModel.from_pretrained(\"bert-base-uncased\") \n",
    "model = BertModel.from_pretrained(\"prajjwal1/bert-tiny\") \n",
    "\n",
    "\n",
    "loss_fct = nn.CrossEntropyLoss() # nn.NLLLoss()\n",
    "# lr=2e-5, eps=1e-8\n",
    "\n",
    "def train_and_validate(model=model, config=None):\n",
    "    nr_epochs = 60\n",
    "    count = 0\n",
    "    #bs = 16\n",
    "    max_doc_len = 80\n",
    "    with wandb.init(config=config):\n",
    "        config = wandb.config\n",
    "        #for dr in (0.15, 0.2, 0.25):\n",
    "        old_acc = 0\n",
    "        classifier = ClassificationBERTModel(model, config.dropout)\n",
    "        optim = torch.optim.Adam(classifier.parameters(), lr=config.lr, weight_decay=config.weight_decay)\n",
    "\n",
    "        #maybe add some other variation\n",
    "        for epoch in range(nr_epochs):\n",
    "            for i, (batch, mask, current_pos) in enumerate(get_batch(config.batch_size, max_doc_len, train_texts)):\n",
    "                optim.zero_grad()\n",
    "                out = classifier.forward(batch, mask)          \n",
    "                labels = train_labels[current_pos-config.batch_size:current_pos]   \n",
    "                labels_tensor = torch.tensor(np.array(labels).astype('int'))\n",
    "                labels_tensor = labels_tensor.long()\n",
    "                loss = loss_fct(out,labels_tensor)\n",
    "                loss.backward()\n",
    "                optim.step()\n",
    "                \n",
    "            # early stopping at the end of every epoch\n",
    "            acc = 0\n",
    "            nr_batches = 0\n",
    "            \n",
    "            if epoch % 20 == 0:\n",
    "                print(loss)\n",
    "                wandb.log({\"epoch\": epoch, \"loss\": loss}, step=epoch)\n",
    "                    \n",
    "\n",
    "            with torch.no_grad():\n",
    "                for val_batch, mask, val_current_pos in get_batch(config.batch_size, max_doc_len, val_texts):\n",
    "                    out = classifier(val_batch, mask)\n",
    "                    # get max of out\n",
    "                    pred = torch.argmax(out, dim=1)\n",
    "                    acc += (torch.sum(pred == torch.tensor(np.array(val_labels[val_current_pos-config.batch_size:val_current_pos]).astype('int'))).item() / config.batch_size)\n",
    "                    nr_batches += 1\n",
    "                acc /= nr_batches\n",
    "                wandb.log({\"epoch\": epoch, \"val_acc\":acc}, step=epoch)\n",
    "                count +=1\n",
    "                if acc > old_acc:\n",
    "                    old_acc = acc\n",
    "                    print(acc)\n",
    "                    torch.save(classifier.state_dict(), 'best_model_bert2.pth')\n",
    "                    count = 0\n",
    "                if count > 10:\n",
    "                    # end training\n",
    "                    break  \n",
    "                    print('Problem') \n",
    "                    \n",
    "# TODO can add dropout, weight decay...if training loss decreases, but accuracy does not improve\n",
    "# we overfit on the training data..."
   ]
  },
  {
   "cell_type": "code",
   "execution_count": null,
   "metadata": {},
   "outputs": [],
   "source": []
  },
  {
   "cell_type": "code",
   "execution_count": 73,
   "metadata": {
    "scrolled": true
   },
   "outputs": [
    {
     "name": "stdout",
     "output_type": "stream",
     "text": [
      "Create sweep with ID: 41kp8b0j\n",
      "Sweep URL: https://wandb.ai/wtvr/bert-2/sweeps/41kp8b0j\n"
     ]
    },
    {
     "name": "stderr",
     "output_type": "stream",
     "text": [
      "\u001b[34m\u001b[1mwandb\u001b[0m: Agent Starting Run: 01qtnhqa with config:\n",
      "\u001b[34m\u001b[1mwandb\u001b[0m: \tbatch_size: 16\n",
      "\u001b[34m\u001b[1mwandb\u001b[0m: \tdropout: 0.15\n",
      "\u001b[34m\u001b[1mwandb\u001b[0m: \tlr: 0.008941086185624444\n",
      "\u001b[34m\u001b[1mwandb\u001b[0m: \tweight_decay: 1e-05\n"
     ]
    },
    {
     "data": {
      "text/html": [
       "wandb version 0.16.2 is available!  To upgrade, please run:\n",
       " $ pip install wandb --upgrade"
      ],
      "text/plain": [
       "<IPython.core.display.HTML object>"
      ]
     },
     "metadata": {},
     "output_type": "display_data"
    },
    {
     "data": {
      "text/html": [
       "Tracking run with wandb version 0.12.21"
      ],
      "text/plain": [
       "<IPython.core.display.HTML object>"
      ]
     },
     "metadata": {},
     "output_type": "display_data"
    },
    {
     "data": {
      "text/html": [
       "Run data is saved locally in <code>C:\\Users\\irina\\PycharmProjects\\mlpcig\\wandb\\run-20240111_150330-01qtnhqa</code>"
      ],
      "text/plain": [
       "<IPython.core.display.HTML object>"
      ]
     },
     "metadata": {},
     "output_type": "display_data"
    },
    {
     "data": {
      "text/html": [
       "Syncing run <strong><a href=\"https://wandb.ai/wtvr/bert-2/runs/01qtnhqa\" target=\"_blank\">drawn-sweep-1</a></strong> to <a href=\"https://wandb.ai/wtvr/bert-2\" target=\"_blank\">Weights & Biases</a> (<a href=\"https://wandb.me/run\" target=\"_blank\">docs</a>)<br/>Sweep page:  <a href=\"https://wandb.ai/wtvr/bert-2/sweeps/41kp8b0j\" target=\"_blank\">https://wandb.ai/wtvr/bert-2/sweeps/41kp8b0j</a>"
      ],
      "text/plain": [
       "<IPython.core.display.HTML object>"
      ]
     },
     "metadata": {},
     "output_type": "display_data"
    },
    {
     "name": "stdout",
     "output_type": "stream",
     "text": [
      "tensor(2.2077, grad_fn=<NllLossBackward0>)\n",
      "0.24107142857142858\n",
      "0.25077639751552794\n",
      "0.25271739130434784\n",
      "0.2573757763975155\n",
      "tensor(2.0805, grad_fn=<NllLossBackward0>)\n"
     ]
    },
    {
     "data": {
      "text/html": [
       "Waiting for W&B process to finish... <strong style=\"color:green\">(success).</strong>"
      ],
      "text/plain": [
       "<IPython.core.display.HTML object>"
      ]
     },
     "metadata": {},
     "output_type": "display_data"
    },
    {
     "data": {
      "application/vnd.jupyter.widget-view+json": {
       "model_id": "",
       "version_major": 2,
       "version_minor": 0
      },
      "text/plain": [
       "VBox(children=(Label(value='0.001 MB of 0.001 MB uploaded (0.000 MB deduped)\\r'), FloatProgress(value=1.0, max…"
      ]
     },
     "metadata": {},
     "output_type": "display_data"
    },
    {
     "data": {
      "text/html": [
       "<style>\n",
       "    table.wandb td:nth-child(1) { padding: 0 10px; text-align: left ; width: auto;} td:nth-child(2) {text-align: left ; width: 100%}\n",
       "    .wandb-row { display: flex; flex-direction: row; flex-wrap: wrap; justify-content: flex-start; width: 100% }\n",
       "    .wandb-col { display: flex; flex-direction: column; flex-basis: 100%; flex: 1; padding: 10px; }\n",
       "    </style>\n",
       "<div class=\"wandb-row\"><div class=\"wandb-col\"><h3>Run history:</h3><br/><table class=\"wandb\"><tr><td>epoch</td><td>▁▁▂▂▂▂▃▃▃▃▄▄▄▅▅▅▅▆▆▆▆▇▇▇▇██</td></tr><tr><td>loss</td><td>█▁</td></tr><tr><td>val_acc</td><td>▆▃▁▂▂▅▁▂▇▇▆▆▇▆▂█▆▂▇▂▇▆▆▇▂▆▃</td></tr></table><br/></div><div class=\"wandb-col\"><h3>Run summary:</h3><br/><table class=\"wandb\"><tr><td>epoch</td><td>26</td></tr><tr><td>loss</td><td>2.08053</td></tr><tr><td>val_acc</td><td>0.22166</td></tr></table><br/></div></div>"
      ],
      "text/plain": [
       "<IPython.core.display.HTML object>"
      ]
     },
     "metadata": {},
     "output_type": "display_data"
    },
    {
     "data": {
      "text/html": [
       "Synced <strong style=\"color:#cdcd00\">drawn-sweep-1</strong>: <a href=\"https://wandb.ai/wtvr/bert-2/runs/01qtnhqa\" target=\"_blank\">https://wandb.ai/wtvr/bert-2/runs/01qtnhqa</a><br/>Synced 5 W&B file(s), 0 media file(s), 0 artifact file(s) and 0 other file(s)"
      ],
      "text/plain": [
       "<IPython.core.display.HTML object>"
      ]
     },
     "metadata": {},
     "output_type": "display_data"
    },
    {
     "data": {
      "text/html": [
       "Find logs at: <code>.\\wandb\\run-20240111_150330-01qtnhqa\\logs</code>"
      ],
      "text/plain": [
       "<IPython.core.display.HTML object>"
      ]
     },
     "metadata": {},
     "output_type": "display_data"
    },
    {
     "name": "stderr",
     "output_type": "stream",
     "text": [
      "\u001b[34m\u001b[1mwandb\u001b[0m: Agent Starting Run: 3ezkf7z2 with config:\n",
      "\u001b[34m\u001b[1mwandb\u001b[0m: \tbatch_size: 32\n",
      "\u001b[34m\u001b[1mwandb\u001b[0m: \tdropout: 0\n",
      "\u001b[34m\u001b[1mwandb\u001b[0m: \tlr: 0.006085720461170984\n",
      "\u001b[34m\u001b[1mwandb\u001b[0m: \tweight_decay: 0.0001\n"
     ]
    },
    {
     "data": {
      "text/html": [
       "wandb version 0.16.2 is available!  To upgrade, please run:\n",
       " $ pip install wandb --upgrade"
      ],
      "text/plain": [
       "<IPython.core.display.HTML object>"
      ]
     },
     "metadata": {},
     "output_type": "display_data"
    },
    {
     "data": {
      "text/html": [
       "Tracking run with wandb version 0.12.21"
      ],
      "text/plain": [
       "<IPython.core.display.HTML object>"
      ]
     },
     "metadata": {},
     "output_type": "display_data"
    },
    {
     "data": {
      "text/html": [
       "Run data is saved locally in <code>C:\\Users\\irina\\PycharmProjects\\mlpcig\\wandb\\run-20240111_163447-3ezkf7z2</code>"
      ],
      "text/plain": [
       "<IPython.core.display.HTML object>"
      ]
     },
     "metadata": {},
     "output_type": "display_data"
    },
    {
     "data": {
      "text/html": [
       "Syncing run <strong><a href=\"https://wandb.ai/wtvr/bert-2/runs/3ezkf7z2\" target=\"_blank\">fresh-sweep-2</a></strong> to <a href=\"https://wandb.ai/wtvr/bert-2\" target=\"_blank\">Weights & Biases</a> (<a href=\"https://wandb.me/run\" target=\"_blank\">docs</a>)<br/>Sweep page:  <a href=\"https://wandb.ai/wtvr/bert-2/sweeps/41kp8b0j\" target=\"_blank\">https://wandb.ai/wtvr/bert-2/sweeps/41kp8b0j</a>"
      ],
      "text/plain": [
       "<IPython.core.display.HTML object>"
      ]
     },
     "metadata": {},
     "output_type": "display_data"
    },
    {
     "name": "stdout",
     "output_type": "stream",
     "text": [
      "tensor(2.1849, grad_fn=<NllLossBackward0>)\n",
      "0.21015625\n",
      "0.25546875\n",
      "0.257421875\n"
     ]
    },
    {
     "data": {
      "text/html": [
       "Waiting for W&B process to finish... <strong style=\"color:green\">(success).</strong>"
      ],
      "text/plain": [
       "<IPython.core.display.HTML object>"
      ]
     },
     "metadata": {},
     "output_type": "display_data"
    },
    {
     "data": {
      "application/vnd.jupyter.widget-view+json": {
       "model_id": "",
       "version_major": 2,
       "version_minor": 0
      },
      "text/plain": [
       "VBox(children=(Label(value='0.001 MB of 0.001 MB uploaded (0.000 MB deduped)\\r'), FloatProgress(value=1.0, max…"
      ]
     },
     "metadata": {},
     "output_type": "display_data"
    },
    {
     "data": {
      "text/html": [
       "<style>\n",
       "    table.wandb td:nth-child(1) { padding: 0 10px; text-align: left ; width: auto;} td:nth-child(2) {text-align: left ; width: 100%}\n",
       "    .wandb-row { display: flex; flex-direction: row; flex-wrap: wrap; justify-content: flex-start; width: 100% }\n",
       "    .wandb-col { display: flex; flex-direction: column; flex-basis: 100%; flex: 1; padding: 10px; }\n",
       "    </style>\n",
       "<div class=\"wandb-row\"><div class=\"wandb-col\"><h3>Run history:</h3><br/><table class=\"wandb\"><tr><td>epoch</td><td>▁▁▂▂▃▃▃▄▄▅▅▅▆▆▆▇▇██</td></tr><tr><td>loss</td><td>▁</td></tr><tr><td>val_acc</td><td>▁█▁▁▁▁▁█▁█▁▁█▁▁▁███</td></tr></table><br/></div><div class=\"wandb-col\"><h3>Run summary:</h3><br/><table class=\"wandb\"><tr><td>epoch</td><td>18</td></tr><tr><td>loss</td><td>2.18488</td></tr><tr><td>val_acc</td><td>0.25742</td></tr></table><br/></div></div>"
      ],
      "text/plain": [
       "<IPython.core.display.HTML object>"
      ]
     },
     "metadata": {},
     "output_type": "display_data"
    },
    {
     "data": {
      "text/html": [
       "Synced <strong style=\"color:#cdcd00\">fresh-sweep-2</strong>: <a href=\"https://wandb.ai/wtvr/bert-2/runs/3ezkf7z2\" target=\"_blank\">https://wandb.ai/wtvr/bert-2/runs/3ezkf7z2</a><br/>Synced 5 W&B file(s), 0 media file(s), 0 artifact file(s) and 0 other file(s)"
      ],
      "text/plain": [
       "<IPython.core.display.HTML object>"
      ]
     },
     "metadata": {},
     "output_type": "display_data"
    },
    {
     "data": {
      "text/html": [
       "Find logs at: <code>.\\wandb\\run-20240111_163447-3ezkf7z2\\logs</code>"
      ],
      "text/plain": [
       "<IPython.core.display.HTML object>"
      ]
     },
     "metadata": {},
     "output_type": "display_data"
    },
    {
     "name": "stderr",
     "output_type": "stream",
     "text": [
      "\u001b[34m\u001b[1mwandb\u001b[0m: Agent Starting Run: i67g6aja with config:\n",
      "\u001b[34m\u001b[1mwandb\u001b[0m: \tbatch_size: 16\n",
      "\u001b[34m\u001b[1mwandb\u001b[0m: \tdropout: 0.15\n",
      "\u001b[34m\u001b[1mwandb\u001b[0m: \tlr: 0.0018176657646935736\n",
      "\u001b[34m\u001b[1mwandb\u001b[0m: \tweight_decay: 1e-05\n"
     ]
    },
    {
     "data": {
      "text/html": [
       "wandb version 0.16.2 is available!  To upgrade, please run:\n",
       " $ pip install wandb --upgrade"
      ],
      "text/plain": [
       "<IPython.core.display.HTML object>"
      ]
     },
     "metadata": {},
     "output_type": "display_data"
    },
    {
     "data": {
      "text/html": [
       "Tracking run with wandb version 0.12.21"
      ],
      "text/plain": [
       "<IPython.core.display.HTML object>"
      ]
     },
     "metadata": {},
     "output_type": "display_data"
    },
    {
     "data": {
      "text/html": [
       "Run data is saved locally in <code>C:\\Users\\irina\\PycharmProjects\\mlpcig\\wandb\\run-20240111_172108-i67g6aja</code>"
      ],
      "text/plain": [
       "<IPython.core.display.HTML object>"
      ]
     },
     "metadata": {},
     "output_type": "display_data"
    },
    {
     "data": {
      "text/html": [
       "Syncing run <strong><a href=\"https://wandb.ai/wtvr/bert-2/runs/i67g6aja\" target=\"_blank\">deft-sweep-3</a></strong> to <a href=\"https://wandb.ai/wtvr/bert-2\" target=\"_blank\">Weights & Biases</a> (<a href=\"https://wandb.me/run\" target=\"_blank\">docs</a>)<br/>Sweep page:  <a href=\"https://wandb.ai/wtvr/bert-2/sweeps/41kp8b0j\" target=\"_blank\">https://wandb.ai/wtvr/bert-2/sweeps/41kp8b0j</a>"
      ],
      "text/plain": [
       "<IPython.core.display.HTML object>"
      ]
     },
     "metadata": {},
     "output_type": "display_data"
    },
    {
     "name": "stdout",
     "output_type": "stream",
     "text": [
      "tensor(2.0927, grad_fn=<NllLossBackward0>)\n",
      "0.2554347826086957\n"
     ]
    },
    {
     "data": {
      "text/html": [
       "Waiting for W&B process to finish... <strong style=\"color:green\">(success).</strong>"
      ],
      "text/plain": [
       "<IPython.core.display.HTML object>"
      ]
     },
     "metadata": {},
     "output_type": "display_data"
    },
    {
     "data": {
      "application/vnd.jupyter.widget-view+json": {
       "model_id": "",
       "version_major": 2,
       "version_minor": 0
      },
      "text/plain": [
       "VBox(children=(Label(value='0.001 MB of 0.001 MB uploaded (0.000 MB deduped)\\r'), FloatProgress(value=1.0, max…"
      ]
     },
     "metadata": {},
     "output_type": "display_data"
    },
    {
     "data": {
      "text/html": [
       "<style>\n",
       "    table.wandb td:nth-child(1) { padding: 0 10px; text-align: left ; width: auto;} td:nth-child(2) {text-align: left ; width: 100%}\n",
       "    .wandb-row { display: flex; flex-direction: row; flex-wrap: wrap; justify-content: flex-start; width: 100% }\n",
       "    .wandb-col { display: flex; flex-direction: column; flex-basis: 100%; flex: 1; padding: 10px; }\n",
       "    </style>\n",
       "<div class=\"wandb-row\"><div class=\"wandb-col\"><h3>Run history:</h3><br/><table class=\"wandb\"><tr><td>epoch</td><td>▁▂▂▃▄▄▅▅▆▇▇█</td></tr><tr><td>loss</td><td>▁</td></tr><tr><td>val_acc</td><td>█▂▁▇▂▂▇▁▂▂▂▇</td></tr></table><br/></div><div class=\"wandb-col\"><h3>Run summary:</h3><br/><table class=\"wandb\"><tr><td>epoch</td><td>11</td></tr><tr><td>loss</td><td>2.09274</td></tr><tr><td>val_acc</td><td>0.24884</td></tr></table><br/></div></div>"
      ],
      "text/plain": [
       "<IPython.core.display.HTML object>"
      ]
     },
     "metadata": {},
     "output_type": "display_data"
    },
    {
     "data": {
      "text/html": [
       "Synced <strong style=\"color:#cdcd00\">deft-sweep-3</strong>: <a href=\"https://wandb.ai/wtvr/bert-2/runs/i67g6aja\" target=\"_blank\">https://wandb.ai/wtvr/bert-2/runs/i67g6aja</a><br/>Synced 5 W&B file(s), 0 media file(s), 0 artifact file(s) and 0 other file(s)"
      ],
      "text/plain": [
       "<IPython.core.display.HTML object>"
      ]
     },
     "metadata": {},
     "output_type": "display_data"
    },
    {
     "data": {
      "text/html": [
       "Find logs at: <code>.\\wandb\\run-20240111_172108-i67g6aja\\logs</code>"
      ],
      "text/plain": [
       "<IPython.core.display.HTML object>"
      ]
     },
     "metadata": {},
     "output_type": "display_data"
    },
    {
     "name": "stderr",
     "output_type": "stream",
     "text": [
      "\u001b[34m\u001b[1mwandb\u001b[0m: Agent Starting Run: 0i8g864x with config:\n",
      "\u001b[34m\u001b[1mwandb\u001b[0m: \tbatch_size: 16\n",
      "\u001b[34m\u001b[1mwandb\u001b[0m: \tdropout: 0.2\n",
      "\u001b[34m\u001b[1mwandb\u001b[0m: \tlr: 0.001260954726551575\n",
      "\u001b[34m\u001b[1mwandb\u001b[0m: \tweight_decay: 1e-05\n"
     ]
    },
    {
     "data": {
      "text/html": [
       "wandb version 0.16.2 is available!  To upgrade, please run:\n",
       " $ pip install wandb --upgrade"
      ],
      "text/plain": [
       "<IPython.core.display.HTML object>"
      ]
     },
     "metadata": {},
     "output_type": "display_data"
    },
    {
     "data": {
      "text/html": [
       "Tracking run with wandb version 0.12.21"
      ],
      "text/plain": [
       "<IPython.core.display.HTML object>"
      ]
     },
     "metadata": {},
     "output_type": "display_data"
    },
    {
     "data": {
      "text/html": [
       "Run data is saved locally in <code>C:\\Users\\irina\\PycharmProjects\\mlpcig\\wandb\\run-20240111_174931-0i8g864x</code>"
      ],
      "text/plain": [
       "<IPython.core.display.HTML object>"
      ]
     },
     "metadata": {},
     "output_type": "display_data"
    },
    {
     "data": {
      "text/html": [
       "Syncing run <strong><a href=\"https://wandb.ai/wtvr/bert-2/runs/0i8g864x\" target=\"_blank\">wobbly-sweep-4</a></strong> to <a href=\"https://wandb.ai/wtvr/bert-2\" target=\"_blank\">Weights & Biases</a> (<a href=\"https://wandb.me/run\" target=\"_blank\">docs</a>)<br/>Sweep page:  <a href=\"https://wandb.ai/wtvr/bert-2/sweeps/41kp8b0j\" target=\"_blank\">https://wandb.ai/wtvr/bert-2/sweeps/41kp8b0j</a>"
      ],
      "text/plain": [
       "<IPython.core.display.HTML object>"
      ]
     },
     "metadata": {},
     "output_type": "display_data"
    },
    {
     "name": "stdout",
     "output_type": "stream",
     "text": [
      "tensor(1.9812, grad_fn=<NllLossBackward0>)\n",
      "0.3392857142857143\n",
      "0.35520186335403725\n"
     ]
    },
    {
     "data": {
      "text/html": [
       "Waiting for W&B process to finish... <strong style=\"color:green\">(success).</strong>"
      ],
      "text/plain": [
       "<IPython.core.display.HTML object>"
      ]
     },
     "metadata": {},
     "output_type": "display_data"
    },
    {
     "data": {
      "application/vnd.jupyter.widget-view+json": {
       "model_id": "",
       "version_major": 2,
       "version_minor": 0
      },
      "text/plain": [
       "VBox(children=(Label(value='0.001 MB of 0.001 MB uploaded (0.000 MB deduped)\\r'), FloatProgress(value=1.0, max…"
      ]
     },
     "metadata": {},
     "output_type": "display_data"
    },
    {
     "data": {
      "text/html": [
       "<style>\n",
       "    table.wandb td:nth-child(1) { padding: 0 10px; text-align: left ; width: auto;} td:nth-child(2) {text-align: left ; width: 100%}\n",
       "    .wandb-row { display: flex; flex-direction: row; flex-wrap: wrap; justify-content: flex-start; width: 100% }\n",
       "    .wandb-col { display: flex; flex-direction: column; flex-basis: 100%; flex: 1; padding: 10px; }\n",
       "    </style>\n",
       "<div class=\"wandb-row\"><div class=\"wandb-col\"><h3>Run history:</h3><br/><table class=\"wandb\"><tr><td>epoch</td><td>▁▁▂▂▃▃▄▄▅▅▆▆▇▇██</td></tr><tr><td>loss</td><td>▁</td></tr><tr><td>val_acc</td><td>▇▁▂▁█▇▇█▇▇█▂▂▄██</td></tr></table><br/></div><div class=\"wandb-col\"><h3>Run summary:</h3><br/><table class=\"wandb\"><tr><td>epoch</td><td>15</td></tr><tr><td>loss</td><td>1.98122</td></tr><tr><td>val_acc</td><td>0.35132</td></tr></table><br/></div></div>"
      ],
      "text/plain": [
       "<IPython.core.display.HTML object>"
      ]
     },
     "metadata": {},
     "output_type": "display_data"
    },
    {
     "data": {
      "text/html": [
       "Synced <strong style=\"color:#cdcd00\">wobbly-sweep-4</strong>: <a href=\"https://wandb.ai/wtvr/bert-2/runs/0i8g864x\" target=\"_blank\">https://wandb.ai/wtvr/bert-2/runs/0i8g864x</a><br/>Synced 5 W&B file(s), 0 media file(s), 0 artifact file(s) and 0 other file(s)"
      ],
      "text/plain": [
       "<IPython.core.display.HTML object>"
      ]
     },
     "metadata": {},
     "output_type": "display_data"
    },
    {
     "data": {
      "text/html": [
       "Find logs at: <code>.\\wandb\\run-20240111_174931-0i8g864x\\logs</code>"
      ],
      "text/plain": [
       "<IPython.core.display.HTML object>"
      ]
     },
     "metadata": {},
     "output_type": "display_data"
    },
    {
     "name": "stderr",
     "output_type": "stream",
     "text": [
      "\u001b[34m\u001b[1mwandb\u001b[0m: Agent Starting Run: oavuq7qy with config:\n",
      "\u001b[34m\u001b[1mwandb\u001b[0m: \tbatch_size: 32\n",
      "\u001b[34m\u001b[1mwandb\u001b[0m: \tdropout: 0.2\n",
      "\u001b[34m\u001b[1mwandb\u001b[0m: \tlr: 0.005606967385276124\n",
      "\u001b[34m\u001b[1mwandb\u001b[0m: \tweight_decay: 0.0001\n"
     ]
    },
    {
     "data": {
      "text/html": [
       "wandb version 0.16.2 is available!  To upgrade, please run:\n",
       " $ pip install wandb --upgrade"
      ],
      "text/plain": [
       "<IPython.core.display.HTML object>"
      ]
     },
     "metadata": {},
     "output_type": "display_data"
    },
    {
     "data": {
      "text/html": [
       "Tracking run with wandb version 0.12.21"
      ],
      "text/plain": [
       "<IPython.core.display.HTML object>"
      ]
     },
     "metadata": {},
     "output_type": "display_data"
    },
    {
     "data": {
      "text/html": [
       "Run data is saved locally in <code>C:\\Users\\irina\\PycharmProjects\\mlpcig\\wandb\\run-20240111_182442-oavuq7qy</code>"
      ],
      "text/plain": [
       "<IPython.core.display.HTML object>"
      ]
     },
     "metadata": {},
     "output_type": "display_data"
    },
    {
     "data": {
      "text/html": [
       "Syncing run <strong><a href=\"https://wandb.ai/wtvr/bert-2/runs/oavuq7qy\" target=\"_blank\">graceful-sweep-5</a></strong> to <a href=\"https://wandb.ai/wtvr/bert-2\" target=\"_blank\">Weights & Biases</a> (<a href=\"https://wandb.me/run\" target=\"_blank\">docs</a>)<br/>Sweep page:  <a href=\"https://wandb.ai/wtvr/bert-2/sweeps/41kp8b0j\" target=\"_blank\">https://wandb.ai/wtvr/bert-2/sweeps/41kp8b0j</a>"
      ],
      "text/plain": [
       "<IPython.core.display.HTML object>"
      ]
     },
     "metadata": {},
     "output_type": "display_data"
    },
    {
     "name": "stdout",
     "output_type": "stream",
     "text": [
      "tensor(2.2716, grad_fn=<NllLossBackward0>)\n",
      "0.21953125\n",
      "0.2390625\n",
      "0.24921875\n"
     ]
    },
    {
     "data": {
      "text/html": [
       "Waiting for W&B process to finish... <strong style=\"color:green\">(success).</strong>"
      ],
      "text/plain": [
       "<IPython.core.display.HTML object>"
      ]
     },
     "metadata": {},
     "output_type": "display_data"
    },
    {
     "data": {
      "application/vnd.jupyter.widget-view+json": {
       "model_id": "7f3d4788fef74b238410fdb096d60149",
       "version_major": 2,
       "version_minor": 0
      },
      "text/plain": [
       "VBox(children=(Label(value='0.001 MB of 0.001 MB uploaded (0.000 MB deduped)\\r'), FloatProgress(value=1.0, max…"
      ]
     },
     "metadata": {},
     "output_type": "display_data"
    },
    {
     "data": {
      "text/html": [
       "<style>\n",
       "    table.wandb td:nth-child(1) { padding: 0 10px; text-align: left ; width: auto;} td:nth-child(2) {text-align: left ; width: 100%}\n",
       "    .wandb-row { display: flex; flex-direction: row; flex-wrap: wrap; justify-content: flex-start; width: 100% }\n",
       "    .wandb-col { display: flex; flex-direction: column; flex-basis: 100%; flex: 1; padding: 10px; }\n",
       "    </style>\n",
       "<div class=\"wandb-row\"><div class=\"wandb-col\"><h3>Run history:</h3><br/><table class=\"wandb\"><tr><td>epoch</td><td>▁▁▂▂▃▃▃▄▄▅▅▆▆▆▇▇██</td></tr><tr><td>loss</td><td>▁</td></tr><tr><td>val_acc</td><td>▃▃▆▂▄▂██▄▅▃▂▃▁▂▂▂▇</td></tr></table><br/></div><div class=\"wandb-col\"><h3>Run summary:</h3><br/><table class=\"wandb\"><tr><td>epoch</td><td>17</td></tr><tr><td>loss</td><td>2.27164</td></tr><tr><td>val_acc</td><td>0.24336</td></tr></table><br/></div></div>"
      ],
      "text/plain": [
       "<IPython.core.display.HTML object>"
      ]
     },
     "metadata": {},
     "output_type": "display_data"
    },
    {
     "data": {
      "text/html": [
       "Synced <strong style=\"color:#cdcd00\">graceful-sweep-5</strong>: <a href=\"https://wandb.ai/wtvr/bert-2/runs/oavuq7qy\" target=\"_blank\">https://wandb.ai/wtvr/bert-2/runs/oavuq7qy</a><br/>Synced 5 W&B file(s), 0 media file(s), 0 artifact file(s) and 0 other file(s)"
      ],
      "text/plain": [
       "<IPython.core.display.HTML object>"
      ]
     },
     "metadata": {},
     "output_type": "display_data"
    },
    {
     "data": {
      "text/html": [
       "Find logs at: <code>.\\wandb\\run-20240111_182442-oavuq7qy\\logs</code>"
      ],
      "text/plain": [
       "<IPython.core.display.HTML object>"
      ]
     },
     "metadata": {},
     "output_type": "display_data"
    },
    {
     "name": "stderr",
     "output_type": "stream",
     "text": [
      "\u001b[34m\u001b[1mwandb\u001b[0m: Agent Starting Run: cad2f3ek with config:\n",
      "\u001b[34m\u001b[1mwandb\u001b[0m: \tbatch_size: 16\n",
      "\u001b[34m\u001b[1mwandb\u001b[0m: \tdropout: 0.15\n",
      "\u001b[34m\u001b[1mwandb\u001b[0m: \tlr: 0.004246267740823999\n",
      "\u001b[34m\u001b[1mwandb\u001b[0m: \tweight_decay: 0.0001\n"
     ]
    },
    {
     "data": {
      "text/html": [
       "wandb version 0.16.2 is available!  To upgrade, please run:\n",
       " $ pip install wandb --upgrade"
      ],
      "text/plain": [
       "<IPython.core.display.HTML object>"
      ]
     },
     "metadata": {},
     "output_type": "display_data"
    },
    {
     "data": {
      "text/html": [
       "Tracking run with wandb version 0.12.21"
      ],
      "text/plain": [
       "<IPython.core.display.HTML object>"
      ]
     },
     "metadata": {},
     "output_type": "display_data"
    },
    {
     "data": {
      "text/html": [
       "Run data is saved locally in <code>C:\\Users\\irina\\PycharmProjects\\mlpcig\\wandb\\run-20240111_190423-cad2f3ek</code>"
      ],
      "text/plain": [
       "<IPython.core.display.HTML object>"
      ]
     },
     "metadata": {},
     "output_type": "display_data"
    },
    {
     "data": {
      "text/html": [
       "Syncing run <strong><a href=\"https://wandb.ai/wtvr/bert-2/runs/cad2f3ek\" target=\"_blank\">eager-sweep-6</a></strong> to <a href=\"https://wandb.ai/wtvr/bert-2\" target=\"_blank\">Weights & Biases</a> (<a href=\"https://wandb.me/run\" target=\"_blank\">docs</a>)<br/>Sweep page:  <a href=\"https://wandb.ai/wtvr/bert-2/sweeps/41kp8b0j\" target=\"_blank\">https://wandb.ai/wtvr/bert-2/sweeps/41kp8b0j</a>"
      ],
      "text/plain": [
       "<IPython.core.display.HTML object>"
      ]
     },
     "metadata": {},
     "output_type": "display_data"
    },
    {
     "name": "stdout",
     "output_type": "stream",
     "text": [
      "tensor(1.9997, grad_fn=<NllLossBackward0>)\n",
      "0.2391304347826087\n",
      "0.24417701863354038\n",
      "0.2515527950310559\n",
      "0.2534937888198758\n",
      "tensor(2.0124, grad_fn=<NllLossBackward0>)\n"
     ]
    },
    {
     "data": {
      "text/html": [
       "Waiting for W&B process to finish... <strong style=\"color:green\">(success).</strong>"
      ],
      "text/plain": [
       "<IPython.core.display.HTML object>"
      ]
     },
     "metadata": {},
     "output_type": "display_data"
    },
    {
     "data": {
      "application/vnd.jupyter.widget-view+json": {
       "model_id": "566578fba46c490da779441bc0f949cf",
       "version_major": 2,
       "version_minor": 0
      },
      "text/plain": [
       "VBox(children=(Label(value='0.001 MB of 0.001 MB uploaded (0.000 MB deduped)\\r'), FloatProgress(value=1.0, max…"
      ]
     },
     "metadata": {},
     "output_type": "display_data"
    },
    {
     "data": {
      "text/html": [
       "<style>\n",
       "    table.wandb td:nth-child(1) { padding: 0 10px; text-align: left ; width: auto;} td:nth-child(2) {text-align: left ; width: 100%}\n",
       "    .wandb-row { display: flex; flex-direction: row; flex-wrap: wrap; justify-content: flex-start; width: 100% }\n",
       "    .wandb-col { display: flex; flex-direction: column; flex-basis: 100%; flex: 1; padding: 10px; }\n",
       "    </style>\n",
       "<div class=\"wandb-row\"><div class=\"wandb-col\"><h3>Run history:</h3><br/><table class=\"wandb\"><tr><td>epoch</td><td>▁▁▂▂▂▃▃▃▄▄▅▅▅▆▆▆▇▇▇██</td></tr><tr><td>loss</td><td>▁█</td></tr><tr><td>val_acc</td><td>▆▆█▂▃▂█▃▆█▁▇▃▁▁▂▆██▁▄</td></tr></table><br/></div><div class=\"wandb-col\"><h3>Run summary:</h3><br/><table class=\"wandb\"><tr><td>epoch</td><td>20</td></tr><tr><td>loss</td><td>2.01236</td></tr><tr><td>val_acc</td><td>0.23059</td></tr></table><br/></div></div>"
      ],
      "text/plain": [
       "<IPython.core.display.HTML object>"
      ]
     },
     "metadata": {},
     "output_type": "display_data"
    },
    {
     "data": {
      "text/html": [
       "Synced <strong style=\"color:#cdcd00\">eager-sweep-6</strong>: <a href=\"https://wandb.ai/wtvr/bert-2/runs/cad2f3ek\" target=\"_blank\">https://wandb.ai/wtvr/bert-2/runs/cad2f3ek</a><br/>Synced 5 W&B file(s), 0 media file(s), 0 artifact file(s) and 0 other file(s)"
      ],
      "text/plain": [
       "<IPython.core.display.HTML object>"
      ]
     },
     "metadata": {},
     "output_type": "display_data"
    },
    {
     "data": {
      "text/html": [
       "Find logs at: <code>.\\wandb\\run-20240111_190423-cad2f3ek\\logs</code>"
      ],
      "text/plain": [
       "<IPython.core.display.HTML object>"
      ]
     },
     "metadata": {},
     "output_type": "display_data"
    },
    {
     "name": "stderr",
     "output_type": "stream",
     "text": [
      "\u001b[34m\u001b[1mwandb\u001b[0m: Sweep Agent: Waiting for job.\n",
      "\u001b[34m\u001b[1mwandb\u001b[0m: Job received.\n",
      "\u001b[34m\u001b[1mwandb\u001b[0m: Agent Starting Run: ldax0bc9 with config:\n",
      "\u001b[34m\u001b[1mwandb\u001b[0m: \tbatch_size: 32\n",
      "\u001b[34m\u001b[1mwandb\u001b[0m: \tdropout: 0.15\n",
      "\u001b[34m\u001b[1mwandb\u001b[0m: \tlr: 0.0017894639279811754\n",
      "\u001b[34m\u001b[1mwandb\u001b[0m: \tweight_decay: 1e-05\n"
     ]
    },
    {
     "data": {
      "text/html": [
       "wandb version 0.16.2 is available!  To upgrade, please run:\n",
       " $ pip install wandb --upgrade"
      ],
      "text/plain": [
       "<IPython.core.display.HTML object>"
      ]
     },
     "metadata": {},
     "output_type": "display_data"
    },
    {
     "data": {
      "text/html": [
       "Tracking run with wandb version 0.12.21"
      ],
      "text/plain": [
       "<IPython.core.display.HTML object>"
      ]
     },
     "metadata": {},
     "output_type": "display_data"
    },
    {
     "data": {
      "text/html": [
       "Run data is saved locally in <code>C:\\Users\\irina\\PycharmProjects\\mlpcig\\wandb\\run-20240111_202858-ldax0bc9</code>"
      ],
      "text/plain": [
       "<IPython.core.display.HTML object>"
      ]
     },
     "metadata": {},
     "output_type": "display_data"
    },
    {
     "data": {
      "text/html": [
       "Syncing run <strong><a href=\"https://wandb.ai/wtvr/bert-2/runs/ldax0bc9\" target=\"_blank\">noble-sweep-7</a></strong> to <a href=\"https://wandb.ai/wtvr/bert-2\" target=\"_blank\">Weights & Biases</a> (<a href=\"https://wandb.me/run\" target=\"_blank\">docs</a>)<br/>Sweep page:  <a href=\"https://wandb.ai/wtvr/bert-2/sweeps/41kp8b0j\" target=\"_blank\">https://wandb.ai/wtvr/bert-2/sweeps/41kp8b0j</a>"
      ],
      "text/plain": [
       "<IPython.core.display.HTML object>"
      ]
     },
     "metadata": {},
     "output_type": "display_data"
    },
    {
     "name": "stdout",
     "output_type": "stream",
     "text": [
      "tensor(2.1512, grad_fn=<NllLossBackward0>)\n",
      "0.219921875\n",
      "0.22109375\n",
      "0.24453125\n",
      "0.248046875\n",
      "0.2546875\n",
      "tensor(2.1418, grad_fn=<NllLossBackward0>)\n",
      "0.257421875\n"
     ]
    },
    {
     "data": {
      "text/html": [
       "Waiting for W&B process to finish... <strong style=\"color:green\">(success).</strong>"
      ],
      "text/plain": [
       "<IPython.core.display.HTML object>"
      ]
     },
     "metadata": {},
     "output_type": "display_data"
    },
    {
     "data": {
      "application/vnd.jupyter.widget-view+json": {
       "model_id": "976c6502110a4e46881ba6fdc58f13b9",
       "version_major": 2,
       "version_minor": 0
      },
      "text/plain": [
       "VBox(children=(Label(value='0.001 MB of 0.001 MB uploaded (0.000 MB deduped)\\r'), FloatProgress(value=1.0, max…"
      ]
     },
     "metadata": {},
     "output_type": "display_data"
    },
    {
     "data": {
      "text/html": [
       "<style>\n",
       "    table.wandb td:nth-child(1) { padding: 0 10px; text-align: left ; width: auto;} td:nth-child(2) {text-align: left ; width: 100%}\n",
       "    .wandb-row { display: flex; flex-direction: row; flex-wrap: wrap; justify-content: flex-start; width: 100% }\n",
       "    .wandb-col { display: flex; flex-direction: column; flex-basis: 100%; flex: 1; padding: 10px; }\n",
       "    </style>\n",
       "<div class=\"wandb-row\"><div class=\"wandb-col\"><h3>Run history:</h3><br/><table class=\"wandb\"><tr><td>epoch</td><td>▁▁▁▂▂▂▂▃▃▃▃▃▄▄▄▄▅▅▅▅▅▆▆▆▆▆▇▇▇▇███</td></tr><tr><td>loss</td><td>█▁</td></tr><tr><td>val_acc</td><td>▃▂▂▁▃▂▂▂▂▃▃▂▂▂▃▆▇▂▃█▆██▇▇▆▆▆▇▇▇▆█</td></tr></table><br/></div><div class=\"wandb-col\"><h3>Run summary:</h3><br/><table class=\"wandb\"><tr><td>epoch</td><td>32</td></tr><tr><td>loss</td><td>2.14178</td></tr><tr><td>val_acc</td><td>0.25391</td></tr></table><br/></div></div>"
      ],
      "text/plain": [
       "<IPython.core.display.HTML object>"
      ]
     },
     "metadata": {},
     "output_type": "display_data"
    },
    {
     "data": {
      "text/html": [
       "Synced <strong style=\"color:#cdcd00\">noble-sweep-7</strong>: <a href=\"https://wandb.ai/wtvr/bert-2/runs/ldax0bc9\" target=\"_blank\">https://wandb.ai/wtvr/bert-2/runs/ldax0bc9</a><br/>Synced 5 W&B file(s), 0 media file(s), 0 artifact file(s) and 0 other file(s)"
      ],
      "text/plain": [
       "<IPython.core.display.HTML object>"
      ]
     },
     "metadata": {},
     "output_type": "display_data"
    },
    {
     "data": {
      "text/html": [
       "Find logs at: <code>.\\wandb\\run-20240111_202858-ldax0bc9\\logs</code>"
      ],
      "text/plain": [
       "<IPython.core.display.HTML object>"
      ]
     },
     "metadata": {},
     "output_type": "display_data"
    },
    {
     "name": "stderr",
     "output_type": "stream",
     "text": [
      "\u001b[34m\u001b[1mwandb\u001b[0m: Sweep Agent: Waiting for job.\n",
      "\u001b[34m\u001b[1mwandb\u001b[0m: Job received.\n",
      "\u001b[34m\u001b[1mwandb\u001b[0m: Agent Starting Run: 2kuchd6z with config:\n",
      "\u001b[34m\u001b[1mwandb\u001b[0m: \tbatch_size: 32\n",
      "\u001b[34m\u001b[1mwandb\u001b[0m: \tdropout: 0.15\n",
      "\u001b[34m\u001b[1mwandb\u001b[0m: \tlr: 0.008784353936440616\n",
      "\u001b[34m\u001b[1mwandb\u001b[0m: \tweight_decay: 1e-05\n"
     ]
    },
    {
     "data": {
      "text/html": [
       "wandb version 0.16.2 is available!  To upgrade, please run:\n",
       " $ pip install wandb --upgrade"
      ],
      "text/plain": [
       "<IPython.core.display.HTML object>"
      ]
     },
     "metadata": {},
     "output_type": "display_data"
    },
    {
     "data": {
      "text/html": [
       "Tracking run with wandb version 0.12.21"
      ],
      "text/plain": [
       "<IPython.core.display.HTML object>"
      ]
     },
     "metadata": {},
     "output_type": "display_data"
    },
    {
     "data": {
      "text/html": [
       "Run data is saved locally in <code>C:\\Users\\irina\\PycharmProjects\\mlpcig\\wandb\\run-20240111_222808-2kuchd6z</code>"
      ],
      "text/plain": [
       "<IPython.core.display.HTML object>"
      ]
     },
     "metadata": {},
     "output_type": "display_data"
    },
    {
     "data": {
      "text/html": [
       "Syncing run <strong><a href=\"https://wandb.ai/wtvr/bert-2/runs/2kuchd6z\" target=\"_blank\">worthy-sweep-8</a></strong> to <a href=\"https://wandb.ai/wtvr/bert-2\" target=\"_blank\">Weights & Biases</a> (<a href=\"https://wandb.me/run\" target=\"_blank\">docs</a>)<br/>Sweep page:  <a href=\"https://wandb.ai/wtvr/bert-2/sweeps/41kp8b0j\" target=\"_blank\">https://wandb.ai/wtvr/bert-2/sweeps/41kp8b0j</a>"
      ],
      "text/plain": [
       "<IPython.core.display.HTML object>"
      ]
     },
     "metadata": {},
     "output_type": "display_data"
    },
    {
     "name": "stdout",
     "output_type": "stream",
     "text": [
      "tensor(2.1690, grad_fn=<NllLossBackward0>)\n",
      "0.21796875\n",
      "0.241796875\n",
      "0.244921875\n",
      "0.248046875\n",
      "tensor(2.1548, grad_fn=<NllLossBackward0>)\n"
     ]
    },
    {
     "data": {
      "text/html": [
       "Waiting for W&B process to finish... <strong style=\"color:green\">(success).</strong>"
      ],
      "text/plain": [
       "<IPython.core.display.HTML object>"
      ]
     },
     "metadata": {},
     "output_type": "display_data"
    },
    {
     "data": {
      "application/vnd.jupyter.widget-view+json": {
       "model_id": "12944ee2521f47bbb1592e1318ce3170",
       "version_major": 2,
       "version_minor": 0
      },
      "text/plain": [
       "VBox(children=(Label(value='0.001 MB of 0.001 MB uploaded (0.000 MB deduped)\\r'), FloatProgress(value=1.0, max…"
      ]
     },
     "metadata": {},
     "output_type": "display_data"
    },
    {
     "data": {
      "text/html": [
       "<style>\n",
       "    table.wandb td:nth-child(1) { padding: 0 10px; text-align: left ; width: auto;} td:nth-child(2) {text-align: left ; width: 100%}\n",
       "    .wandb-row { display: flex; flex-direction: row; flex-wrap: wrap; justify-content: flex-start; width: 100% }\n",
       "    .wandb-col { display: flex; flex-direction: column; flex-basis: 100%; flex: 1; padding: 10px; }\n",
       "    </style>\n",
       "<div class=\"wandb-row\"><div class=\"wandb-col\"><h3>Run history:</h3><br/><table class=\"wandb\"><tr><td>epoch</td><td>▁▁▂▂▂▃▃▃▄▄▅▅▅▆▆▆▇▇▇██</td></tr><tr><td>loss</td><td>█▁</td></tr><tr><td>val_acc</td><td>▂▇▂▂▇▁▂▇▁█▆█▄▂▃▇▂▂▃▇▂</td></tr></table><br/></div><div class=\"wandb-col\"><h3>Run summary:</h3><br/><table class=\"wandb\"><tr><td>epoch</td><td>20</td></tr><tr><td>loss</td><td>2.15479</td></tr><tr><td>val_acc</td><td>0.21406</td></tr></table><br/></div></div>"
      ],
      "text/plain": [
       "<IPython.core.display.HTML object>"
      ]
     },
     "metadata": {},
     "output_type": "display_data"
    },
    {
     "data": {
      "text/html": [
       "Synced <strong style=\"color:#cdcd00\">worthy-sweep-8</strong>: <a href=\"https://wandb.ai/wtvr/bert-2/runs/2kuchd6z\" target=\"_blank\">https://wandb.ai/wtvr/bert-2/runs/2kuchd6z</a><br/>Synced 5 W&B file(s), 0 media file(s), 0 artifact file(s) and 0 other file(s)"
      ],
      "text/plain": [
       "<IPython.core.display.HTML object>"
      ]
     },
     "metadata": {},
     "output_type": "display_data"
    },
    {
     "data": {
      "text/html": [
       "Find logs at: <code>.\\wandb\\run-20240111_222808-2kuchd6z\\logs</code>"
      ],
      "text/plain": [
       "<IPython.core.display.HTML object>"
      ]
     },
     "metadata": {},
     "output_type": "display_data"
    },
    {
     "name": "stderr",
     "output_type": "stream",
     "text": [
      "\u001b[34m\u001b[1mwandb\u001b[0m: Agent Starting Run: n8wemzw9 with config:\n",
      "\u001b[34m\u001b[1mwandb\u001b[0m: \tbatch_size: 32\n",
      "\u001b[34m\u001b[1mwandb\u001b[0m: \tdropout: 0\n",
      "\u001b[34m\u001b[1mwandb\u001b[0m: \tlr: 0.003946144013753094\n",
      "\u001b[34m\u001b[1mwandb\u001b[0m: \tweight_decay: 0.0001\n"
     ]
    },
    {
     "data": {
      "text/html": [
       "wandb version 0.16.2 is available!  To upgrade, please run:\n",
       " $ pip install wandb --upgrade"
      ],
      "text/plain": [
       "<IPython.core.display.HTML object>"
      ]
     },
     "metadata": {},
     "output_type": "display_data"
    },
    {
     "data": {
      "text/html": [
       "Tracking run with wandb version 0.12.21"
      ],
      "text/plain": [
       "<IPython.core.display.HTML object>"
      ]
     },
     "metadata": {},
     "output_type": "display_data"
    },
    {
     "data": {
      "text/html": [
       "Run data is saved locally in <code>C:\\Users\\irina\\PycharmProjects\\mlpcig\\wandb\\run-20240111_233026-n8wemzw9</code>"
      ],
      "text/plain": [
       "<IPython.core.display.HTML object>"
      ]
     },
     "metadata": {},
     "output_type": "display_data"
    },
    {
     "data": {
      "text/html": [
       "Syncing run <strong><a href=\"https://wandb.ai/wtvr/bert-2/runs/n8wemzw9\" target=\"_blank\">distinctive-sweep-9</a></strong> to <a href=\"https://wandb.ai/wtvr/bert-2\" target=\"_blank\">Weights & Biases</a> (<a href=\"https://wandb.me/run\" target=\"_blank\">docs</a>)<br/>Sweep page:  <a href=\"https://wandb.ai/wtvr/bert-2/sweeps/41kp8b0j\" target=\"_blank\">https://wandb.ai/wtvr/bert-2/sweeps/41kp8b0j</a>"
      ],
      "text/plain": [
       "<IPython.core.display.HTML object>"
      ]
     },
     "metadata": {},
     "output_type": "display_data"
    },
    {
     "name": "stdout",
     "output_type": "stream",
     "text": [
      "tensor(2.1898, grad_fn=<NllLossBackward0>)\n",
      "0.21015625\n"
     ]
    },
    {
     "data": {
      "text/html": [
       "Waiting for W&B process to finish... <strong style=\"color:red\">(failed 1).</strong> Press Ctrl-C to abort syncing."
      ],
      "text/plain": [
       "<IPython.core.display.HTML object>"
      ]
     },
     "metadata": {},
     "output_type": "display_data"
    },
    {
     "data": {
      "application/vnd.jupyter.widget-view+json": {
       "model_id": "cbf530c453b148489140ca54163e181e",
       "version_major": 2,
       "version_minor": 0
      },
      "text/plain": [
       "VBox(children=(Label(value='0.001 MB of 0.001 MB uploaded (0.000 MB deduped)\\r'), FloatProgress(value=1.0, max…"
      ]
     },
     "metadata": {},
     "output_type": "display_data"
    },
    {
     "data": {
      "text/html": [
       "<style>\n",
       "    table.wandb td:nth-child(1) { padding: 0 10px; text-align: left ; width: auto;} td:nth-child(2) {text-align: left ; width: 100%}\n",
       "    .wandb-row { display: flex; flex-direction: row; flex-wrap: wrap; justify-content: flex-start; width: 100% }\n",
       "    .wandb-col { display: flex; flex-direction: column; flex-basis: 100%; flex: 1; padding: 10px; }\n",
       "    </style>\n",
       "<div class=\"wandb-row\"><div class=\"wandb-col\"><h3>Run history:</h3><br/><table class=\"wandb\"><tr><td>epoch</td><td>▁</td></tr><tr><td>loss</td><td>▁</td></tr><tr><td>val_acc</td><td>▁</td></tr></table><br/></div><div class=\"wandb-col\"><h3>Run summary:</h3><br/><table class=\"wandb\"><tr><td>epoch</td><td>0</td></tr><tr><td>loss</td><td>2.18977</td></tr><tr><td>val_acc</td><td>0.21016</td></tr></table><br/></div></div>"
      ],
      "text/plain": [
       "<IPython.core.display.HTML object>"
      ]
     },
     "metadata": {},
     "output_type": "display_data"
    },
    {
     "data": {
      "text/html": [
       "Synced <strong style=\"color:#cdcd00\">distinctive-sweep-9</strong>: <a href=\"https://wandb.ai/wtvr/bert-2/runs/n8wemzw9\" target=\"_blank\">https://wandb.ai/wtvr/bert-2/runs/n8wemzw9</a><br/>Synced 5 W&B file(s), 0 media file(s), 0 artifact file(s) and 0 other file(s)"
      ],
      "text/plain": [
       "<IPython.core.display.HTML object>"
      ]
     },
     "metadata": {},
     "output_type": "display_data"
    },
    {
     "data": {
      "text/html": [
       "Find logs at: <code>.\\wandb\\run-20240111_233026-n8wemzw9\\logs</code>"
      ],
      "text/plain": [
       "<IPython.core.display.HTML object>"
      ]
     },
     "metadata": {},
     "output_type": "display_data"
    },
    {
     "name": "stderr",
     "output_type": "stream",
     "text": [
      "\u001b[34m\u001b[1mwandb\u001b[0m: Agent Starting Run: js9p0pil with config:\n",
      "\u001b[34m\u001b[1mwandb\u001b[0m: \tbatch_size: 32\n",
      "\u001b[34m\u001b[1mwandb\u001b[0m: \tdropout: 0\n",
      "\u001b[34m\u001b[1mwandb\u001b[0m: \tlr: 0.0017900396559058795\n",
      "\u001b[34m\u001b[1mwandb\u001b[0m: \tweight_decay: 0.0001\n"
     ]
    },
    {
     "data": {
      "text/html": [
       "wandb version 0.16.2 is available!  To upgrade, please run:\n",
       " $ pip install wandb --upgrade"
      ],
      "text/plain": [
       "<IPython.core.display.HTML object>"
      ]
     },
     "metadata": {},
     "output_type": "display_data"
    },
    {
     "data": {
      "text/html": [
       "Tracking run with wandb version 0.12.21"
      ],
      "text/plain": [
       "<IPython.core.display.HTML object>"
      ]
     },
     "metadata": {},
     "output_type": "display_data"
    },
    {
     "data": {
      "text/html": [
       "Run data is saved locally in <code>C:\\Users\\irina\\PycharmProjects\\mlpcig\\wandb\\run-20240111_233247-js9p0pil</code>"
      ],
      "text/plain": [
       "<IPython.core.display.HTML object>"
      ]
     },
     "metadata": {},
     "output_type": "display_data"
    },
    {
     "data": {
      "text/html": [
       "Syncing run <strong><a href=\"https://wandb.ai/wtvr/bert-2/runs/js9p0pil\" target=\"_blank\">stellar-sweep-10</a></strong> to <a href=\"https://wandb.ai/wtvr/bert-2\" target=\"_blank\">Weights & Biases</a> (<a href=\"https://wandb.me/run\" target=\"_blank\">docs</a>)<br/>Sweep page:  <a href=\"https://wandb.ai/wtvr/bert-2/sweeps/41kp8b0j\" target=\"_blank\">https://wandb.ai/wtvr/bert-2/sweeps/41kp8b0j</a>"
      ],
      "text/plain": [
       "<IPython.core.display.HTML object>"
      ]
     },
     "metadata": {},
     "output_type": "display_data"
    },
    {
     "data": {
      "text/html": [
       "Waiting for W&B process to finish... <strong style=\"color:red\">(failed 1).</strong> Press Ctrl-C to abort syncing."
      ],
      "text/plain": [
       "<IPython.core.display.HTML object>"
      ]
     },
     "metadata": {},
     "output_type": "display_data"
    },
    {
     "data": {
      "application/vnd.jupyter.widget-view+json": {
       "model_id": "d26d4485fd8d4c4aa23c3e03edc629eb",
       "version_major": 2,
       "version_minor": 0
      },
      "text/plain": [
       "VBox(children=(Label(value='0.001 MB of 0.001 MB uploaded (0.000 MB deduped)\\r'), FloatProgress(value=1.0, max…"
      ]
     },
     "metadata": {},
     "output_type": "display_data"
    },
    {
     "data": {
      "text/html": [
       "Synced <strong style=\"color:#cdcd00\">stellar-sweep-10</strong>: <a href=\"https://wandb.ai/wtvr/bert-2/runs/js9p0pil\" target=\"_blank\">https://wandb.ai/wtvr/bert-2/runs/js9p0pil</a><br/>Synced 4 W&B file(s), 0 media file(s), 0 artifact file(s) and 0 other file(s)"
      ],
      "text/plain": [
       "<IPython.core.display.HTML object>"
      ]
     },
     "metadata": {},
     "output_type": "display_data"
    },
    {
     "data": {
      "text/html": [
       "Find logs at: <code>.\\wandb\\run-20240111_233247-js9p0pil\\logs</code>"
      ],
      "text/plain": [
       "<IPython.core.display.HTML object>"
      ]
     },
     "metadata": {},
     "output_type": "display_data"
    },
    {
     "name": "stderr",
     "output_type": "stream",
     "text": [
      "\u001b[34m\u001b[1mwandb\u001b[0m: Agent Starting Run: h4krwipk with config:\n",
      "\u001b[34m\u001b[1mwandb\u001b[0m: \tbatch_size: 32\n",
      "\u001b[34m\u001b[1mwandb\u001b[0m: \tdropout: 0.2\n",
      "\u001b[34m\u001b[1mwandb\u001b[0m: \tlr: 0.0014008705513425131\n",
      "\u001b[34m\u001b[1mwandb\u001b[0m: \tweight_decay: 1e-05\n"
     ]
    },
    {
     "data": {
      "text/html": [
       "wandb version 0.16.2 is available!  To upgrade, please run:\n",
       " $ pip install wandb --upgrade"
      ],
      "text/plain": [
       "<IPython.core.display.HTML object>"
      ]
     },
     "metadata": {},
     "output_type": "display_data"
    },
    {
     "data": {
      "text/html": [
       "Tracking run with wandb version 0.12.21"
      ],
      "text/plain": [
       "<IPython.core.display.HTML object>"
      ]
     },
     "metadata": {},
     "output_type": "display_data"
    },
    {
     "data": {
      "text/html": [
       "Run data is saved locally in <code>C:\\Users\\irina\\PycharmProjects\\mlpcig\\wandb\\run-20240111_233403-h4krwipk</code>"
      ],
      "text/plain": [
       "<IPython.core.display.HTML object>"
      ]
     },
     "metadata": {},
     "output_type": "display_data"
    },
    {
     "data": {
      "text/html": [
       "Syncing run <strong><a href=\"https://wandb.ai/wtvr/bert-2/runs/h4krwipk\" target=\"_blank\">earnest-sweep-11</a></strong> to <a href=\"https://wandb.ai/wtvr/bert-2\" target=\"_blank\">Weights & Biases</a> (<a href=\"https://wandb.me/run\" target=\"_blank\">docs</a>)<br/>Sweep page:  <a href=\"https://wandb.ai/wtvr/bert-2/sweeps/41kp8b0j\" target=\"_blank\">https://wandb.ai/wtvr/bert-2/sweeps/41kp8b0j</a>"
      ],
      "text/plain": [
       "<IPython.core.display.HTML object>"
      ]
     },
     "metadata": {},
     "output_type": "display_data"
    },
    {
     "data": {
      "text/html": [
       "Waiting for W&B process to finish... <strong style=\"color:red\">(failed 1).</strong> Press Ctrl-C to abort syncing."
      ],
      "text/plain": [
       "<IPython.core.display.HTML object>"
      ]
     },
     "metadata": {},
     "output_type": "display_data"
    },
    {
     "data": {
      "application/vnd.jupyter.widget-view+json": {
       "model_id": "c01d528fa531451d985e5b6678680441",
       "version_major": 2,
       "version_minor": 0
      },
      "text/plain": [
       "VBox(children=(Label(value='0.001 MB of 0.001 MB uploaded (0.000 MB deduped)\\r'), FloatProgress(value=1.0, max…"
      ]
     },
     "metadata": {},
     "output_type": "display_data"
    },
    {
     "data": {
      "text/html": [
       "Synced <strong style=\"color:#cdcd00\">earnest-sweep-11</strong>: <a href=\"https://wandb.ai/wtvr/bert-2/runs/h4krwipk\" target=\"_blank\">https://wandb.ai/wtvr/bert-2/runs/h4krwipk</a><br/>Synced 4 W&B file(s), 0 media file(s), 0 artifact file(s) and 0 other file(s)"
      ],
      "text/plain": [
       "<IPython.core.display.HTML object>"
      ]
     },
     "metadata": {},
     "output_type": "display_data"
    },
    {
     "data": {
      "text/html": [
       "Find logs at: <code>.\\wandb\\run-20240111_233403-h4krwipk\\logs</code>"
      ],
      "text/plain": [
       "<IPython.core.display.HTML object>"
      ]
     },
     "metadata": {},
     "output_type": "display_data"
    },
    {
     "name": "stderr",
     "output_type": "stream",
     "text": [
      "\u001b[34m\u001b[1mwandb\u001b[0m: Ctrl + C detected. Stopping sweep.\n"
     ]
    }
   ],
   "source": [
    "#Initialize the sweep: \n",
    "sweep_id = wandb.sweep(sweep_config, project = \"bert-2\")\n",
    "\n",
    "wandb.agent(sweep_id, train_and_validate)"
   ]
  },
  {
   "cell_type": "code",
   "execution_count": 83,
   "metadata": {
    "scrolled": true
   },
   "outputs": [
    {
     "name": "stderr",
     "output_type": "stream",
     "text": [
      "Some weights of the model checkpoint at bert-base-uncased were not used when initializing BertModel: ['cls.seq_relationship.weight', 'cls.predictions.transform.dense.weight', 'cls.predictions.transform.dense.bias', 'cls.predictions.transform.LayerNorm.weight', 'cls.seq_relationship.bias', 'cls.predictions.bias', 'cls.predictions.transform.LayerNorm.bias', 'cls.predictions.decoder.weight']\n",
      "- This IS expected if you are initializing BertModel from the checkpoint of a model trained on another task or with another architecture (e.g. initializing a BertForSequenceClassification model from a BertForPreTraining model).\n",
      "- This IS NOT expected if you are initializing BertModel from the checkpoint of a model that you expect to be exactly identical (initializing a BertForSequenceClassification model from a BertForSequenceClassification model).\n",
      "Some weights of the model checkpoint at prajjwal1/bert-tiny were not used when initializing BertModel: ['cls.seq_relationship.weight', 'cls.predictions.transform.dense.weight', 'cls.predictions.decoder.bias', 'cls.predictions.transform.dense.bias', 'cls.predictions.transform.LayerNorm.weight', 'cls.seq_relationship.bias', 'cls.predictions.bias', 'cls.predictions.transform.LayerNorm.bias', 'cls.predictions.decoder.weight']\n",
      "- This IS expected if you are initializing BertModel from the checkpoint of a model trained on another task or with another architecture (e.g. initializing a BertForSequenceClassification model from a BertForPreTraining model).\n",
      "- This IS NOT expected if you are initializing BertModel from the checkpoint of a model that you expect to be exactly identical (initializing a BertForSequenceClassification model from a BertForSequenceClassification model).\n"
     ]
    },
    {
     "name": "stdout",
     "output_type": "stream",
     "text": [
      "test_acc_bart=0.24107142857142858\n"
     ]
    }
   ],
   "source": [
    "# Test Set Evaluation (1 point): After finishing the training, \n",
    "# load the (already stored) best performing model, \n",
    "# and use it for class prediction on the test set.\n",
    "model = BertModel.from_pretrained(\"bert-base-uncased\")\n",
    "model = BertModel.from_pretrained(\"prajjwal1/bert-tiny\") \n",
    "best_dropout = 0.2\n",
    "classifier = ClassificationBERTModel(model, train=False\n",
    "                                     ,dropout_rate = best_dropout\n",
    "                                    )\n",
    "classifier.load_state_dict(torch.load('best_model_bert.pth'))\n",
    "best_batch_size = 16\n",
    "nr_batches=0\n",
    "test_acc_bart = 0\n",
    "# classifier.eval()\n",
    "\n",
    "for test_batch, mask, test_current_pos in get_batch(best_batch_size, max_doc_len, test_texts):\n",
    "        out = classifier(test_batch, mask)\n",
    "        # get max of out\n",
    "        pred = torch.argmax(out, dim=1)\n",
    "        #print(pred)\n",
    "        #print(test_labels[test_current_pos-best_batch_size:test_current_pos])\n",
    "        test_acc_bart += (torch.sum(pred == torch.tensor(np.array(test_labels[test_current_pos-best_batch_size:test_current_pos]).astype('int'))).item() / best_batch_size)\n",
    "        nr_batches += 1\n",
    "test_acc_bart /=nr_batches\n",
    "print(f\"{test_acc_bart=}\")\n",
    "\n",
    "# Reporting (1 point): Report the results of the best performing model on \n",
    "# the validation and test set in a table."
   ]
  },
  {
   "cell_type": "code",
   "execution_count": null,
   "metadata": {},
   "outputs": [],
   "source": [
    "# ACTUAL BEST MODEL"
   ]
  },
  {
   "cell_type": "code",
   "execution_count": 84,
   "metadata": {},
   "outputs": [],
   "source": [
    "\n",
    "class ClassificationBERTModel_old(nn.Module):\n",
    "    \n",
    "    def __init__(self, model, train=True):\n",
    "        super(ClassificationBERTModel_old, self).__init__()\n",
    "        self.model = model # nn.Parameter(model)\n",
    "        if train:\n",
    "            self.model.train()\n",
    "            for param in self.model.parameters():\n",
    "                param.requires_grad = True\n",
    "        else:\n",
    "            self.model.eval()\n",
    "            for param in self.model.parameters():\n",
    "                param.requires_grad = False\n",
    "        # self.model.requires_grad = True\n",
    "        self.linear = nn.Linear(128,12)# smaller cuz of tiny bert, else it is around 700\n",
    "        self.softmax = nn.Softmax(dim=1)\n",
    "        \n",
    "    def forward(self, batch, attention_mask):\n",
    "        # batch are the input_ids of the texts...\n",
    "        # out = self.softmax(self.linear(self.model(batch)['pooler_output']))\n",
    "        # TODO pooler_output???\n",
    "        # print(self.model(batch)['pooler_output'].shape)\n",
    "        out = self.linear(self.model(batch, attention_mask)['pooler_output'])\n",
    "        return out\n",
    "        "
   ]
  },
  {
   "cell_type": "code",
   "execution_count": 91,
   "metadata": {},
   "outputs": [
    {
     "name": "stderr",
     "output_type": "stream",
     "text": [
      "Some weights of the model checkpoint at bert-base-uncased were not used when initializing BertModel: ['cls.seq_relationship.weight', 'cls.predictions.transform.dense.weight', 'cls.predictions.transform.dense.bias', 'cls.predictions.transform.LayerNorm.weight', 'cls.seq_relationship.bias', 'cls.predictions.bias', 'cls.predictions.transform.LayerNorm.bias', 'cls.predictions.decoder.weight']\n",
      "- This IS expected if you are initializing BertModel from the checkpoint of a model trained on another task or with another architecture (e.g. initializing a BertForSequenceClassification model from a BertForPreTraining model).\n",
      "- This IS NOT expected if you are initializing BertModel from the checkpoint of a model that you expect to be exactly identical (initializing a BertForSequenceClassification model from a BertForSequenceClassification model).\n",
      "Some weights of the model checkpoint at prajjwal1/bert-tiny were not used when initializing BertModel: ['cls.seq_relationship.weight', 'cls.predictions.transform.dense.weight', 'cls.predictions.decoder.bias', 'cls.predictions.transform.dense.bias', 'cls.predictions.transform.LayerNorm.weight', 'cls.seq_relationship.bias', 'cls.predictions.bias', 'cls.predictions.transform.LayerNorm.bias', 'cls.predictions.decoder.weight']\n",
      "- This IS expected if you are initializing BertModel from the checkpoint of a model trained on another task or with another architecture (e.g. initializing a BertForSequenceClassification model from a BertForPreTraining model).\n",
      "- This IS NOT expected if you are initializing BertModel from the checkpoint of a model that you expect to be exactly identical (initializing a BertForSequenceClassification model from a BertForSequenceClassification model).\n"
     ]
    },
    {
     "name": "stdout",
     "output_type": "stream",
     "text": [
      "tensor(0.7615, grad_fn=<NllLossBackward0>)\n",
      "0.7437888198757764\n",
      "0.7775621118012422\n",
      "0.7927018633540373\n",
      "0.7961956521739131\n",
      "0.8000776397515528\n",
      "Problem\n",
      "Problem\n",
      "Problem\n",
      "tensor(0.0029, grad_fn=<NllLossBackward0>)\n",
      "Problem\n",
      "Problem\n",
      "Problem\n",
      "Problem\n",
      "Problem\n",
      "Problem\n",
      "Problem\n",
      "Problem\n",
      "Problem\n",
      "Problem\n",
      "Problem\n",
      "Problem\n",
      "Problem\n",
      "Problem\n",
      "Problem\n",
      "Problem\n",
      "Problem\n",
      "Problem\n"
     ]
    },
    {
     "ename": "KeyboardInterrupt",
     "evalue": "",
     "output_type": "error",
     "traceback": [
      "\u001b[1;31m---------------------------------------------------------------------------\u001b[0m",
      "\u001b[1;31mKeyboardInterrupt\u001b[0m                         Traceback (most recent call last)",
      "Cell \u001b[1;32mIn[91], line 28\u001b[0m\n\u001b[0;32m     26\u001b[0m     loss \u001b[38;5;241m=\u001b[39m loss_fct(out,labels_tensor)\n\u001b[0;32m     27\u001b[0m     \u001b[38;5;66;03m#loss = loss_fct(out, torch.tensor(np.array(labels).astype('int')))\u001b[39;00m\n\u001b[1;32m---> 28\u001b[0m     \u001b[43mloss\u001b[49m\u001b[38;5;241;43m.\u001b[39;49m\u001b[43mbackward\u001b[49m\u001b[43m(\u001b[49m\u001b[43m)\u001b[49m\n\u001b[0;32m     29\u001b[0m     optim\u001b[38;5;241m.\u001b[39mstep()\n\u001b[0;32m     30\u001b[0m \u001b[38;5;28;01mif\u001b[39;00m epoch \u001b[38;5;241m%\u001b[39m \u001b[38;5;241m20\u001b[39m \u001b[38;5;241m==\u001b[39m \u001b[38;5;241m0\u001b[39m:\n",
      "File \u001b[1;32m~\\PycharmProjects\\mlpcig\\venv\\lib\\site-packages\\torch\\_tensor.py:488\u001b[0m, in \u001b[0;36mTensor.backward\u001b[1;34m(self, gradient, retain_graph, create_graph, inputs)\u001b[0m\n\u001b[0;32m    478\u001b[0m \u001b[38;5;28;01mif\u001b[39;00m has_torch_function_unary(\u001b[38;5;28mself\u001b[39m):\n\u001b[0;32m    479\u001b[0m     \u001b[38;5;28;01mreturn\u001b[39;00m handle_torch_function(\n\u001b[0;32m    480\u001b[0m         Tensor\u001b[38;5;241m.\u001b[39mbackward,\n\u001b[0;32m    481\u001b[0m         (\u001b[38;5;28mself\u001b[39m,),\n\u001b[1;32m   (...)\u001b[0m\n\u001b[0;32m    486\u001b[0m         inputs\u001b[38;5;241m=\u001b[39minputs,\n\u001b[0;32m    487\u001b[0m     )\n\u001b[1;32m--> 488\u001b[0m \u001b[43mtorch\u001b[49m\u001b[38;5;241;43m.\u001b[39;49m\u001b[43mautograd\u001b[49m\u001b[38;5;241;43m.\u001b[39;49m\u001b[43mbackward\u001b[49m\u001b[43m(\u001b[49m\n\u001b[0;32m    489\u001b[0m \u001b[43m    \u001b[49m\u001b[38;5;28;43mself\u001b[39;49m\u001b[43m,\u001b[49m\u001b[43m \u001b[49m\u001b[43mgradient\u001b[49m\u001b[43m,\u001b[49m\u001b[43m \u001b[49m\u001b[43mretain_graph\u001b[49m\u001b[43m,\u001b[49m\u001b[43m \u001b[49m\u001b[43mcreate_graph\u001b[49m\u001b[43m,\u001b[49m\u001b[43m \u001b[49m\u001b[43minputs\u001b[49m\u001b[38;5;241;43m=\u001b[39;49m\u001b[43minputs\u001b[49m\n\u001b[0;32m    490\u001b[0m \u001b[43m\u001b[49m\u001b[43m)\u001b[49m\n",
      "File \u001b[1;32m~\\PycharmProjects\\mlpcig\\venv\\lib\\site-packages\\torch\\autograd\\__init__.py:197\u001b[0m, in \u001b[0;36mbackward\u001b[1;34m(tensors, grad_tensors, retain_graph, create_graph, grad_variables, inputs)\u001b[0m\n\u001b[0;32m    192\u001b[0m     retain_graph \u001b[38;5;241m=\u001b[39m create_graph\n\u001b[0;32m    194\u001b[0m \u001b[38;5;66;03m# The reason we repeat same the comment below is that\u001b[39;00m\n\u001b[0;32m    195\u001b[0m \u001b[38;5;66;03m# some Python versions print out the first line of a multi-line function\u001b[39;00m\n\u001b[0;32m    196\u001b[0m \u001b[38;5;66;03m# calls in the traceback and some print out the last line\u001b[39;00m\n\u001b[1;32m--> 197\u001b[0m \u001b[43mVariable\u001b[49m\u001b[38;5;241;43m.\u001b[39;49m\u001b[43m_execution_engine\u001b[49m\u001b[38;5;241;43m.\u001b[39;49m\u001b[43mrun_backward\u001b[49m\u001b[43m(\u001b[49m\u001b[43m  \u001b[49m\u001b[38;5;66;43;03m# Calls into the C++ engine to run the backward pass\u001b[39;49;00m\n\u001b[0;32m    198\u001b[0m \u001b[43m    \u001b[49m\u001b[43mtensors\u001b[49m\u001b[43m,\u001b[49m\u001b[43m \u001b[49m\u001b[43mgrad_tensors_\u001b[49m\u001b[43m,\u001b[49m\u001b[43m \u001b[49m\u001b[43mretain_graph\u001b[49m\u001b[43m,\u001b[49m\u001b[43m \u001b[49m\u001b[43mcreate_graph\u001b[49m\u001b[43m,\u001b[49m\u001b[43m \u001b[49m\u001b[43minputs\u001b[49m\u001b[43m,\u001b[49m\n\u001b[0;32m    199\u001b[0m \u001b[43m    \u001b[49m\u001b[43mallow_unreachable\u001b[49m\u001b[38;5;241;43m=\u001b[39;49m\u001b[38;5;28;43;01mTrue\u001b[39;49;00m\u001b[43m,\u001b[49m\u001b[43m \u001b[49m\u001b[43maccumulate_grad\u001b[49m\u001b[38;5;241;43m=\u001b[39;49m\u001b[38;5;28;43;01mTrue\u001b[39;49;00m\u001b[43m)\u001b[49m\n",
      "\u001b[1;31mKeyboardInterrupt\u001b[0m: "
     ]
    }
   ],
   "source": [
    "# Training and overall functionality (3 points): \n",
    "# Train the model in a similar fashion to the previous task, \n",
    "# namely with the proper loss function, optimization, and early stoping.\n",
    "    \n",
    "model = BertModel.from_pretrained(\"bert-base-uncased\") \n",
    "model = BertModel.from_pretrained(\"prajjwal1/bert-tiny\") \n",
    "\n",
    "classifier = ClassificationBERTModel_old(model)\n",
    "loss_fct = nn.CrossEntropyLoss() # nn.NLLLoss()\n",
    "# lr=2e-5, eps=1e-8\n",
    "optim = torch.optim.Adam(classifier.parameters(), 5e-5)\n",
    "\n",
    "val_acc_bart = 0\n",
    "nr_epochs = 60\n",
    "count = 0\n",
    "bs = 16\n",
    "max_doc_len = 80\n",
    "\n",
    "for epoch in range(nr_epochs):\n",
    "    for i, (batch, mask, current_pos) in enumerate(get_batch(bs, max_doc_len, train_texts)):\n",
    "        optim.zero_grad()\n",
    "        out = classifier.forward(batch, mask)          \n",
    "        labels = train_labels[current_pos-bs:current_pos]  \n",
    "        labels_tensor = torch.tensor(np.array(labels).astype('int'))\n",
    "        labels_tensor = labels_tensor.long()\n",
    "        loss = loss_fct(out,labels_tensor)\n",
    "        #loss = loss_fct(out, torch.tensor(np.array(labels).astype('int')))\n",
    "        loss.backward()\n",
    "        optim.step()\n",
    "    if epoch % 20 == 0:\n",
    "        print(loss)\n",
    "            \n",
    "    # early stopping at the end of every epoch\n",
    "    acc = 0\n",
    "    nr_batches = 0\n",
    "    with torch.no_grad():\n",
    "        for val_batch, mask, val_current_pos in get_batch(bs, max_doc_len, val_texts):\n",
    "            out = classifier(val_batch, mask)\n",
    "            # get max of out\n",
    "            pred = torch.argmax(out, dim=1)\n",
    "            acc += (torch.sum(pred == torch.tensor(np.array(val_labels[val_current_pos-bs:val_current_pos]).astype('int'))).item() / bs)\n",
    "            nr_batches += 1\n",
    "        acc /= nr_batches\n",
    "        count +=1\n",
    "        if acc > val_acc_bart:\n",
    "            val_acc_bart = acc\n",
    "            print(acc)\n",
    "            torch.save(classifier.state_dict(), 'best_model_recent.pth')\n",
    "            count = 0\n",
    "        if count > 10:\n",
    "            # end training\n",
    "            # break  \n",
    "            print('Problem') \n",
    "            "
   ]
  },
  {
   "cell_type": "code",
   "execution_count": 88,
   "metadata": {
    "scrolled": true
   },
   "outputs": [
    {
     "name": "stderr",
     "output_type": "stream",
     "text": [
      "Some weights of the model checkpoint at bert-base-uncased were not used when initializing BertModel: ['cls.seq_relationship.weight', 'cls.predictions.transform.dense.weight', 'cls.predictions.transform.dense.bias', 'cls.predictions.transform.LayerNorm.weight', 'cls.seq_relationship.bias', 'cls.predictions.bias', 'cls.predictions.transform.LayerNorm.bias', 'cls.predictions.decoder.weight']\n",
      "- This IS expected if you are initializing BertModel from the checkpoint of a model trained on another task or with another architecture (e.g. initializing a BertForSequenceClassification model from a BertForPreTraining model).\n",
      "- This IS NOT expected if you are initializing BertModel from the checkpoint of a model that you expect to be exactly identical (initializing a BertForSequenceClassification model from a BertForSequenceClassification model).\n",
      "Some weights of the model checkpoint at prajjwal1/bert-tiny were not used when initializing BertModel: ['cls.seq_relationship.weight', 'cls.predictions.transform.dense.weight', 'cls.predictions.decoder.bias', 'cls.predictions.transform.dense.bias', 'cls.predictions.transform.LayerNorm.weight', 'cls.seq_relationship.bias', 'cls.predictions.bias', 'cls.predictions.transform.LayerNorm.bias', 'cls.predictions.decoder.weight']\n",
      "- This IS expected if you are initializing BertModel from the checkpoint of a model trained on another task or with another architecture (e.g. initializing a BertForSequenceClassification model from a BertForPreTraining model).\n",
      "- This IS NOT expected if you are initializing BertModel from the checkpoint of a model that you expect to be exactly identical (initializing a BertForSequenceClassification model from a BertForSequenceClassification model).\n"
     ]
    },
    {
     "name": "stdout",
     "output_type": "stream",
     "text": [
      "test_acc_bart=0.8140527950310559\n"
     ]
    }
   ],
   "source": [
    "# Test Set Evaluation (1 point): After finishing the training, \n",
    "# load the (already stored) best performing model, \n",
    "# and use it for class prediction on the test set.\n",
    "model = BertModel.from_pretrained(\"bert-base-uncased\")\n",
    "model = BertModel.from_pretrained(\"prajjwal1/bert-tiny\") \n",
    "classifier = ClassificationBERTModel_old(model, train=False)\n",
    "classifier.load_state_dict(torch.load('best_model.pth'))\n",
    "best_batch_size = 16\n",
    "nr_batches=0\n",
    "test_acc_bart = 0\n",
    "# classifier.eval()\n",
    "\n",
    "for test_batch, mask, test_current_pos in get_batch(best_batch_size, max_doc_len, test_texts):\n",
    "        out = classifier(test_batch, mask)\n",
    "        # get max of out\n",
    "        pred = torch.argmax(out, dim=1)\n",
    "        #print(pred)\n",
    "        #print(test_labels[test_current_pos-best_batch_size:test_current_pos])\n",
    "        test_acc_bart += (torch.sum(pred == torch.tensor(np.array(test_labels[test_current_pos-best_batch_size:test_current_pos]).astype('int'))).item() / best_batch_size)\n",
    "        nr_batches += 1\n",
    "test_acc_bart /=nr_batches\n",
    "print(f\"{test_acc_bart=}\")\n"
   ]
  },
  {
   "cell_type": "code",
   "execution_count": 103,
   "metadata": {},
   "outputs": [
    {
     "data": {
      "text/html": [
       "<div>\n",
       "<style scoped>\n",
       "    .dataframe tbody tr th:only-of-type {\n",
       "        vertical-align: middle;\n",
       "    }\n",
       "\n",
       "    .dataframe tbody tr th {\n",
       "        vertical-align: top;\n",
       "    }\n",
       "\n",
       "    .dataframe thead th {\n",
       "        text-align: right;\n",
       "    }\n",
       "</style>\n",
       "<table border=\"1\" class=\"dataframe\">\n",
       "  <thead>\n",
       "    <tr style=\"text-align: right;\">\n",
       "      <th></th>\n",
       "      <th>model</th>\n",
       "      <th>batch size</th>\n",
       "      <th>learning rate</th>\n",
       "      <th>dropout</th>\n",
       "      <th>weight_decay</th>\n",
       "      <th>validation acc.</th>\n",
       "      <th>test acc.</th>\n",
       "    </tr>\n",
       "  </thead>\n",
       "  <tbody>\n",
       "    <tr>\n",
       "      <th>0</th>\n",
       "      <td>ClassificationBERTModel_old</td>\n",
       "      <td>16</td>\n",
       "      <td>0.00005</td>\n",
       "      <td>0</td>\n",
       "      <td>0</td>\n",
       "      <td>0.800078</td>\n",
       "      <td>0.814053</td>\n",
       "    </tr>\n",
       "  </tbody>\n",
       "</table>\n",
       "</div>"
      ],
      "text/plain": [
       "                         model  batch size  learning rate  dropout  \\\n",
       "0  ClassificationBERTModel_old          16        0.00005        0   \n",
       "\n",
       "   weight_decay  validation acc.  test acc.  \n",
       "0             0         0.800078   0.814053  "
      ]
     },
     "execution_count": 103,
     "metadata": {},
     "output_type": "execute_result"
    }
   ],
   "source": [
    "# Reporting (1 point): Report the results of the best performing model on \n",
    "# the validation and test set in a table.\n",
    "\n",
    "results_bart = pd.DataFrame(columns=[\"model\", \"batch size\", \"learning rate\", \"dropout\", \"weight_decay\", \"validation acc.\", \"test acc.\"])\n",
    "\n",
    "new_row_data = [\"ClassificationBERTModel_old\", 16, 5e-5, 0, 0, val_acc_bart, test_acc_bart]\n",
    "results_bart.loc[0]= new_row_data\n",
    "results_bart"
   ]
  },
  {
   "cell_type": "code",
   "execution_count": null,
   "metadata": {},
   "outputs": [],
   "source": [
    "#----------------------------------------------------- the end"
   ]
  }
 ],
 "metadata": {
  "kernelspec": {
   "display_name": "Python 3 (ipykernel)",
   "language": "python",
   "name": "python3"
  },
  "language_info": {
   "codemirror_mode": {
    "name": "ipython",
    "version": 3
   },
   "file_extension": ".py",
   "mimetype": "text/x-python",
   "name": "python",
   "nbconvert_exporter": "python",
   "pygments_lexer": "ipython3",
   "version": "3.9.13"
  }
 },
 "nbformat": 4,
 "nbformat_minor": 4
}
